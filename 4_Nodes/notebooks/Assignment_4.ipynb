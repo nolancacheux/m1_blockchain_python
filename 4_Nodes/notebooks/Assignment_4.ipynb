{
 "cells": [
  {
   "cell_type": "markdown",
   "id": "d29f683c",
   "metadata": {},
   "source": [
    "# Assignment 4\n",
    "\n",
    "***\n",
    "\n",
    "*Peer-to-peer*\n",
    "\n",
    "***\n",
    "\n",
    "The last major part of your blockchain in Python boils down to the **management of communication between the different actors in the network** of this blockchain. Now that you have defined all the rules governing the stability and security of your blockchain on your local machine, you still need to manage the sending and receiving of information with others on the network, who will probably try to cheat you with blocks that turn the system to their advantage.\n",
    "\n",
    "Remember the concepts discussed in class: a **node** is an entity operating on the communication network and interacting with other nodes. For our blockchain, a node ensures the management of the blockchain locally and shares it on the network, while providing easy access to any user who connects to it. Its tasks include:\n",
    "* Keeping a copy of the blockchain\n",
    "* Allowing a \"human\" user to consult or feed this local blockchain with new information\n",
    "* Sharing the new information received with other nodes on the network\n",
    "* Filtering information from other nodes to destroy what is not legal\n",
    "\n",
    "Don't worry, you don't have to implement the purely *networking* part of peer-to-peer. In this assignment, you will work with a class that **simulates a peer-to-peer network**. You will only need to implement the four behaviors described above."
   ]
  },
  {
   "cell_type": "code",
   "execution_count": 1,
   "id": "a1352751",
   "metadata": {
    "ExecuteTime": {
     "end_time": "2025-02-03T14:38:39.510522Z",
     "start_time": "2025-02-03T14:38:39.484686Z"
    }
   },
   "outputs": [],
   "source": [
    "# Mandatory cell, please execute it\n",
    "\n",
    "%load_ext autoreload\n",
    "%autoreload 2\n",
    "\n",
    "from sys import path\n",
    "\n",
    "path.append('../scripts')"
   ]
  },
  {
   "cell_type": "markdown",
   "id": "53c04d21",
   "metadata": {},
   "source": [
    "### Node\n",
    "\n",
    "The term **node** is not specific to blockchain. Generally, in any communication network, a \"**node**\" describes an entity that **sends messages to other nodes** and **receives messages from other nodes**.\n",
    "\n",
    "With this Assignment 4, you have downloaded a new folder \"**scripts**\" which contains a folder \"**network**\". You must place this \"network\" folder in the same location as your \"helpers\" folder. Your folder architecture should be as follows:\n",
    "\n",
    "* SomeFolder\n",
    "    * scripts\n",
    "        * helpers\n",
    "            * ...\n",
    "        * network\n",
    "            * \\_\\_init\\_\\_.py\n",
    "            * dummy_node.py\n",
    "            * node_base.py\n",
    "        * Your Python scripts...\n",
    "    * notebooks\n",
    "        * **This notebook**\n",
    "    * ...\n",
    "\n",
    "This folder contains a `Node` class that simulates a network node. You can access it by writing `from network import Node`, and then making your class inherit from `Node`. If you do this, you must do two things in your class:\n",
    "* Call the constructor of `Node` by doing `super().__init__(nodeIdentifier)` where `nodeIdentifier` is an identifier of your choice, to distinguish the nodes in the network. Take inspiration from the example in the following cell as well as your work on the `Block` class which inherits from `Certificate` and passes to the constructor of `Certificate` the public key of the issuer.\n",
    "* Implement the function `receive_object_from_node(obj, nodeIdentifier)`, which is used to receive objects sent to you by other nodes in the network (again, see the following cell for an example).\n",
    "\n",
    "Furthermore, you can also use the Node class to send objects to other nodes in the network, via two functions:\n",
    "* `self.send_object_to_node(object, nodeIdentifier)`: Sends the Python object `object` to the node whose identifier is `nodeIdentifier`. The `receive_object_from_node` function implemented in the node with the identifier `nodeIdentifier` will then be called with the parameters `object` and `nodeIdentifier` in order.\n",
    "* `self.broadcast_object(object)`: Identical to the previous function, but this time it sends the Python object `object` to all nodes in the network (except ourselves).\n",
    "\n",
    "You can certainly rewrite them in your class that inherits from `Node`, but don't forget to call their parent class by doing `super().send_object_to_node(object, nodeIdentifier)` or `super().broadcast_object(object)`, otherwise the network behavior will be broken (see cell just after).\n",
    "\n",
    "**The following cells illustrate an example of use**."
   ]
  },
  {
   "cell_type": "code",
   "execution_count": 2,
   "id": "385e9c68",
   "metadata": {
    "ExecuteTime": {
     "end_time": "2025-02-03T14:39:12.875754Z",
     "start_time": "2025-02-03T14:39:12.854084Z"
    }
   },
   "outputs": [],
   "source": [
    "from network import Node\n",
    "\n",
    "# Creating a mini class \"ExampleNode\", which inherits the \"Node\" class.\n",
    "# You will need to do the same for your \"BlockchainNode\" class.\n",
    "# The code snippet between the two lines will probably be the same for your \"BlockchainNode\" class.\n",
    "# The rest is just here for demonstration purposes.\n",
    "\n",
    "class ExampleNode(Node):\n",
    "    \n",
    "    #———————————————————————————————————————————————————————————————————————————————————————————————————\n",
    "    \n",
    "    # We call \"Node\"'s constructor to register the node identifier\n",
    "    \n",
    "    def __init__(self, nodeIdentifier):\n",
    "        super().__init__(nodeIdentifier)\n",
    "        \n",
    "    # The following function serves as a receiver for any data sent by other node to us\n",
    "        \n",
    "    def receive_object_from_node(self, obj, senderNodeIdentifier):\n",
    "        if isinstance(obj, int):\n",
    "            self.print(f\"\\\"{senderNodeIdentifier}\\\" sent me the integer \\\"{obj}\\\"\")\n",
    "        elif isinstance(obj, str):\n",
    "            self.print(f\"\\\"{senderNodeIdentifier}\\\" sent me the string \\\"{obj}\\\"\")\n",
    "        elif isinstance(obj, bool):\n",
    "            self.print(f\"\\\"{senderNodeIdentifier}\\\" sent me the boolean \\\"{obj}\\\"\")\n",
    "        else:\n",
    "            self.print(f\"I do not know the type of data \\\"{senderNodeIdentifier}\\\" just sent me...\")\n",
    "            \n",
    "    #———————————————————————————————————————————————————————————————————————————————————————————————————\n",
    "        \n",
    "    # Small print function\n",
    "        \n",
    "    def print(self, message):\n",
    "        print(f'[{self.nodeIdentifier}] {message}')\n",
    "            \n",
    "    # Here we CAN (not mandatory) override the send_object_to_node function to include a pretty print\n",
    "            \n",
    "    def send_object_to_node(self, obj, nodeIdentifier):\n",
    "        self.print(f\"I am sending the data \\\"{obj}\\\" to \\\"{nodeIdentifier}\\\"\")\n",
    "        super().send_object_to_node(obj, nodeIdentifier)\n",
    "            \n",
    "    # ...here too\n",
    "        \n",
    "    def broadcast_object(self, obj):\n",
    "        self.print(f\"I am sending the data \\\"{obj}\\\" to EVERYBODY!\")\n",
    "        super().broadcast_object(obj)\n",
    "        \n",
    "# We reset the whole network to avoid duplicate nodes\n",
    "Node.reset_network()\n",
    "        \n",
    "# Creating 3 nodes on the network\n",
    "exampleNode1 = ExampleNode(\"Example Node 1\")\n",
    "exampleNode2 = ExampleNode(\"Example Node 2\")\n",
    "exampleNode3 = ExampleNode(\"Example Node 3\")"
   ]
  },
  {
   "cell_type": "markdown",
   "id": "144d4cba",
   "metadata": {},
   "source": [
    "```\"Example Node 1\"``` sends the integer ```42``` to ```\"Example Node 2\"```"
   ]
  },
  {
   "cell_type": "code",
   "execution_count": 3,
   "id": "23a81fd1",
   "metadata": {
    "ExecuteTime": {
     "end_time": "2025-02-03T14:39:13.959103Z",
     "start_time": "2025-02-03T14:39:13.941971Z"
    }
   },
   "outputs": [
    {
     "name": "stdout",
     "output_type": "stream",
     "text": [
      "[Example Node 1] I am sending the data \"42\" to \"Example Node 2\"\n",
      "[Example Node 2] \"Example Node 1\" sent me the integer \"42\"\n"
     ]
    }
   ],
   "source": [
    "exampleNode1.send_object_to_node(42, \"Example Node 2\")"
   ]
  },
  {
   "cell_type": "markdown",
   "id": "c05f81bc",
   "metadata": {},
   "source": [
    "```\"Example Node 2\"``` sends the string ```\"bonjour\"``` to ```\"Example Node 3\"```"
   ]
  },
  {
   "cell_type": "code",
   "execution_count": 4,
   "id": "2df91670",
   "metadata": {
    "ExecuteTime": {
     "end_time": "2025-02-03T14:39:14.713205Z",
     "start_time": "2025-02-03T14:39:14.694577Z"
    }
   },
   "outputs": [
    {
     "name": "stdout",
     "output_type": "stream",
     "text": [
      "[Example Node 2] I am sending the data \"bonjour\" to \"Example Node 3\"\n",
      "[Example Node 3] \"Example Node 2\" sent me the string \"bonjour\"\n"
     ]
    }
   ],
   "source": [
    "exampleNode2.send_object_to_node(\"bonjour\", \"Example Node 3\")"
   ]
  },
  {
   "cell_type": "markdown",
   "id": "9fba55fc",
   "metadata": {},
   "source": [
    "Notice how the type of data is recognized by the receiver, as per how we implemented it in the cell.\n",
    "\n",
    "***\n",
    "\n",
    "```\"Example Node 3\"``` sends the **decimal number** ```3.14159``` (Pi) to everybody."
   ]
  },
  {
   "cell_type": "code",
   "execution_count": 5,
   "id": "a0e1d88c",
   "metadata": {
    "ExecuteTime": {
     "end_time": "2025-02-03T14:39:16.553270Z",
     "start_time": "2025-02-03T14:39:16.536653Z"
    }
   },
   "outputs": [
    {
     "name": "stdout",
     "output_type": "stream",
     "text": [
      "[Example Node 3] I am sending the data \"3.14159\" to EVERYBODY!\n",
      "[Example Node 3] I am sending the data \"3.14159\" to \"Example Node 1\"\n",
      "[Example Node 1] I do not know the type of data \"Example Node 3\" just sent me...\n",
      "[Example Node 3] I am sending the data \"3.14159\" to \"Example Node 2\"\n",
      "[Example Node 2] I do not know the type of data \"Example Node 3\" just sent me...\n"
     ]
    }
   ],
   "source": [
    "exampleNode3.broadcast_object(3.14159)"
   ]
  },
  {
   "cell_type": "markdown",
   "id": "e135020d",
   "metadata": {},
   "source": [
    "### Blockchain Nodes\n",
    "\n",
    "In the same way that nodes exchange Python objects in our above example, nodes in the blockchain network exchange information (blocks and certificates) among themselves.\n",
    "\n",
    "In our current configuration, which you have obtained after completing Assignments 2 and 3, we are going to implement the `BlockchainNode` class. The goal of this class is to combine the blockchain and the consensus algorithm to, on the one hand, participate in the creation of blocks on the blockchain, and on the other hand, filter out bad additions and modifications to it. All this takes place on a network of nodes.\n",
    "\n",
    "Your class should inherit from `Node` to enable communication with other nodes in the network. Again, refer to the example with the `ExampleNode` class above.\n",
    "\n",
    "***\n",
    "\n",
    "<font color=\"7777aa\">In \"scripts\", create the file `node.py`, in which you must implement the `BlockchainNode` class. In its constructor, in addition to initializing the `Node` class, you need to take care of initializing each component of the node:\n",
    "* a `wallet` **(which you will pass as an argument to the constructor)** to have a digital identity on the blockchain, as well as to sign and forge blocks,\n",
    "* a consensus algorithm `consensusAlgorithm` **(which you will also pass as an argument to the constructor)**,\n",
    "* a `blockchain` that will be synchronized with that of other nodes. **Do not pass it as an argument; it must be created from scratch by the node.**</font>\n",
    "\n",
    "> <details><summary><strong>Click here for help</strong></summary>As a node identifier, you could, for example, use the public key of the node's wallet, but it's really up to you...</details>"
   ]
  },
  {
   "cell_type": "code",
   "execution_count": 6,
   "id": "49f5367a",
   "metadata": {
    "ExecuteTime": {
     "end_time": "2025-02-03T14:39:27.373737Z",
     "start_time": "2025-02-03T14:39:26.459725Z"
    }
   },
   "outputs": [
    {
     "data": {
      "text/plain": [
       "'Success!'"
      ]
     },
     "execution_count": 6,
     "metadata": {},
     "output_type": "execute_result"
    }
   ],
   "source": [
    "from wallet import Wallet\n",
    "from node import BlockchainNode\n",
    "from proof_of_stake import ProofOfStake\n",
    "\n",
    "# First node's wallet, also the default forger\n",
    "defaultForgerWallet = Wallet()\n",
    "\n",
    "# We use Proof-of-Stake (PoS) for our blockchain\n",
    "proofOfStake = ProofOfStake(defaultForgerWallet.publicKey)\n",
    "\n",
    "Node.reset_network()  # We completely reset the network\n",
    "node1 = BlockchainNode(defaultForgerWallet, proofOfStake)  # Creating first node\n",
    "\n",
    "assert node1.wallet.publicKey == proofOfStake.defaultForgerPublicKey # Node's wallet is the default forger\n",
    "assert node1.consensusAlgorithm == proofOfStake                      # It knows we are using PoS\n",
    "assert node1.nodeIdentifier                                          # It has a node identifier\n",
    "assert node1.blockchain.is_legit()                                   # Its blockchain exists and is legit\n",
    "\n",
    "\"Success!\""
   ]
  },
  {
   "cell_type": "markdown",
   "id": "35335ecf",
   "metadata": {},
   "source": [
    "For the rest of this Assignment, we'll need 4 humans that are interacting with the blockchain."
   ]
  },
  {
   "cell_type": "code",
   "execution_count": 7,
   "id": "6ed8fead",
   "metadata": {
    "ExecuteTime": {
     "end_time": "2025-02-03T14:39:31.350287Z",
     "start_time": "2025-02-03T14:39:28.374284Z"
    }
   },
   "outputs": [],
   "source": [
    "Alice = Wallet()    # Alice's wallet\n",
    "Bob = Wallet()      # Bob's wallet\n",
    "Charlie = Wallet()  # Charlie's wallet\n",
    "Delphine = Wallet() # Delphine's wallet\n",
    "\n",
    "humans = [Alice, Bob, Charlie, Delphine]  # A list with our 4 humans\n",
    "\n",
    "# We will keep track of each certificates\n",
    "certificates = {\n",
    "    Alice: [],\n",
    "    Bob: [],\n",
    "    Charlie: [],\n",
    "    Delphine: []\n",
    "}"
   ]
  },
  {
   "cell_type": "markdown",
   "id": "adfba0b8",
   "metadata": {},
   "source": [
    "### Certificate Box\n",
    "\n",
    "As we discussed in the course on consensus algorithms, certificates are only added to a block at the time of forging that block. Until then, they need to be stored somewhere.\n",
    "\n",
    "It is common practice for each node to keep a \"certificate box\" in which it places the certificates given to it (whether they come from a human or another node) and only empties it when forging a block.\n",
    "\n",
    "Remember: **certificates are always unique in the blockchain!!** Two certificates that have the same hash are strictly identical (same issuer, same creation date, and same data). Normally, issuing the same certificate twice in a blockchain is prohibited, and if this happens, it is probably a duplicate and therefore should be discarded.\n",
    "\n",
    "In Python, there is a data structure that acts a bit like a list but refuses duplicates: this is the `set()`. When you add an object `object` to a set `dummySet` using `dummySet.add(object)`, Python first checks if this object already exists in `dummySet`, and if so, adds nothing. Similarly, you can remove an object with `dummySet.remove(object)` and check if an object is present with `if object in dummySet: ...`. **Be aware though, sets are not indexed like lists, which means you cannot get the i-th element using** `dummySet[i]`**.**\n",
    "\n",
    "Thus, you can be sure that all your objects in `dummySet` are present in only **one single copy**.\n",
    "\n",
    "A set works with hashes to check the presence or absence of a Python object in itself. When you want to add, remove, or verify the presence of an object in the set, it compares the hash of the object with the hashes of the objects present in the set. This is convenient because our certificates already have a `hash()` function and an `equals(otherCertificate)` function. We just need to make Python understand that it should use these functions for the set.\n",
    "\n",
    "***\n",
    "\n",
    "For hashing any object, Python has a generic function `hash(object)` that takes an object as input and returns an **integer**. In reality, `hash(object)` is strictly equivalent to `object.__hash__()`, and therefore every Python object has a `__hash__()` function.\n",
    "\n",
    "<font color=\"7777aa\">In your `Certificate` class, rewrite the `__hash__()` function so that it uses your `hash()` function defined in Tutorial 2. **Remember that it must return an integer!! Not a hexadecimal string...**</font>\n",
    "\n",
    "> <details><summary><strong>Click here for help</strong></summary>Remember that to convert a hexadecimal string to an integer, you can use the function <code>int(hashString, 16)</code></details>"
   ]
  },
  {
   "cell_type": "code",
   "execution_count": 8,
   "id": "02b39331",
   "metadata": {
    "ExecuteTime": {
     "end_time": "2025-02-03T14:39:33.561247Z",
     "start_time": "2025-02-03T14:39:33.536055Z"
    }
   },
   "outputs": [
    {
     "data": {
      "text/plain": [
       "\"Success! Certificate's hash : 623909730657527120\""
      ]
     },
     "execution_count": 8,
     "metadata": {},
     "output_type": "execute_result"
    }
   ],
   "source": [
    "from certificate import Certificate\n",
    "\n",
    "# Two certificates created at the exact same time by the same person : they are identical\n",
    "dummyCertificate1 = Certificate(Alice.publicKey)\n",
    "dummyCertificate2 = Certificate(Alice.publicKey)\n",
    "\n",
    "# ...However, it is possible that successive calls to timestamp.now() yield timestamps 1 milliseconds apart...\n",
    "dummyCertificate2.timestamp = dummyCertificate1.timestamp\n",
    "\n",
    "assert isinstance(hash(dummyCertificate1), int)            # The hash is an integer\n",
    "assert hash(dummyCertificate1) == hash(dummyCertificate2)  # Both certificates have the same hash (using Python's hash function)\n",
    "\n",
    "f\"Success! Certificate's hash : {hash(dummyCertificate1)}\""
   ]
  },
  {
   "cell_type": "markdown",
   "id": "9b2a968d",
   "metadata": {},
   "source": [
    "Similar to the hashing process, when you perform `object1 == object2` in Python, what actually happens behind the scenes is that Python executes `object1.__eq__(object2)` (assuming neither of the objects is `None`).\n",
    "\n",
    "<font color=\"7777aa\">In your `Certificate` class, rewrite the `__eq__(otherCertificate)` function so that it uses your `equals(otherCertificate)` function defined in Tutorial 2.</font>"
   ]
  },
  {
   "cell_type": "code",
   "execution_count": 9,
   "id": "11e099f7",
   "metadata": {
    "ExecuteTime": {
     "end_time": "2025-02-03T14:39:35.637572Z",
     "start_time": "2025-02-03T14:39:35.617784Z"
    }
   },
   "outputs": [
    {
     "data": {
      "text/plain": [
       "'Success!'"
      ]
     },
     "execution_count": 9,
     "metadata": {},
     "output_type": "execute_result"
    }
   ],
   "source": [
    "assert dummyCertificate1 == dummyCertificate2  # Both certificates are different but considered identical\n",
    "\n",
    "\"Success!\""
   ]
  },
  {
   "cell_type": "markdown",
   "id": "45782d35",
   "metadata": {},
   "source": [
    "Now, we can use `set`s properly with our certificates."
   ]
  },
  {
   "cell_type": "code",
   "execution_count": 10,
   "id": "b722dd4a",
   "metadata": {
    "ExecuteTime": {
     "end_time": "2025-02-03T14:39:38.295043Z",
     "start_time": "2025-02-03T14:39:38.271381Z"
    }
   },
   "outputs": [
    {
     "data": {
      "text/plain": [
       "'Success!'"
      ]
     },
     "execution_count": 10,
     "metadata": {},
     "output_type": "execute_result"
    }
   ],
   "source": [
    "dummySet = set()\n",
    "\n",
    "# We try to add both identical certificates to the set\n",
    "dummySet.add(dummyCertificate1)\n",
    "dummySet.add(dummyCertificate2)\n",
    "\n",
    "assert len(dummySet) == 1              # The set discarded the \"duplicate\" certificate\n",
    "assert dummyCertificate1 in dummySet   # The first certificate is inside the set\n",
    "assert dummyCertificate2 in dummySet   # The second certificate too since it is \"identical\"\n",
    "\n",
    "dummySet.remove(dummyCertificate2)  # Here we remove the second certificate (which was never here in the first place since it got discarded)\n",
    "\n",
    "assert len(dummySet) == 0   # We nonetheless end up with an empty set\n",
    "\n",
    "\"Success!\""
   ]
  },
  {
   "cell_type": "markdown",
   "id": "90ad31d5",
   "metadata": {},
   "source": [
    "Returning to your certificate box, using a set will give you exactly the desired behavior: a collection of unique certificates. Therefore, you can now equip your node with a certificate box.\n",
    "\n",
    "***\n",
    "\n",
    "<font color=\"7777aa\">Add to your `BlockchainNode` constructor the initialization of the field `self.__certificateBox = set()`. The double underscores `__` make the field private, in the same way as you did with the private key of the wallet, because we do not want to give users full control over the addition and removal of certificates (especially as we do not want to see illegal certificates in there).</font>"
   ]
  },
  {
   "cell_type": "code",
   "execution_count": 11,
   "id": "9a25607b",
   "metadata": {
    "ExecuteTime": {
     "end_time": "2025-02-03T14:39:39.792029Z",
     "start_time": "2025-02-03T14:39:39.770497Z"
    }
   },
   "outputs": [
    {
     "data": {
      "text/plain": [
       "'Success!'"
      ]
     },
     "execution_count": 11,
     "metadata": {},
     "output_type": "execute_result"
    }
   ],
   "source": [
    "Node.reset_network()                                        # We reset the network\n",
    "node1 = BlockchainNode(defaultForgerWallet, proofOfStake)   # We connect 1 node on the network\n",
    "\n",
    "assert hasattr(node1, '_BlockchainNode__certificateBox')    # Sometimes Python just looks awful...\n",
    "\n",
    "\"Success!\""
   ]
  },
  {
   "cell_type": "markdown",
   "id": "dcfe84e0",
   "metadata": {},
   "source": [
    "Now that we have a way to receive certificates that other actors (humans or nodes) send us, we can start to design the behavior of the node.\n",
    "\n",
    "As we saw in class, since the blockchain is fixed at a node, the only information that circulates between nodes are certificates and blocks, so that everyone has an up-to-date version of the blockchain. We could even go further and only circulate blocks (since blocks contain certificates, killing two birds with one stone), but the risk is that some certificates never end up in the blockchain because their owner is never the forger. So, we will circulate both.\n",
    "\n",
    "But let's start with the basics: what happens when the node receives a certificate from a human?\n",
    "\n",
    "***\n",
    "\n",
    "<font color=\"7777aa\">Write in the `BlockchainNode` class a function `new_certificate(certificate)` that manages the addition of new certificates to the node. The process is as follows:\n",
    "* Verify that the certificate is honest and that it should indeed be added to our certificate box. This is the validation step. If yes, add it to the box and continue, otherwise stop here because nothing has changed.\n",
    "* If our box contains more than an arbitrary number of certificates (in this Assignment, let's take **5**), we need to check if it's our turn to forge the next block. If yes, we forge it with all the certificates in the box, add it to our blockchain, and send it to everyone.\n",
    "* Otherwise, send the certificate to everyone to make sure everyone is up to date.</font>\n",
    "\n",
    "**Remember that the blockchain hates duplicates!!! A certificate should never end up in double inside it.**\n",
    "\n",
    "> <details><summary><strong>Click here for help 1</strong></summary>The validation step involves 3 tests. For one of these tests, I recommend creating a function <code>contains_certificate(certificate)</code> in the <code>Blockchain</code> class that returns <code>True</code> if the certificate is present in the blockchain and <code>False</code> otherwise. You might reuse it later.</details>\n",
    "\n",
    "> <details><summary><strong>Click here for help 2</strong></summary>To know if you are the next forger, you have precisely coded in Assignment 3 the function <code>is_next_block_forger_legit(blockList, block)</code> in Proof-of-Stake (and PoW if you did the bonus). So, create a block as if you were going to forge it, and use this function on it: it will tell you whether you can add it to your blockchain and share it with everyone as a forger or not.</details>\n",
    "\n",
    "> <details><summary><strong>Click here for help 3</strong></summary>Forging a block means signing it, adding it to your blockchain, and then sending it to everyone. You have the duty to give it the correct index, the correct parent, and to put yourself as the issuer of this block.</details>"
   ]
  },
  {
   "cell_type": "code",
   "execution_count": 12,
   "id": "77ddaeed",
   "metadata": {
    "ExecuteTime": {
     "end_time": "2025-02-03T14:39:41.497089Z",
     "start_time": "2025-02-03T14:39:41.208083Z"
    }
   },
   "outputs": [
    {
     "name": "stdout",
     "output_type": "stream",
     "text": [
      "Block 0:\n",
      "{'type': 'Block', 'issuerPublicKey': '0000000000', 'timestamp': 0, 'hash': '998cc8c77c2c1f9b2cc11de66dbf5764787d3a357207cd4e76cb062fcf4e9552', 'signature': '', 'index': 0, 'parent': '0000000000000000000000000000000000000000000000000000000000000000', 'certificates': [], 'nonce': 0}\n",
      "Block 1:\n",
      "{'type': 'Block', 'issuerPublicKey': '3082012230', 'timestamp': 1739110783035, 'hash': 'fe48446e04adc1177fd947b18314dfd8abb732b9aed126ec1c03271afb3a33ab', 'signature': '93ed00032aa47e3bb015e88410a4530307035e9b84fc5b0ca1d5c3f5f57e6a3158069422cd2e20102a0c5592982ed105adc45553817de92e08be67601a27b53cc0c0eb255e138114bcf94d9b49f832f54220ed19cd19d98e5c73cebc54194ec981c27c9e18edc0338b0762b0a2e242444e559a494e137953bce761e0ec54c0f7e27508d46d3226675614628ded4cd245d8c41e82dd2a626428df6e838da7c92a98154cdffb6444085ca6279d765a8a6f99ae0a5703cec5370a8ed27eb7b17cf44bbb86ba8aef592595bdefdf56a09f2bb9003a021ee6720c5756566b789623efe4d6452a542907b612759aa262b9c80669f8709fa0359032f4482ec7b6d9c89e', 'index': 1, 'parent': '998cc8c77c2c1f9b2cc11de66dbf5764787d3a357207cd4e76cb062fcf4e9552', 'certificates': [{'type': 'Certificate', 'issuerPublicKey': '3082012230', 'timestamp': 4, 'hash': '0b03ece260b0cedf98f0271726c28c04c2951702ba36e703544358bce94fed66', 'signature': '4a6ba2b237639384049528619b1ec054b16a9c8bceb1db2de9511e38fdd5cbb0a94f3c31468ee4a6e4cffa152710252974b00a6228ba67a5ceb94b55275e7dd2d3023b37cfafcca57f03df6c6d709813d646d748905482770d5a5e23bac416f99b5038b420b5ac742380c4fec4788c38b54ef649ba1a866f796e706da3117e5809a6feab3aef87cf3593b9fb1e92b7f1211afb13b6d9d3f267d240c534add12a0fefd43a8647e627db095e4b96be805ed9cd1542b71fc8816c62596a936c0c001a1e6554e9c63c1b872375afc145e7fe24e1322ab5cb11f9d0696acef93890bdb457a0c4a673b475d24990377cd0b77be0eb12e4d7b6659b04ff3377214a9497'}, {'type': 'Certificate', 'issuerPublicKey': '3082012230', 'timestamp': 0, 'hash': '6f017688e3e8fd896f6c50dcb37415f3e467f247b50d2b09d7ade96b2a39c5bf', 'signature': 'a49141efdde52976aa81b17bde5a194c0a95598c5108956d14a932fd776810c8e4963bd96adf8b31885997463ed964c05ce70da9e0abbeb9da51ef71f2d8f87d0400a0d257c157632fe84ac7da17d474022bf71752be660f8d841b0599b06d4a46838adad6ca67fe5f23f971d578143dda87adec149fbd36c752d683bcccb89ef8fe9ecc883b657c6927f7566770a0602b1322440093c8b5e5b2edb7626d9141f9ec82fec691929d2680ee81ee674eff2c6128803fb3b077a491615f58812d70f6402e81f4444a58681d1e409cc895325dce521c0baac4eb91fd1f60a08c80eff7481523c518f84d07b77c55ab843e9394ce989d75c5929bf99d95ab237c017f'}, {'type': 'Certificate', 'issuerPublicKey': '3082012230', 'timestamp': 3, 'hash': '044e26e9c3cfd1aba1363a46aa9329d634e6c67bb228b0fd933d0ce29f2438d6', 'signature': '8ced01fb6e33bb6da03f3cf0483281b88e7513073f0166e4edbe457f3604d5657142f6a0a40f7212d71dd2fe9e177295bfa7dc6c1b052d699d3cfeada58f324c2d3677ee8066326759cfa0eb469f87dcbc5d6bf7c08ce46b93cd633e6a2e98474d81420e40a2ee7b73ae1493bfc9b7053d0986017179a233780ccdaba52385f75aac671230784f68e66a7581d8cc1ef12368c68e1e9e590d54b008ae59658a4ffb715abd314e33d8e059e5cdd753acb8f6fa065d0fe8799d9af5b670e69725bc91e64476e2f1286ef2ffa24e06727d28e6506be780b4af31309a0af1d67b17586deab0f0d7a057ba3b71af47858c5dd613ba2233919dbe9ad2dff31bc069ea7b'}, {'type': 'Certificate', 'issuerPublicKey': '3082012230', 'timestamp': 5, 'hash': 'de7650a7a763eb13211e352eafaabd2c9209dae8cd48e7bcf73993157df2c224', 'signature': '670c28fbfead8a313446160e8c407f8796555403b727a9942c15e326fb99995a4a57819aa415b5b74cc3e8b6de3fc442f37d4240431768debd2327169903ad74d3606f6542525424cd14e737f2faf84c816d9502fa5e0eea8f2d5ed6af64b533761395907800c2da6b6569cfcffb95d50a8a48a2ed70e45eb860c2d55c83c1d31ee6b68170a2d5fadaac313a8a82006c69f17db63db0ba6ff517b634de8d09f05a37fbf369bad0ee13c79b134d34f27445c27f699ff7c14e1b1ec0d0c265b80c9a58f226e61a7cff3fd5d3ff32dcdf1d8f1de762256068da35debaa5da97adc6c347dfb2e76b0dba23e12acb21b3fbe45a47e7ca3dfb1ec73d356f070a7df903'}, {'type': 'Certificate', 'issuerPublicKey': '3082012230', 'timestamp': 1, 'hash': '1c1dfa5eda00c3cfc1bcc45d12b0e0fcc321e8e521389316f74671105729ee0e', 'signature': '63a3a623cc66bc1614845b8582769e68f323e8d58da403816fdc563c369a993a099288700ce20214d03bba6583267a28c292a8d3c0563101cabc9b523b140e974d671f6e8521f651d94e706ce32f0d00d2c4440bb1fcac4e46584a2b05d34bb1723dc2fe9dc2dd5df48ed8562dd1c118240c315383856edfe380f26eb27d93631ab66ed81caf68c52f36b7a1a53463671f781ad1e872f47a2d22c4d62d143204f75a6a4c0cbd1700dc5e1336f1f79aa13a6d4081bfe695d79bcb0070c3e527f9de0af66e8ba33005ec90edc41191286fba43eeeb9a2c53f9d1c3e0f845b406a10feb83d4d0ebd19248136582f540a1e685fd1029b7e084d6f6cfbb84071b4fc0'}], 'nonce': 0}\n"
     ]
    },
    {
     "data": {
      "text/plain": [
       "'Success!'"
      ]
     },
     "execution_count": 12,
     "metadata": {},
     "output_type": "execute_result"
    }
   ],
   "source": [
    "# We will generate 6 certificates, 1 being fraudulous (Charlie's) and add them twice each to the node. \n",
    "\n",
    "for i in range(6):\n",
    "    selectedHuman = humans[i % len(humans)]\n",
    "    if selectedHuman == Charlie:\n",
    "        certificate = Certificate(Alice.publicKey)\n",
    "    else:\n",
    "        certificate = Certificate(selectedHuman.publicKey)\n",
    "    certificate.timestamp = i\n",
    "    selectedHuman.sign(certificate)\n",
    "    certificates[selectedHuman].append(certificate)\n",
    "    node1.new_certificate(certificate)\n",
    "    node1.new_certificate(certificate)\n",
    "    \n",
    "# To push our system further, let's add Bob's one more time\n",
    "\n",
    "node1.new_certificate(certificates[Bob][0])\n",
    "\n",
    "# Without any duplicity and/or legality tests, we would normally have 13 certificates inside the box\n",
    "# And thus, 3 blocks (containing each 0, 5 and 5 certificates) inside our blockchain\n",
    "# Except invalid certificates are discarded, which means Charlie's (in double)\n",
    "# We are short 2 certificates, down to 11\n",
    "# Then we discard duplicates (2 for Alice, 3 for Bob and 1 for Delphine)\n",
    "# We end up with 5 certificates which means 2 blocks in the blockchain and no certificate in the box\n",
    "\n",
    "if hasattr(node1.blockchain, 'display'):\n",
    "    node1.blockchain.display()\n",
    "\n",
    "assert len(node1.blockchain.blockList) == 2   # We have 2 blocks since we only have 5 different legit certificates\n",
    "assert len(node1._BlockchainNode__certificateBox) == 0  # No pending certificate\n",
    "\n",
    "# Charlie's invalid certificate is not in the blockchain\n",
    "assert certificates[Charlie][0] not in node1.blockchain.blockList[0].certificateList\n",
    "\n",
    "\"Success!\""
   ]
  },
  {
   "cell_type": "markdown",
   "id": "84c1bba9",
   "metadata": {},
   "source": [
    "Our humans are now capable of providing certificates to our nodes using the function we just created.\n",
    "\n",
    "Generally, this is the only thing humans are allowed to give to the node. They can also consult the blockchain, but nothing more.\n",
    "\n",
    "Let's now focus on the case of other nodes: in the network, we will receive either blocks or certificates from other nodes (see for yourself your function `new_certificate(certificate)`: it sends certificates and blocks).\n",
    "\n",
    "Receiving a certificate from a node is fundamentally identical to receiving it from a human since in both cases we assume it's a new certificate (otherwise we simply ignore it).\n",
    "\n",
    "So, we really only have to write a function that handles the management of blocks arriving at the node.\n",
    "\n",
    "***\n",
    "\n",
    "Write in the `BlockchainNode` class a function `new_block(block)` that manages the addition of new blocks to the node. You must follow the same procedure as for certificates, namely validating the addition of the block to the end of your blockchain, and then broadcasting it to all your peers if the block is validated.\n",
    "\n",
    "We will assume that in our simulations, blocks are always added in the right order and that the case where we would receive two different but valid blocks, and therefore have to keep the longest blockchain (as seen in class), never happens. Simply refuse any block that is not directly addable to the blockchain in its current state.\n",
    "\n",
    "**Be careful, you might be sent a block containing a certificate that you already have pending at your place...**\n",
    "\n",
    "> <details><summary><strong>Click here for help 1</strong></summary>The validation step involves exactly 6 tests. What are they? (One of them is harder to find, see help 2.)</details>\n",
    "\n",
    "> <details><summary><strong>Click here for help 2</strong></summary>Remember that the blockchain hates déjà vu...</details>\n",
    "\n",
    "> <details><summary><strong>Click here for help 3</strong></summary>Once the block is validated and added to your blockchain, before passing it on to others, there is a bit of cleaning up to do and then only it might be your turn to contribute to the edifice...</details>"
   ]
  },
  {
   "cell_type": "code",
   "execution_count": 13,
   "id": "a55fab0d",
   "metadata": {
    "ExecuteTime": {
     "end_time": "2025-02-03T14:39:46.625976Z",
     "start_time": "2025-02-03T14:39:42.918556Z"
    }
   },
   "outputs": [
    {
     "data": {
      "text/plain": [
       "'Success?'"
      ]
     },
     "execution_count": 13,
     "metadata": {},
     "output_type": "execute_result"
    }
   ],
   "source": [
    "from random import random\n",
    "from block import Block\n",
    "\n",
    "# To be able to reexecute this cell, let's set the blockchain back to its previous state\n",
    "\n",
    "if len(node1.blockchain.blockList) > 2:\n",
    "    node1.blockchain.blockList = node1.blockchain.blockList[:2]\n",
    "\n",
    "# The following loop tries many different reasons to reject a block\n",
    "# Over the 20 blocks we try to forge, only 2 are valid\n",
    "\n",
    "actors = [Alice, node1.wallet]\n",
    "    \n",
    "for i in range(20):\n",
    "    blockIssuer = actors[min(1, (i * 3) % 6)]\n",
    "    blockIndexInBlockchain = 2 + (i % 5)\n",
    "    blockParentBlockHash = node1.blockchain.blockList[i % len(node1.blockchain.blockList)].hash()\n",
    "    blockCertificateList = []\n",
    "    for j in range(4 + i % 2):\n",
    "        selectedHuman = humans[j % len(humans)]\n",
    "        certificate = Certificate(selectedHuman.publicKey)\n",
    "        selectedHuman.sign(certificate)\n",
    "        blockCertificateList.append(certificate)\n",
    "    block = Block(blockIssuer.publicKey, blockIndexInBlockchain, blockParentBlockHash, blockCertificateList)\n",
    "    blockIssuer.sign(block)\n",
    "    node1.new_block(block)\n",
    "    \n",
    "assert len(node1.blockchain.blockList) == 4  # Only 2 of the 20 blocks are valid\n",
    "\n",
    "\"Success?\""
   ]
  },
  {
   "cell_type": "markdown",
   "id": "6fd9fe6a",
   "metadata": {},
   "source": [
    "Now, we just need to connect our two functions `new_certificate(certificate)` and `new_block(block)` to the network in order to receive information from other nodes and ensure that everyone has the same blockchain.\n",
    "\n",
    "***\n",
    "\n",
    "<font color=\"7777aa\">In your `BlockchainNode` class, rewrite the function `receive_object_from_node(obj, nodeIdentifier)` as in the example with `ExampleNode`: distribute the objects received from other nodes according to their type. Keep in mind that you will only receive objects of type `Certificate` and `Block`.</font>\n",
    "\n",
    "***\n",
    "***\n",
    "\n",
    "To conclude these three tutorials, the following cell simulates 3 honest nodes synchronizing their blockchain. Our 4 favorite humans (Alice, Bob, Delphine, and Charlie the fraudulent) will add certificates to it. To diversify the identity of the forgers, the 3 nodes will stake an identical amount of tokens in the first block.\n",
    "\n",
    "<font color=\"7777aa\">The goal of this simulation is to validate the synchronization of the blockchain between the 3 nodes. To ensure that the 3 blockchains are identical, what simple test can you perform? Complete the function `are_nodes_synchronized(node1, node2, node3)` so that it returns `True` if the three nodes have exactly the same blockchain and `False` otherwise.</font>"
   ]
  },
  {
   "cell_type": "code",
   "execution_count": 14,
   "id": "c0e6aee5",
   "metadata": {
    "ExecuteTime": {
     "end_time": "2025-02-03T14:39:52.540957Z",
     "start_time": "2025-02-03T14:39:50.169690Z"
    }
   },
   "outputs": [
    {
     "name": "stdout",
     "output_type": "stream",
     "text": [
      "[<block.Block object at 0x0000013E3D659850>, <block.Block object at 0x0000013E3D685430>, <block.Block object at 0x0000013E3D7B4BF0>]\n",
      "[<block.Block object at 0x0000013E3D569D60>, <block.Block object at 0x0000013E3D685430>, <block.Block object at 0x0000013E3D7B4BF0>]\n",
      "[<block.Block object at 0x0000013E3D50F230>, <block.Block object at 0x0000013E3D685430>, <block.Block object at 0x0000013E3D7B4BF0>]\n"
     ]
    },
    {
     "data": {
      "text/plain": [
       "'Assignment completed, good work!'"
      ]
     },
     "execution_count": 14,
     "metadata": {},
     "output_type": "execute_result"
    }
   ],
   "source": [
    "from stake import StakingOperation\n",
    "\n",
    "# Restart the network\n",
    "Node.reset_network()\n",
    "\n",
    "# Add 3 nodes\n",
    "\n",
    "walletNode1 = defaultForgerWallet\n",
    "node1 = BlockchainNode(walletNode1, proofOfStake)\n",
    "\n",
    "walletNode2 = Wallet()\n",
    "node2 = BlockchainNode(walletNode2, proofOfStake)\n",
    "\n",
    "walletNode3 = Wallet()\n",
    "node3 = BlockchainNode(walletNode3, proofOfStake)\n",
    "\n",
    "nodes = [node1, node2, node3]\n",
    "\n",
    "# 5 staking operations to start second block\n",
    "# Each node will have 2 tokens staked after second block is forged\n",
    "\n",
    "staking1 = StakingOperation(walletNode1.publicKey, 2)\n",
    "walletNode1.sign(staking1)\n",
    "node1.new_certificate(staking1)\n",
    "\n",
    "staking2 = StakingOperation(walletNode2.publicKey, 1)\n",
    "walletNode2.sign(staking2)\n",
    "node2.new_certificate(staking2)\n",
    "\n",
    "staking3 = StakingOperation(walletNode2.publicKey, 1)\n",
    "walletNode2.sign(staking3)\n",
    "node2.new_certificate(staking3)\n",
    "\n",
    "staking4 = StakingOperation(walletNode3.publicKey, 1)\n",
    "walletNode3.sign(staking4)\n",
    "node3.new_certificate(staking4)\n",
    "\n",
    "staking5 = StakingOperation(walletNode3.publicKey, 1)\n",
    "walletNode3.sign(staking5)\n",
    "node3.new_certificate(staking5)\n",
    "\n",
    "# We will generate 100 certificates for our 4 humans\n",
    "# Charlie's ones will all be invalid\n",
    "# Every certificate is randomly given to one node\n",
    "\n",
    "for i in range(20):\n",
    "    selectedHuman = humans[i % len(humans)]\n",
    "    if selectedHuman == Charlie:\n",
    "        certificate = Certificate(Alice.publicKey)\n",
    "    else:\n",
    "        certificate = Certificate(selectedHuman.publicKey)\n",
    "    selectedHuman.sign(certificate)\n",
    "    nodes[int(random() * len(nodes))].new_certificate(certificate)\n",
    "    \n",
    "# Here, write a small test to verify that all blockchains (one for each node) are synchronized.\n",
    "    \n",
    "def are_nodes_synchronized(node1, node2, node3):\n",
    "    # Rewrite the following function to test if all nodes are synchronized\n",
    "    # ###########\n",
    "    print(node1.blockchain.blockList)\n",
    "    print(node2.blockchain.blockList)\n",
    "    print(node3.blockchain.blockList)\n",
    "    if node1.blockchain.get_latest_block().hash() == node2.blockchain.get_latest_block().hash() == node3.blockchain.get_latest_block().hash():\n",
    "        \n",
    "        return True\n",
    "    else:\n",
    "        return False\n",
    "    # ###########\n",
    "    \n",
    "    \n",
    "assert are_nodes_synchronized(node1, node2, node3)\n",
    "\n",
    "\"Assignment completed, good work!\""
   ]
  },
  {
   "cell_type": "markdown",
   "id": "54f03946",
   "metadata": {},
   "source": [
    "### Bonus — Late to the Party\n",
    "\n",
    "In our simulation, our three nodes are created simultaneously at the birth of the blockchain. Thus, when a block is forged, it is sent simultaneously to the three nodes and we never have indexing problems.\n",
    "\n",
    "However, in reality, it doesn't work that smoothly. Some nodes may join the blockchain well after the first block has been forged. So, this new node, which only has the genesis block (index 0), will reject all the blocks relayed to it because all the other nodes are already on block index 10, or 100, etc.\n",
    "\n",
    "To do things properly, the following process should be included in our `BlockchainNode` class:\n",
    "* When receiving a block, if its index is higher than the index of our last block + 1, it may mean we are behind compared to all other nodes in the network. In this case, we set this block aside until we have the missing blocks.\n",
    "* After setting a block aside, we send a request to everyone to receive the missing blocks by index.\n",
    "* If we receive a request for missing blocks, we send back to the requester the blocks we have among those requested.\n",
    "* Whenever we forge/receive a block, we check if one of the blocks set aside can be added following it. If so, we repeat this step.\n",
    "\n",
    "<font color=\"77aa77\">***Example:*** Nodes 1, 2, and 3 all have the same blockchain composed of 10 blocks. A new node joins the network: node 4. It only has the genesis block, index 0. Node 2 forges block index 11: it then transmits it to 1, 3, and 4. Nodes 1 and 3 accept it, while 4 cannot accept it because it is waiting for block index 1. Realizing its delay, it broadcasts a request to all nodes asking for blocks 1 to 10, and it sets aside block 11. Nodes 1, 2, and 3 hear its request and send blocks 1 to 10. Node 4 receives them, integrates them into its blockchain, and can thus add block 11 to them.</font>\n",
    "\n",
    "To achieve this result, you will necessarily need to send and receive an additional type of object via your portal: the block request. To keep your implementation as simple as possible, make requests for one block at a time: you can thus reduce the request to a single integer representing the index of the block to be requested. Thus, enhance your `receive_object_from_node` function to take into account integers.\n",
    "\n",
    "I recommend creating a new class to manage the set-aside blocks. However, don't worry about sending too many requests and overloading the network with information, as long as your code works, I will be happy.\n",
    "\n",
    "**You will probably need to restart the entire notebook once to make the following cell work.**"
   ]
  },
  {
   "cell_type": "code",
   "execution_count": 15,
   "id": "8a4a9093",
   "metadata": {
    "ExecuteTime": {
     "end_time": "2023-02-27T14:04:34.402742Z",
     "start_time": "2023-02-27T14:04:31.649916Z"
    }
   },
   "outputs": [
    {
     "name": "stdout",
     "output_type": "stream",
     "text": [
      "[<block.Block object at 0x0000013E3D659850>, <block.Block object at 0x0000013E3D685430>, <block.Block object at 0x0000013E3D7B4BF0>, <block.Block object at 0x0000013E3D686330>, <block.Block object at 0x0000013E3D7B6810>]\n",
      "[<block.Block object at 0x0000013E3D569D60>, <block.Block object at 0x0000013E3D685430>, <block.Block object at 0x0000013E3D7B4BF0>, <block.Block object at 0x0000013E3D686330>, <block.Block object at 0x0000013E3D7B6810>]\n",
      "[<block.Block object at 0x0000013E3D569A60>, <block.Block object at 0x0000013E3D685430>, <block.Block object at 0x0000013E3D7B4BF0>, <block.Block object at 0x0000013E3D686330>, <block.Block object at 0x0000013E3D7B6810>]\n"
     ]
    },
    {
     "data": {
      "text/plain": [
       "'Congratz for finishing this difficult bonus!'"
      ]
     },
     "execution_count": 15,
     "metadata": {},
     "output_type": "execute_result"
    }
   ],
   "source": [
    "# Let's add a 4th node to the network\n",
    "\n",
    "walletNode4 = Wallet()\n",
    "node4 = BlockchainNode(walletNode4, proofOfStake)\n",
    "\n",
    "# Then let's redistribute 10 certificates to trigger a block forge\n",
    "\n",
    "for i in range(10):\n",
    "    selectedHuman = humans[i % len(humans)]\n",
    "    if selectedHuman == Charlie:\n",
    "        certificate = Certificate(Alice.publicKey)\n",
    "    else:\n",
    "        certificate = Certificate(selectedHuman.publicKey)\n",
    "    selectedHuman.sign(certificate)\n",
    "    nodes[int(random() * len(nodes))].new_certificate(certificate)\n",
    "    \n",
    "# We should have 4th node synchronized with the others\n",
    "    \n",
    "assert are_nodes_synchronized(node1, node2, node4)\n",
    "\n",
    "\"Congratz for finishing this difficult bonus!\""
   ]
  }
 ],
 "metadata": {
  "kernelspec": {
   "display_name": "V2",
   "language": "python",
   "name": "python3"
  },
  "language_info": {
   "codemirror_mode": {
    "name": "ipython",
    "version": 3
   },
   "file_extension": ".py",
   "mimetype": "text/x-python",
   "name": "python",
   "nbconvert_exporter": "python",
   "pygments_lexer": "ipython3",
   "version": "3.12.8"
  }
 },
 "nbformat": 4,
 "nbformat_minor": 5
}
