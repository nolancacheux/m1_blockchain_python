{
 "cells": [
  {
   "cell_type": "markdown",
   "id": "8e4df458-c2cc-420c-8f20-3080a3a4c3e1",
   "metadata": {},
   "source": [
    "# TD 2\n",
    "\n",
    "***\n",
    "\n",
    "*Blockchains as a data structure*\n",
    "\n",
    "***\n",
    "\n",
    "#### Blockchain and Applications Project\n",
    "\n",
    "As part of the evaluation for this course on Blockchain and Applications, over the next four tutorial sessions, you will **code your own blockchain**, including **Smart Contracts**. The aim of this tutorial and the next three is to *guide you step by step* in its creation.\n",
    "\n",
    "Each of the four tutorials dedicated to the project involves **implementing a set of features** that will allow you to run a **real blockchain on your computer** by the end.\n",
    "\n",
    "This **first tutorial** will involve the implementation of the **data structure**. It will build on all the concepts covered in the course.\n",
    "\n",
    "Throughout the tutorial, we will intentionally make all the fields of the blockchain public, because anyway, if they are modified, it will invalidate the rest of the blockchain."
   ]
  },
  {
   "cell_type": "code",
   "execution_count": 117,
   "id": "8698e7f2",
   "metadata": {
    "ExecuteTime": {
     "end_time": "2025-01-14T08:17:50.621621Z",
     "start_time": "2025-01-14T08:17:50.596462Z"
    }
   },
   "outputs": [
    {
     "name": "stdout",
     "output_type": "stream",
     "text": [
      "The autoreload extension is already loaded. To reload it, use:\n",
      "  %reload_ext autoreload\n"
     ]
    }
   ],
   "source": [
    "%load_ext autoreload\n",
    "%autoreload 2"
   ]
  },
  {
   "cell_type": "markdown",
   "id": "92e627cf",
   "metadata": {},
   "source": [
    "At the same time as this tutorial, you should have downloaded a folder named \"**helpers**\". It contains two important scripts that cover the implementation details of certain cryptographic functions useful for our course. These functions rely on the ```pycryptodome``` package that you installed during Tutorial 1. You do not need to read their content, but you are welcome to do so if you are interested.\n",
    "\n",
    "To summarize, and to make sure that you have the correct architecture for all the tutorials, here is how the different folders are organized:\n",
    "\n",
    "* Assingments/\n",
    "    * scripts/\n",
    "        * helpers/\n",
    "            * \\_\\_init\\_\\_.py\n",
    "            * cryptography_base.py\n",
    "            * rsa_cryptography.py\n",
    "        * *You'll put all of your scripts here*\n",
    "    * notebooks/\n",
    "        * **This notebook (Assignment_2)**\n",
    "        * ...\n",
    "    * ...\n",
    "\n",
    "***To validate this architecture, the following cell should run without error and display a beautiful hash.***"
   ]
  },
  {
   "cell_type": "code",
   "execution_count": 118,
   "id": "dd0a6806",
   "metadata": {
    "ExecuteTime": {
     "end_time": "2025-01-14T08:18:00.526799Z",
     "start_time": "2025-01-14T08:17:59.536227Z"
    }
   },
   "outputs": [
    {
     "data": {
      "text/plain": [
       "'a9e3c48cbc5790b6920750c2e6bc6d066889611757d0d7e3fce73c3eb0131960'"
      ]
     },
     "execution_count": 118,
     "metadata": {},
     "output_type": "execute_result"
    }
   ],
   "source": [
    "from sys import path\n",
    "\n",
    "path.append('../scripts')           # We add the \"scripts\" folder to our search path\n",
    "\n",
    "from helpers import cryptography\n",
    "\n",
    "cryptography.hash_string('JUNIA')   # A RSA hash function"
   ]
  },
  {
   "cell_type": "markdown",
   "id": "a5401bd0",
   "metadata": {
    "ExecuteTime": {
     "end_time": "2023-01-02T09:51:06.334635Z",
     "start_time": "2023-01-02T09:51:06.327344Z"
    }
   },
   "source": [
    "The small module `cryptography` that I have implemented for you contains all the **cryptographic functions** you will need during the project. To see the **list of functions** available in this module, you can have them displayed **in Jupyter Notebook by pressing** `Tab` **after typing** `cryptography.` *(don't forget the period)*.\n",
    "\n",
    "> The names of the functions are clear enough to allow you to differentiate them easily. Similarly, the order of the function arguments is reflected in the name of the function. For example, the function `has_public_key_signed_this_hash` has the signature `cryptography.has_public_key_signed_this_hash(publicKey, signature, hash)`.\n",
    "\n",
    "***\n",
    "\n",
    "In addition to the cryptography module, you have a small `timestamp` module, useful for dating."
   ]
  },
  {
   "cell_type": "code",
   "execution_count": 119,
   "id": "2f1958ec",
   "metadata": {
    "ExecuteTime": {
     "end_time": "2025-01-14T08:19:06.335974Z",
     "start_time": "2025-01-14T08:19:06.317043Z"
    }
   },
   "outputs": [
    {
     "data": {
      "text/plain": [
       "1737731637299"
      ]
     },
     "execution_count": 119,
     "metadata": {},
     "output_type": "execute_result"
    }
   ],
   "source": [
    "from helpers import timestamp\n",
    "   \n",
    "timestamp.now()  # Time in millisecondes since an arbitrary date"
   ]
  },
  {
   "cell_type": "markdown",
   "id": "a1fffc83",
   "metadata": {},
   "source": [
    "To ensure a good understanding of the rest of the tutorial, here is a list of elements covered in the course that we will use, along with their **variable type** and an example:\n",
    "\n",
    "* **Public Key** (`publicKey`): `string(588)` (e.g., <font color=\"bb9534\">\"5329b3ede6de58cf...\"</font>)\n",
    "* **Private Key** (`privateKey`): `string(2380)` (e.g., <font color=\"bb9534\">\"f5b38ccd9dc77221...\"</font>)\n",
    "* **Creation Date** (`timestamp`): `int` in **milliseconds** (e.g., <font color=\"2267a5\">1673183195004</font>)\n",
    "* **Signature** (`signature`): `string(512)` (e.g., <font color=\"bb9534\">\"2c290ba99465f4b5...\"</font>)\n",
    "* **Block Number in the Blockchain** (`indexInBlockchain`): `int` (e.g., <font color=\"2267a5\">1</font>)\n",
    "* **Parent Block (previous block in the blockchain)** (`parentBlockHash`): `string(64)` (e.g., <font color=\"bb9534\">\"22b46d2c579aa2c2...\"</font>)\n",
    "\n",
    "Generally, all our hashes will have a length of 64.\n",
    "\n",
    "***\n",
    "\n",
    "**Throughout this tutorial and the next three, you will mostly have coding tasks with hints available to reveal by yourself if needed. The order indicates their level of help. Try to use them only if you are really stuck.**\n",
    "\n",
    "***\n",
    "\n",
    "### Certificate\n",
    "\n",
    "We choose to call \"**certificate**\" an **arbitrary entry in the registry** of a block. It is this famous document we saw in class that is issued and signed by a single person. A certificate (`Certificate`) therefore *necessarily* contains an **issuer** (`issuerPublicKey`) and a **signature** (`signature`). Conceptually, a certificate does not need to contain data, as this depends on the type of certificate.\n",
    "\n",
    "To reinforce the conformity of a certificate, we also add its **creation date** (`timestamp`), which we choose to express in **milliseconds** for easier sorting (number of milliseconds since an arbitrary date).\n",
    "\n",
    "***\n",
    "\n",
    "<font color=\"8888CC\">Create a file `certificate.py` in the \"scripts\" folder.</font>\n",
    "\n",
    "<font color=\"8888CC\">In this file, you must create a `Certificate` class containing a constructor and public fields in accordance with the statement just above.<br/><br/> This class will serve as the base class for any registry entry you will characterize in the future (you can then build classes that inherit from `Certificate` if they are meant to be signed and stored in the blockchain).</font>\n",
    "\n",
    "<font color=\"8888CC\">The `signature` field just needs to exist, regardless of the value with which you initialize it.</font>\n",
    "\n",
    "> <details><summary><strong>Click to display help 1</strong></summary>Use the <code>timestamp</code> module that I introduced above.</details>\n",
    "\n",
    "> <details><summary><strong>Click to display help 2</strong></summary>Your constructor must take the issuer's public key <code>issuerPublicKey</code> as a parameter and initialize the fields <code>issuerPublicKey</code>, <code>timestamp</code>, and <code>signature</code>.</details>"
   ]
  },
  {
   "cell_type": "code",
   "execution_count": 120,
   "id": "95faa137",
   "metadata": {
    "ExecuteTime": {
     "end_time": "2025-01-14T08:22:05.938244Z",
     "start_time": "2025-01-14T08:22:05.914459Z"
    }
   },
   "outputs": [
    {
     "data": {
      "text/plain": [
       "'Success!'"
      ]
     },
     "execution_count": 120,
     "metadata": {},
     "output_type": "execute_result"
    }
   ],
   "source": [
    "from certificate import Certificate\n",
    "\n",
    "dummyCertificate = Certificate('9cbe2a6713')\n",
    "\n",
    "assert dummyCertificate.issuerPublicKey == '9cbe2a6713'         # The issuer is \"9cbe2a6713\"\n",
    "assert 'signature' in dummyCertificate.__dict__                 # The \"signature\" field exists\n",
    "assert dummyCertificate.timestamp                               # Date is not empty\n",
    "\n",
    "'Success!'"
   ]
  },
  {
   "cell_type": "markdown",
   "id": "c86f72c4",
   "metadata": {},
   "source": [
    "<font color=\"8888CC\">Create a `build_payload()` function in this new class that returns the certificate data that are part of its **payload**.\n",
    "\n",
    "You have the freedom to choose the return format of your function (list, dictionary, etc.) as long as it contains all the data of the payload.</font>\n",
    "\n",
    "> <details><summary><strong>Click to display help 1</strong></summary>As a reminder: the payload of a certificate corresponds to the certificate data that are considered unalterable. It represents the set of values of the document that we want to protect and that characterize the certificate. Not all the values of the certificate necessarily form part of the payload.</details>\n",
    "\n",
    "> <details><summary><strong>Click to display help 2</strong></summary>You could, for example, return a Python dictionary where the keys are the names of the fields that are part of the payload, and the values are the values of these fields.</details>\n",
    "\n",
    "> <details><summary><strong>Click to display help 3</strong></summary>If you include the signature in the payload, won't you have a problem if you sign the certificate twice?</details>"
   ]
  },
  {
   "cell_type": "code",
   "execution_count": 121,
   "id": "4f2738ba",
   "metadata": {
    "ExecuteTime": {
     "end_time": "2025-01-14T08:22:27.986587Z",
     "start_time": "2025-01-14T08:22:27.967709Z"
    }
   },
   "outputs": [
    {
     "data": {
      "text/plain": [
       "{'issuerPublicKey': '9cbe2a6713', 'timestamp': 1737731637387}"
      ]
     },
     "execution_count": 121,
     "metadata": {},
     "output_type": "execute_result"
    }
   ],
   "source": [
    "dummyCertificate.build_payload()"
   ]
  },
  {
   "cell_type": "markdown",
   "id": "25204415",
   "metadata": {},
   "source": [
    "<font color=\"8888CC\">Using this new function `build_payload()`, now introduce the function `hash()` which transforms the certificate into a hexadecimal `string` hash.\n",
    "\n",
    "Here too, you have the freedom to choose the transformation process. The main thing is that the hash should always be the same for the same payload, and vary if the payload varies.</font>\n",
    "\n",
    "> You are entirely allowed to use the built-in `str` function, even though it's not very secure, as for example `str(1.0)` and `str(1.0000000000000001)` both give `'1.0'`. `str` is a function highly dependent on the implementation of the object you are converting. Ideally, you should go through the binary representation of the objects. But I consider that to be beyond the scope of this tutorial.\n",
    "\n",
    "> <details><summary><strong>Click to display help 1</strong></summary>You need to write a function that starts from <code>build_payload()</code>, transforms this payload into a <code>string</code> in the way you wish, and then changes the <code>string</code> into a hash using the <code>cryptography</code> module.</details>\n",
    "\n",
    "> <details><summary><strong>Click to display help 2</strong></summary>If your <code>build_payload()</code> function returns a list, you can use the <code>dumps(object)</code> function from the <code>json</code> package.<br/>If it returns a dictionary, you can use it too but add the <code>sort_keys=True</code> parameter, because from one Python version to another, your elements in the dictionary will be in a different order.</details>"
   ]
  },
  {
   "cell_type": "code",
   "execution_count": 122,
   "id": "303e8512",
   "metadata": {
    "ExecuteTime": {
     "end_time": "2025-01-14T08:22:41.775429Z",
     "start_time": "2025-01-14T08:22:41.756153Z"
    }
   },
   "outputs": [
    {
     "data": {
      "text/plain": [
       "'5025c2d2569e25838849c77b3afb68432e1e24663f36d211758b262757d8b16e'"
      ]
     },
     "execution_count": 122,
     "metadata": {},
     "output_type": "execute_result"
    }
   ],
   "source": [
    "dummyCertificate.hash()"
   ]
  },
  {
   "cell_type": "markdown",
   "id": "696480f1",
   "metadata": {},
   "source": [
    "To help you understand how impossible it is to find the same hash twice, even if you only slightly modify the data, observe the result of the following cell."
   ]
  },
  {
   "cell_type": "code",
   "execution_count": 123,
   "id": "d5539103",
   "metadata": {
    "ExecuteTime": {
     "end_time": "2025-01-14T08:22:43.316999Z",
     "start_time": "2025-01-14T08:22:43.297089Z"
    }
   },
   "outputs": [
    {
     "data": {
      "text/plain": [
       "'34682c96407ca3af98ff19544bb54929958c008d67ed71cd7e109faa72f03332'"
      ]
     },
     "execution_count": 123,
     "metadata": {},
     "output_type": "execute_result"
    }
   ],
   "source": [
    "dummyCertificate.timestamp -= 1            # Here we only change one bit of the whole certificate\n",
    "dummyCertificate.hash()"
   ]
  },
  {
   "cell_type": "markdown",
   "id": "82defd54",
   "metadata": {},
   "source": [
    "With this `hash()` function, we now have the first of the two pieces of the puzzle to be able to cryptographically sign our certificates. The missing piece is the **private key / public key** pair.\n",
    "\n",
    "Before moving on to this missing piece, let's implement one last function that will prove very useful later on (especially for the end of the tutorial...)\n",
    "\n",
    "***\n",
    "\n",
    "<font color=\"8888CC\">Create the function `equals(otherCertificate)` that returns `True` if the certificate and `otherCertificate` are identical, and `False` otherwise.\n",
    "    \n",
    "Consider what really makes two certificates identical. You will not need to implement this function in classes that inherit from `Certificate`.</font>\n",
    "\n",
    "> <details><summary><strong>Click to display help 1</strong></summary>No need to make it complicated, there's a reason this is the function you're implementing last in this class.</details>\n",
    "\n",
    "> <details><summary><strong>Click to display help 2</strong></summary>Use the `hash()` function.</details>"
   ]
  },
  {
   "cell_type": "code",
   "execution_count": 124,
   "id": "ce12d553",
   "metadata": {
    "ExecuteTime": {
     "end_time": "2025-01-14T08:22:49.677947Z",
     "start_time": "2025-01-14T08:22:49.658182Z"
    }
   },
   "outputs": [
    {
     "data": {
      "text/plain": [
       "'Success!'"
      ]
     },
     "execution_count": 124,
     "metadata": {},
     "output_type": "execute_result"
    }
   ],
   "source": [
    "assert dummyCertificate.equals(dummyCertificate)                    # A certificate is equal to itself\n",
    "\n",
    "otherCertificate = Certificate(dummyCertificate.issuerPublicKey)\n",
    "otherCertificate.timestamp = dummyCertificate.timestamp\n",
    "assert otherCertificate.equals(dummyCertificate)                    # Two certificates having different signatures\n",
    "\n",
    "otherCertificate.issuerPublicKey = 'bbc887326a'\n",
    "otherCertificate.timestamp = 84539\n",
    "assert not otherCertificate.equals(dummyCertificate)                # Two completely different certificates\n",
    "\n",
    "\"Success!\""
   ]
  },
  {
   "cell_type": "markdown",
   "id": "6a06decb",
   "metadata": {},
   "source": [
    "### Wallet\n",
    "\n",
    "In the course, we covered how a **private key / public key pair** works, and what a wallet is, especially in the realm of cryptocurrencies. To simplify the terminology, we will keep the term \"**wallet**\" to refer to this **pair of keys**.\n",
    "\n",
    "Thus, the sole and unique role of our wallet will be to **store this pair of keys** and to **sign** using it.\n",
    "\n",
    "***\n",
    "\n",
    "<font color=\"8888CC\">Create a file `wallet.py` containing the `Wallet` class. This class should contain a private key and a public key upon creation. The public key is represented by the field `publicKey`.\n",
    "    \n",
    "**To stay true to the aspect of secrecy, ensure that the private key is as inaccessible as possible from the outside.** However, the public key should be accessible.</font>\n",
    "\n",
    "> The `cryptography` module can help you generate a pair of keys.\n",
    "\n",
    "> In Python, putting two underscores `__` at the beginning of the field name allows very restricted access to the said field. Only the internal code of the class can then access it (if one stays within a classic development framework, of course, this limit can be easily crossed with a bit more knowledge in Python...)."
   ]
  },
  {
   "cell_type": "code",
   "execution_count": 125,
   "id": "3298ef6f",
   "metadata": {
    "ExecuteTime": {
     "end_time": "2025-01-14T08:22:56.421759Z",
     "start_time": "2025-01-14T08:22:55.459863Z"
    }
   },
   "outputs": [
    {
     "data": {
      "text/plain": [
       "'30820122300d06092a864886f70d01010105000382010f003082010a0282010100ea1dcfa7720e123edf57ea5ac15576f96e3499106c29103bf842d9b4ce190ca393b42f75f8144fbb312e5bd5b827f13d92717fc8aa4e7871cd75614ca63c3de178e182ab6254d21fe67938a1c920f6bcc5bbdd9a21a994c0623ec66f48585787a95ba1798d2fac8144b7860910005d6f088794006a6a9b0f3b20e93e203eb679557a7058a76ba9d613710fbb0e8aee628dd77f1ded98dff4145fdd294bdc72ec386ba770ab886b6ba72f6d165a1f7006f5a6554769e7aa9e161b2737dc6ed038ff5342ed667d6e633cb9ae8d6d31c53a62117a636dfeb7dd12d3290b721c5732775fae0ebed40afc7d745c518bd04cbb0a1cdb654804a9ebca6e0dd596abeccd0203010001'"
      ]
     },
     "execution_count": 125,
     "metadata": {},
     "output_type": "execute_result"
    }
   ],
   "source": [
    "from wallet import Wallet\n",
    "\n",
    "dummyWallet = Wallet()\n",
    "\n",
    "assert len(dummyWallet.publicKey) == 588           # We expect a RSA public key of length 588\n",
    "\n",
    "dummyWallet.publicKey"
   ]
  },
  {
   "cell_type": "markdown",
   "id": "c8d356a1",
   "metadata": {},
   "source": [
    "We only have to use our **private key** to **sign any certificate** now.\n",
    "\n",
    "***\n",
    "\n",
    "<font color=\"8888CC\">Add to the `Wallet` class a function `sign(certificate)` that takes a certificate as input and signs it. **This function does not return anything: it simply applies the signature to the certificate.**</font>\n",
    "\n",
    "> <details><summary><strong>Click to display help 1</strong></summary>You have a great function in the `cryptography` module that signs any <code>string</code>.</details>\n",
    "\n",
    "> <details><summary><strong>Click to display help 2</strong></summary>We could have implemented <code>Wallet</code> first, but to sign a certificate you first need to transform it into a <code>string</code>, something you can now do thanks to your work...</details>"
   ]
  },
  {
   "cell_type": "code",
   "execution_count": 126,
   "id": "461189b1",
   "metadata": {
    "ExecuteTime": {
     "end_time": "2025-01-14T08:23:01.556201Z",
     "start_time": "2025-01-14T08:23:01.444764Z"
    }
   },
   "outputs": [
    {
     "data": {
      "text/plain": [
       "'Success!'"
      ]
     },
     "execution_count": 126,
     "metadata": {},
     "output_type": "execute_result"
    }
   ],
   "source": [
    "dummyWallet.sign(dummyCertificate)\n",
    "\n",
    "assert dummyCertificate.signature                          # We apply the signature\n",
    "\n",
    "previousSignature = dummyCertificate.signature\n",
    "\n",
    "dummyWallet.sign(dummyCertificate)\n",
    "\n",
    "assert previousSignature == dummyCertificate.signature     # If we sign twice, the same signature should be applied\n",
    "\n",
    "'Success!'"
   ]
  },
  {
   "cell_type": "markdown",
   "id": "9843e20c",
   "metadata": {},
   "source": [
    "### Block\n",
    "\n",
    "We learned during the course that a **block** is a **set of data**, it comes **from an issuer** (the forger), and this issuer must **sign** it. Does this remind you of something?\n",
    "\n",
    "*A block is nothing more than a certificate that contains other certificates.*\n",
    "\n",
    "However, you need to add additional fields related to the use of blocks: `indexInBlockchain`, which keeps track of the block number in the blockchain, `parentBlockHash`, which refers to the block just before it in the chain (via its hash), and finally `certificateList`, which is a list containing all the certificates stored in the block (the block's data).\n",
    "\n",
    "***\n",
    "\n",
    "<font color=\"8888CC\">Following this schema, create the file `block.py` containing the `Block` class. **This class must inherit from the** `Certificate` **class, and its constructor then takes 4 parameters.**</font>\n",
    "\n",
    "> <details><summary><strong>Click to display help 1</strong></summary>The built-in function <code>super()</code> returns <code>self</code> but with the interface of the parent class (here the interface of <code>Certificate</code>). You can therefore reuse functions that you have written in the parent class, which is very useful when you want to replace them while still using them.</details>\n",
    "\n",
    "> <details><summary><strong>Click to display help 2</strong></summary>In the constructor, do not forget to call <code>super().__init__(issuerPublicKey)</code>.</details>"
   ]
  },
  {
   "cell_type": "code",
   "execution_count": 127,
   "id": "009d8916",
   "metadata": {
    "ExecuteTime": {
     "end_time": "2025-01-14T08:23:20.688608Z",
     "start_time": "2025-01-14T08:23:20.667203Z"
    }
   },
   "outputs": [
    {
     "data": {
      "text/plain": [
       "'Success!'"
      ]
     },
     "execution_count": 127,
     "metadata": {},
     "output_type": "execute_result"
    }
   ],
   "source": [
    "from block import Block\n",
    "\n",
    "dummyCertificateList = [dummyCertificate, otherCertificate]\n",
    "dummyBlock = Block('9cbe2a6713', 0, 'void', dummyCertificateList)\n",
    "\n",
    "assert dummyBlock.__class__.__bases__[-1].__name__ == \"Certificate\" # Our block is a certificate\n",
    "assert dummyBlock.issuerPublicKey == '9cbe2a6713'                   # The issuer is \"9cbe2a6713\"\n",
    "assert dummyBlock.indexInBlockchain == 0                            # The index is 0\n",
    "assert dummyBlock.parentBlockHash == 'void'                         # The parent is the block of hash \"void\" \n",
    "assert len(dummyBlock.certificateList) == 2                         # The block contains 2 certificates\n",
    "\n",
    "'Success!'"
   ]
  },
  {
   "cell_type": "markdown",
   "id": "bbfeb299",
   "metadata": {},
   "source": [
    "<font color=\"222277\">Still in the `Block` class, rewrite (override) the `build_payload()` function to include the block's data.</font>\n",
    "\n",
    "> <details><summary><strong>Click to display help 1</strong></summary>Be careful to have in the block's payload the payloads of its certificates and not the certificates directly.</details>\n",
    "\n",
    "> <details><summary><strong>Click to display help 2</strong></summary>This function already exists in `Certificate`, so you need to redefine it, but inside it, you must also call the base function by writing `super().build_payload()`</details>"
   ]
  },
  {
   "cell_type": "code",
   "execution_count": 128,
   "id": "a79f63d4",
   "metadata": {
    "ExecuteTime": {
     "end_time": "2025-01-14T08:23:39.933670Z",
     "start_time": "2025-01-14T08:23:39.915154Z"
    }
   },
   "outputs": [
    {
     "data": {
      "text/plain": [
       "{'issuerPublicKey': '9cbe2a6713',\n",
       " 'timestamp': 1737731638870,\n",
       " 'indexInBlockchain': 0,\n",
       " 'parentBlockHash': 'void',\n",
       " 'certificateList': [{'issuerPublicKey': '9cbe2a6713',\n",
       "   'timestamp': 1737731637386},\n",
       "  {'issuerPublicKey': 'bbc887326a', 'timestamp': 84539}]}"
      ]
     },
     "execution_count": 128,
     "metadata": {},
     "output_type": "execute_result"
    }
   ],
   "source": [
    "dummyBlock.build_payload()"
   ]
  },
  {
   "cell_type": "markdown",
   "id": "8c2772d0",
   "metadata": {},
   "source": [
    "You don't need to rewrite the `hash()` function since it is based exclusively on the `build_payload()` function which you have already completed."
   ]
  },
  {
   "cell_type": "code",
   "execution_count": 129,
   "id": "4fb04746",
   "metadata": {
    "ExecuteTime": {
     "end_time": "2025-01-14T08:23:40.797485Z",
     "start_time": "2025-01-14T08:23:40.779009Z"
    }
   },
   "outputs": [
    {
     "data": {
      "text/plain": [
       "'af176e57ef093d82939e72786dd67d3d512bb2e9c5a15062571be2167749a28d'"
      ]
     },
     "execution_count": 129,
     "metadata": {},
     "output_type": "execute_result"
    }
   ],
   "source": [
    "dummyBlock.hash()"
   ]
  },
  {
   "cell_type": "markdown",
   "id": "2953cfba",
   "metadata": {},
   "source": [
    "### Blockchain\n",
    "\n",
    "We have implemented blocks and certificates, and thanks to our wallet, we are capable of signing all of this. We now need to create our **blockchain** so that we can add our freshly generated blocks to it.\n",
    "\n",
    "***\n",
    "\n",
    "<font color=\"8888CC\">Create the file `blockchain.py`. In this file, implement the `Blockchain` class, with a public field `blockList` that contains the list of blocks in their index order and the appropriate constructor.\n",
    "\n",
    "Remember that a blockchain is **never empty**; it always has at least one specific block we talked about in class...</font>\n",
    "\n",
    "> <details><summary><strong>Click to display help 1</strong></summary>Initialize <code>blockList</code> with the genesis block.</details>\n",
    "\n",
    "> <details><summary><strong>Click to display help 2</strong></summary>The genesis block can contain anything, as long as it's always the same from one blockchain to another.</details>"
   ]
  },
  {
   "cell_type": "code",
   "execution_count": 130,
   "id": "34d1c9f3",
   "metadata": {
    "ExecuteTime": {
     "end_time": "2025-01-14T08:23:47.276147Z",
     "start_time": "2025-01-14T08:23:47.254189Z"
    }
   },
   "outputs": [
    {
     "data": {
      "text/plain": [
       "'Success!'"
      ]
     },
     "execution_count": 130,
     "metadata": {},
     "output_type": "execute_result"
    }
   ],
   "source": [
    "from blockchain import Blockchain\n",
    "\n",
    "dummyBlockchain = Blockchain()\n",
    "\n",
    "assert len(dummyBlockchain.blockList) == 1    # I expected 1 block here, which we have seen in class\n",
    "\n",
    "\"Success!\""
   ]
  },
  {
   "cell_type": "markdown",
   "id": "d1388991",
   "metadata": {},
   "source": [
    "<font color=\"8888CC\">Implement a small function `get_latest_block()` that returns the last block of the blockchain. This function is a luxury that will make the code easier to understand for the reader.</font>\n",
    "\n",
    "> <details><summary><strong>Click to display help</strong></summary>Do you really need help for a function that is just 1 line long? ;)</details>"
   ]
  },
  {
   "cell_type": "code",
   "execution_count": 131,
   "id": "1e3adc93",
   "metadata": {
    "ExecuteTime": {
     "end_time": "2025-01-14T08:23:48.628825Z",
     "start_time": "2025-01-14T08:23:48.610987Z"
    }
   },
   "outputs": [
    {
     "data": {
      "text/plain": [
       "{'issuerPublicKey': '000000000000000000000000000000000000000000000000000000000000000000000000000000000000000000000000000000000000000000000000000000000000000000000000000000000000000000000000000000000000000000000000000000000000000000000000000000000000000000000000000000000000000000000000000000000000000000000000000000000000000000000000000000000000000000000000000000000000000000000000000000000000000000000000000000000000000000000000000000000000000000000000000000000000000000000000000000000000000000000000000000000000000000000000000000000000000000000000000000000000000000000000000000000000000000000000000000000000',\n",
       " 'timestamp': 0,\n",
       " 'indexInBlockchain': 0,\n",
       " 'parentBlockHash': '0000000000000000000000000000000000000000000000000000000000000000',\n",
       " 'certificateList': []}"
      ]
     },
     "execution_count": 131,
     "metadata": {},
     "output_type": "execute_result"
    }
   ],
   "source": [
    "dummyBlockchain.get_latest_block().build_payload()"
   ]
  },
  {
   "cell_type": "markdown",
   "id": "83aa0247",
   "metadata": {},
   "source": [
    "### Blockchain Corruption\n",
    "\n",
    "Continuing with the goal of helping you realize the **inherent security of the blockchain**, the `blockList` field of the `Blockchain` class has been **intentionally made public** so that you can **completely modify it**. Therefore, I will not ask you to implement functions for adding or removing blocks (removal being forbidden anyway).\n",
    "\n",
    "Following this logic, it is still necessary to be able to **verify that a blockchain has not been corrupted**, whether by the addition of bad blocks or the alteration of data in older blocks.\n",
    "\n",
    "***\n",
    "\n",
    "<font color=\"8888CC\">In the `Certificate`, `Block`, and `Blockchain` classes, implement the function `is_legit()` that returns `True` if the object in question is legal and `False` if it is corrupted. **I expect these functions to test all possibilities of data corruption.**\n",
    "\n",
    "Some examples of data corruption:\n",
    "* The signature is not valid\n",
    "* The blocks are poorly indexed\n",
    "* etc...\n",
    "\n",
    "Find the others!</font>\n",
    "\n",
    "> The following validation cell shows you the classic process of using the blockchain.\n",
    "\n",
    "> <details><summary><strong>Click to display help for </strong><code>Certificate</code></summary>With your implementation of the `Certificate` class, you don't have many things to test. Just ensure that the signature is valid.</details>\n",
    "\n",
    "> <details><summary><strong>Click to display help for </strong><code>Block</code></summary>Remember that a block is a certificate that contains a list of certificates, nothing more.</details>\n",
    "\n",
    "> <details><summary><strong>Click to display help for </strong><code>Blockchain</code></summary>This is the biggest part, as you need to ensure the validity of all the blocks as well as that the blocks are properly chained and indexed. Don't forget to treat the genesis block differently.</details>"
   ]
  },
  {
   "cell_type": "code",
   "execution_count": 132,
   "id": "ab1019ba",
   "metadata": {
    "ExecuteTime": {
     "end_time": "2025-01-14T08:24:14.385169Z",
     "start_time": "2025-01-14T08:24:14.089621Z"
    }
   },
   "outputs": [
    {
     "data": {
      "text/plain": [
       "'Assignment completed! Congratz!'"
      ]
     },
     "execution_count": 132,
     "metadata": {},
     "output_type": "execute_result"
    }
   ],
   "source": [
    "walletAlice = Wallet()\n",
    "publicKeyAlice = walletAlice.publicKey\n",
    "\n",
    "certificateAlice1 = Certificate(publicKeyAlice)\n",
    "walletAlice.sign(certificateAlice1)\n",
    "\n",
    "certificateAlice2 = Certificate(publicKeyAlice)\n",
    "walletAlice.sign(certificateAlice2)\n",
    "\n",
    "blockchain = Blockchain()\n",
    "\n",
    "latestBlock = blockchain.get_latest_block()\n",
    "block1 = Block(publicKeyAlice, latestBlock.indexInBlockchain + 1, latestBlock.hash(), [certificateAlice1])\n",
    "walletAlice.sign(block1)\n",
    "blockchain.blockList.append(block1)\n",
    "\n",
    "latestBlock = blockchain.get_latest_block()\n",
    "block2 = Block(publicKeyAlice, latestBlock.indexInBlockchain + 1, latestBlock.hash(), [certificateAlice2])\n",
    "walletAlice.sign(block2)\n",
    "blockchain.blockList.append(block2)\n",
    "\n",
    "assert blockchain.is_legit()\n",
    "\n",
    "certificateAlice1.timestamp -= 1\n",
    "\n",
    "assert not blockchain.is_legit()\n",
    "\n",
    "\"Assignment completed! Congratz!\""
   ]
  },
  {
   "cell_type": "markdown",
   "id": "66267e06",
   "metadata": {},
   "source": [
    "***\n",
    "***\n",
    "\n",
    "# Bonus\n",
    "\n",
    "The following two exercises are only bonus points for this assignment. If you choose not to do them, it will have no impact on your future work.\n",
    "\n",
    "If you attempt them but everything is incorrect, I will not take it into consideration at all, so feel free to give them a try (if anything, it might be worth it)."
   ]
  },
  {
   "cell_type": "markdown",
   "id": "263634a5",
   "metadata": {},
   "source": [
    "### Bonus 1: Readable Blockchain Display\n",
    "\n",
    "For the 3rd assignment, you will likely need to regularly check or debug the data in your blockchain. To make your life easier, we will write some functions to display the entire blockchain in a readable way.\n",
    "\n",
    "<font color=\"8888CC\">For each of the classes `Wallet`, `Certificate`, `Block`, and `Blockchain`, implement the `display()` function. It should provide you with a visual representation of all the important information of the respective object. I won't impose any specific format; you can do it your way.</font>\n",
    "\n",
    "> Don't hesitate to have them call each other when possible to save time.\n",
    "\n",
    "> You can use the `dumps` function from the `json` package, or simply return something that is not a `string` because Jupyter Notebook formats dictionaries very nicely..."
   ]
  },
  {
   "cell_type": "code",
   "execution_count": 133,
   "id": "dc2459db",
   "metadata": {
    "ExecuteTime": {
     "end_time": "2025-01-14T08:24:24.566077Z",
     "start_time": "2025-01-14T08:24:24.544341Z"
    }
   },
   "outputs": [
    {
     "data": {
      "text/plain": [
       "{'type': 'Wallet',\n",
       " 'publicKey': '30820122300d06092a864886f70d01010105000382010f003082010a0282010100d970eb8546e30ef3084d7a333f77d8fcf307bfb4dd09bdc026830c86835013fc578dd5f6e8bf9ae81dcd3092aeb54e54711a9f14e2d237579f7ba5e8445fd31a34611f0581f38c19ab42231aa9b29066f1408c2b315838a5b2ef0f712ed9c42da5b1d3f7ea9a3bc344336fda01b05b68e54d22b965ea675485115090bda3adc7f3f820930fc43a77546f5f9808289f83f1a2ef7370b18c0a3ef4ddeb0616d0956af2f1e4521bf87881f63b3c2b2e15d9b645864f77664437312d2627fce3d3cd345f1a97947c2745163e9ff2b7e6e7a1e4923e723669e4607f018f62656ece96feb2e240a5e5a128a150f9e2190496fe78abd0e537166b015899c4dfdb5690330203010001',\n",
       " 'privateKey': '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'}"
      ]
     },
     "execution_count": 133,
     "metadata": {},
     "output_type": "execute_result"
    }
   ],
   "source": [
    "walletAlice.display()"
   ]
  },
  {
   "cell_type": "code",
   "execution_count": 134,
   "id": "64b78386",
   "metadata": {
    "ExecuteTime": {
     "end_time": "2025-01-14T08:24:24.779216Z",
     "start_time": "2025-01-14T08:24:24.757540Z"
    }
   },
   "outputs": [
    {
     "name": "stdout",
     "output_type": "stream",
     "text": [
      "Block 0:\n",
      "{'type': 'Block', 'issuerPublicKey': '0000000000', 'timestamp': 0, 'hash': 'a70c7e36dfd03e9493708664c2effdd5cc5721263477809856cac03793779834', 'signature': '', 'index': 0, 'parent': '0000000000000000000000000000000000000000000000000000000000000000', 'certificates': []}\n",
      "Block 1:\n",
      "{'type': 'Block', 'issuerPublicKey': '3082012230', 'timestamp': 1737731640130, 'hash': 'ee2c92da08cfc6fa882876a05590363cbedab180beaba9558ae26962d30cacd2', 'signature': '87c12933b3b9bf3b1c24067d9c9c5be0931eb4e32c72b5d078b449d831ff302f8ec03378fbf3a58f2e49f8ff0ecda7a95a0698a13ca30dce046904e7edee55ca1ff52834be670f4295fb74ac9b58ea87bc9a49f48821c04b14919cfb2042b980f8392a68bff48bc4d7c92dbe111a960eee4a243f99afce2ef7c0e561d10da4b28c0ae18d5f0032cdb83f37014edc782501026ae1041a030edcd3d3b1f39e716b980ff4d9e3445494fbb96f2bb39a5bf313c00ee44194a6b798aefe1680763e145d6f31869a9a1133ac051ce0055859efbf15964f73f0469f028565ddc8c042a95d92fbed42985520938a3bd5d05f2b7b69c0810bc8b8f1bad9e604a6a6462a6e', 'index': 1, 'parent': 'a70c7e36dfd03e9493708664c2effdd5cc5721263477809856cac03793779834', 'certificates': [{'type': 'Certificate', 'issuerPublicKey': '3082012230', 'timestamp': 1737731640033, 'hash': 'd640f6f2b6b79d15a32a5272127ddcf4e336cfba2e99a9aacd312b5a9658ba27', 'signature': '29600d2a2c7a3d7762d237eeb81bd53bfd49bb1fde92f5f40136b6c5d417ee5cdba0933eba8daf522bea7f6cc37d802a56ce8fd6bccf7b4101db2a7ca74ebd6f7fdd3579730254b0cc8434f3747db173fb43ac46f674a0dcf32c18b57b6bcdc5c51d7a596e151110823f3e00820dcc097f693e53aca95da61094af347149902718d0f33fb0a60cafcc7e25c9b6194e2988108860f2e9ef01cc27ab4a97e109a89b3dd23c0376faafaacf98c15b861197e5ef8a5ba72d4545a907b736c85a7be61a8e7be880dffce63481c937c219605efba230814196829e948b23aba5f21a142313c200fc7ec001e0b28129ed9f87e17d6f8884128b4e2de74bc1d66a1e93bd'}]}\n",
      "Block 2:\n",
      "{'type': 'Block', 'issuerPublicKey': '3082012230', 'timestamp': 1737731640170, 'hash': 'f1cab44b120f5614e929bbfba285fdaeaf954b313d020c2ee5a832a2546d0bd9', 'signature': 'a4347cb3bf37842047699b77f40224444376cf0b12d482a8a7bdc8dca4b93fa4455bc7078396318bf5e8d3c02738e78dc3d267665a482ada330e6e95648825b3235812959c9f000be6c10d10e6ea97d5ffc2d8029fd551cc30b6f8da7facf2576ed698847dfac96a941874c6af02ec6931b0971cf7dccd9c08e9d3718962d4bd67d4046c434bcce2a63d72aee4e45cb1576adf7ada6682e3dfcfd38b1f7a8ffcff14bf34e0638d5749477a4ebb9ad3be34ebb3c00b5ea21c7d396ed558855747aae4084dc6745ca314fbcb2262369cd8029b974b464e760715d64d740f1e277d3f3b0f1ef6ec06f73bbcaa8d993a9460b7e3bbd1a4d49f400d3c890006d9060b', 'index': 2, 'parent': 'dab4a5390090957fe12efed5e019d0c63a6c0889ff3a6bbb33c712c9602fa30e', 'certificates': [{'type': 'Certificate', 'issuerPublicKey': '3082012230', 'timestamp': 1737731640071, 'hash': '4eefaa3c2c8f704323747bdb991f032c348075758abb4652e3e16fc555221624', 'signature': 'bf8b196eccb99e2f33ee1d9253573be0f0fe2f6e9d5e8ecda4443386225f26476e433d82dc22cb742e69f2c71cb8044423b34a5939942c4ed535a35b5cf6712ef180c051ca02f572d4dbc2bca4b98995930c79058a3bc30390e85db2f5cd47b8b93b4ac13001955ae3dc7205203f70ce8b96f2468bc846d8268a5ef3a455549215f0fb19bea9f61cdd75c182893a8076d4d3d53ba30c1190c50a3f5373807970cf5a06d86d969dd62049b84a6bebeedcd35972d27eca6f74158960ad778d5c7bc2327f7f7b6fe9a5ae18e305abbe7b0282dd357ffcc0c45d7416b9109ec4f15aaa2d1fc1a5625d814898870839a02e4d3a0d3c889c0921a44848c4cc710277da'}]}\n"
     ]
    }
   ],
   "source": [
    "blockchain.display()"
   ]
  },
  {
   "cell_type": "markdown",
   "id": "9851fde9",
   "metadata": {},
   "source": [
    "### Bonus 2: TD 2 Report\n",
    "\n",
    "To properly conclude this 2nd assignment and to help you understand why such a data structure is impossible to modify without causing complete corruption of the blockchain, I invite you to \"mistreat\" your implementation. Create situations of corruption that you find interesting and test how your blockchain reacts in these situations.\n",
    "\n",
    "**Imagine having to sell such technology to a major client. You must convince them, through a written report in the form of a Notebook, and with concrete examples, that your technology is unbreakable.**\n",
    "\n",
    "<font color=\"8888CC\">Create a new Notebook for this report. To do this, in the main tab of Jupyter Notebook, in the upper right corner, there is a ```New``` button. Click on it and select the ```Python 3``` kernel.</font>\n",
    "\n",
    "> I recommend generating 2 wallets to get interesting situations. Also, draw inspiration from what we have seen in class.\n",
    "\n",
    "> If you want to format the text you include in this Notebook, I suggest you take inspiration from the texts in this Notebook by double-clicking on one of the texts to see the source code. At the top of the Notebook, you can change the type of a cell by replacing ```Code``` with ```Markdown```."
   ]
  },
  {
   "cell_type": "code",
   "execution_count": 135,
   "id": "2e2a512f",
   "metadata": {},
   "outputs": [
    {
     "name": "stdout",
     "output_type": "stream",
     "text": [
      "Initial Blockchain:\n",
      "Block 0:\n",
      "{'type': 'Block', 'issuerPublicKey': '0000000000', 'timestamp': 0, 'hash': 'a70c7e36dfd03e9493708664c2effdd5cc5721263477809856cac03793779834', 'signature': '', 'index': 0, 'parent': '0000000000000000000000000000000000000000000000000000000000000000', 'certificates': []}\n",
      "Block 1:\n",
      "{'type': 'Block', 'issuerPublicKey': '3082012230', 'timestamp': 1737732219201, 'hash': 'a6541ba54c19aece780a49ae2927ff533e37518c3ac80ba629837ca434b3abd3', 'signature': '09442f607cb9a52fcada1d73d7036ec027108ac45ad69a4daeb724fa7eb8badf0b827ab2a25684a087d5d4aa396db6e8fe18103b072cae1120c966163c8cda2b7fa2e12f6e6f4289d413e63aaa672cf5cf78f00122052c76ad8bad1f965573ee88217cfad91ea5d0f9c25b7bc69202404ee48933744c1bd6f13f5c10b16d7b6c530a0f179729166f4019f3e52a3985bc46a12c138789502fd4e5e7c3a5b1dcf870fd93469d95aa59adb7f8f1d6b7120c3e1876307d91d75e65fd0c7f6130535387ad27b2f19612d98f09a9ebbd09786e0baf3177e606a465806845906404235aa6e5f26af842b4a51d57cfa485675e244518c3e49a618b723a22f74d9c1b8b01', 'index': 1, 'parent': 'a70c7e36dfd03e9493708664c2effdd5cc5721263477809856cac03793779834', 'certificates': [{'type': 'Certificate', 'issuerPublicKey': '3082012230', 'timestamp': 1737732219004, 'hash': 'dd2b0bc20c0d4e5fc52fda40bd0b089758cc09e89bf514f90fb0dab0319c16df', 'signature': '6255277fa8c4086474e841ff43cc8d87d921db772395d4b6449136f1010b99d7cad5102db8087ab6a5569d34b51d58c1f910b268ca5f2eb1abf245e1084e29a27998e1b4a1b42f40ccdb7f28a3c484afea0dfe2bbf58285e0269670baec5c165db2cbefd9135e0c0797b5f79819740ab20f588b5a4c721e600a8150548bc3334b6cc8252d368785f5c132225beb1328b5e96b4ce84049fda12eea66b5661664b0ea4f68e6f2ea36dc4425cb7741c87d6b164184d05897a79d805455e0469e04c9df137e6e904a1af1cd1ed46fb86283a37a8a1484d33eac37ae0a866a8c874aa44f9b7037693a13eee52b10e75e345216e5386cfa345e5d5f0af5feb6f4d7b75'}, {'type': 'Certificate', 'issuerPublicKey': '3082012230', 'timestamp': 1737732219062, 'hash': '1517c8a141fd650d993e2a9906768fd9b0ab2c11269229c5193f440682b2fa43', 'signature': '8d8ac3f9d246a76b8308ccc38219bbf5731736eacc50c399462a2c4418ab0e04580c85210759f4149942ec724aa6724edaf53dc7309fa9f991f80ba5500093c03db4425b7f40561fd5324bc510e444463aaf50ff7bf7a538cf4432074b367bb339be760aa1b30b7a77fb876211de46afd691524a733ad1eedd07e9bbeacecc436e98410c474884908c1b5c2dbee7c608bf8c0d24ee03b9bf3c2f4dfa4ab07016c175586a065ad241d4ca69b460de65fbace84f2d82699f243b6e3c3ccdd392beaf07ddad231d34b4297391a76e07b5d030f59a3afc896d6eee4eacd46fc85bf1c208312bb6a578a6a769a201a9afc8c2f760a2e63af52ff33906a62b689a24a3'}]}\n",
      "Block 2:\n",
      "{'type': 'Block', 'issuerPublicKey': '3082012230', 'timestamp': 1737732219268, 'hash': '67e545ea6506f888410745b4c7e8a2d53f64c34de33b574b7dcb3cc979d88392', 'signature': 'bd4f547ce0666dd1b1af9689594512d0ed6623ddbf24978071028d3fc3056f01b0f3c8b00cf15fd5599aeac5308fa41b6fd04b11c74d1a0b7442b5c221d7196c85de6027d95f8803838dc5bd89cc1f886ca4a63134ea1e621db4622b33f32f019aa373199a996e4353d0d2f185a6fe9688fe01722d0ccf668de54a41b69e1830dd4f3e85fc121ef9f5ae72b82db7ae9b90ab2e917e6647bcad3b768a87ff113ea57afae221475889a66cb5acf959a7fd674b62ec2d4ed50b1b7d8562adbbd2ad3cfc98f5a6c63d58be7706f6fe072543916d7600a6214b4415957b7d37c437ce2293c6803c0158e4232af760d27281a334067f336b2405ffd1ca63e51e3d58ca', 'index': 2, 'parent': 'a6541ba54c19aece780a49ae2927ff533e37518c3ac80ba629837ca434b3abd3', 'certificates': [{'type': 'Certificate', 'issuerPublicKey': '3082012230', 'timestamp': 1737732219107, 'hash': '568ec52917d7e50d2d091d71a737aff4e4add4e92f65dea5429edd5eb718b558', 'signature': '2ffe0b8faaa6f267926b91f350fa9351ec2f2f0fc39d60bb4eafb74ed8c6391f56f277b0097145b4e0e62645a86caaeb66660a0139afee1bfdcf2cc8a4f10fd10c7bf3d6c4e12f814b7278bd30d0e898ab5db5389a7683c61f5b04df8f45a990c3ca9527a540396bc2e7a152e0de607cd8e1f6d641857e7f21ea31f9cfa9cda4ec020459ce92eaa01ecbb49b2ca340a423b10fed40cb528f308dee386e707349720b7fbb337b8e6cbc75e99366cd59d85251328ca4639e8acadc7b9d67520760a5498e65691073a71d60ecb02c1cf7b851ad2a4812ec93abc49640e00abe890454649a8d85d922efa39c1aa45efb50fba9dbe65495ef3cbb8eb6c39c784d2fdc'}, {'type': 'Certificate', 'issuerPublicKey': '3082012230', 'timestamp': 1737732219166, 'hash': '3ec6f4ab191521b5f2514d6d47fe06bb727df117b1ecff9276b899b3e453ed57', 'signature': '45178feb25857bf3fe0e657e1f384ac7f5f906950fd2d09f9edbaf7271865a5d1811f5479142dfe91c1a7f6b5b9f8f03a0cd1a1a05be77f266874731245570fe6e85b6d93d7f1e0188b33f6adab8c9496ade2373ad7df5c785d27f8ecf393ddab6cba53a21d115b59cab39975af3619b5b04faa280099a7ef4f792d00f3d5e0ac4093110c06703e6a7f328f71e8491e1e8d51ba316f6faa428994763dd92abe1431213dab799f7ff7383ad4a2cc1384ff0ccff1375af66a299f4875fe2e805d72778b367eb02e06f850e82cc7c6adbe916861933d5bf0ec4537d3fdecabf0940e100f8df4646c5b45e3a2305d5bcaa91df9c679c9b3bdfa47f6639e571bf786a'}]}\n",
      "\n",
      "Scenario 1: Tampering with a certificate's timestamp\n",
      "Is blockchain legit? False\n",
      "\n",
      "Scenario 2: Adding an unsigned block\n",
      "Is blockchain legit? False\n",
      "\n",
      "Scenario 3: Changing the order of blocks\n",
      "Is blockchain legit? False\n",
      "\n",
      "Scenario 4: Modifying a block's parent hash\n",
      "Is blockchain legit? False\n",
      "\n",
      "Scenario 5: Removing a block\n",
      "Is blockchain legit? False\n",
      "\n",
      "Scenario 6: Adding a block with an invalid index\n",
      "Is blockchain legit? False\n",
      "\n",
      "Scenario 7: Adding a block with a mismatched issuer\n",
      "Is blockchain legit? False\n",
      "\n",
      "Final Blockchain:\n",
      "Block 0:\n",
      "{'type': 'Block', 'issuerPublicKey': '0000000000', 'timestamp': 0, 'hash': 'a70c7e36dfd03e9493708664c2effdd5cc5721263477809856cac03793779834', 'signature': '', 'index': 0, 'parent': '0000000000000000000000000000000000000000000000000000000000000000', 'certificates': []}\n",
      "Block 1:\n",
      "{'type': 'Block', 'issuerPublicKey': '3082012230', 'timestamp': 1737732219201, 'hash': '830004ee2601f17bf1c7db9444a33d6a6ea9292770932d55ae88b9fdcb8a6734', 'signature': '09442f607cb9a52fcada1d73d7036ec027108ac45ad69a4daeb724fa7eb8badf0b827ab2a25684a087d5d4aa396db6e8fe18103b072cae1120c966163c8cda2b7fa2e12f6e6f4289d413e63aaa672cf5cf78f00122052c76ad8bad1f965573ee88217cfad91ea5d0f9c25b7bc69202404ee48933744c1bd6f13f5c10b16d7b6c530a0f179729166f4019f3e52a3985bc46a12c138789502fd4e5e7c3a5b1dcf870fd93469d95aa59adb7f8f1d6b7120c3e1876307d91d75e65fd0c7f6130535387ad27b2f19612d98f09a9ebbd09786e0baf3177e606a465806845906404235aa6e5f26af842b4a51d57cfa485675e244518c3e49a618b723a22f74d9c1b8b01', 'index': 1, 'parent': 'a70c7e36dfd03e9493708664c2effdd5cc5721263477809856cac03793779834', 'certificates': [{'type': 'Certificate', 'issuerPublicKey': '3082012230', 'timestamp': 1737732219003, 'hash': 'f8a2bf3819bffe007db5bc120250c467d7368db05f31c2020c4992fb1bf295a8', 'signature': '6255277fa8c4086474e841ff43cc8d87d921db772395d4b6449136f1010b99d7cad5102db8087ab6a5569d34b51d58c1f910b268ca5f2eb1abf245e1084e29a27998e1b4a1b42f40ccdb7f28a3c484afea0dfe2bbf58285e0269670baec5c165db2cbefd9135e0c0797b5f79819740ab20f588b5a4c721e600a8150548bc3334b6cc8252d368785f5c132225beb1328b5e96b4ce84049fda12eea66b5661664b0ea4f68e6f2ea36dc4425cb7741c87d6b164184d05897a79d805455e0469e04c9df137e6e904a1af1cd1ed46fb86283a37a8a1484d33eac37ae0a866a8c874aa44f9b7037693a13eee52b10e75e345216e5386cfa345e5d5f0af5feb6f4d7b75'}, {'type': 'Certificate', 'issuerPublicKey': '3082012230', 'timestamp': 1737732219062, 'hash': '1517c8a141fd650d993e2a9906768fd9b0ab2c11269229c5193f440682b2fa43', 'signature': '8d8ac3f9d246a76b8308ccc38219bbf5731736eacc50c399462a2c4418ab0e04580c85210759f4149942ec724aa6724edaf53dc7309fa9f991f80ba5500093c03db4425b7f40561fd5324bc510e444463aaf50ff7bf7a538cf4432074b367bb339be760aa1b30b7a77fb876211de46afd691524a733ad1eedd07e9bbeacecc436e98410c474884908c1b5c2dbee7c608bf8c0d24ee03b9bf3c2f4dfa4ab07016c175586a065ad241d4ca69b460de65fbace84f2d82699f243b6e3c3ccdd392beaf07ddad231d34b4297391a76e07b5d030f59a3afc896d6eee4eacd46fc85bf1c208312bb6a578a6a769a201a9afc8c2f760a2e63af52ff33906a62b689a24a3'}]}\n",
      "Block 2:\n",
      "{'type': 'Block', 'issuerPublicKey': '3082012230', 'timestamp': 1737732219268, 'hash': 'df73a103f4562ecb168b92ecd30382a6b967cc4e9907a8fd8c23d86c5ff54340', 'signature': 'bd4f547ce0666dd1b1af9689594512d0ed6623ddbf24978071028d3fc3056f01b0f3c8b00cf15fd5599aeac5308fa41b6fd04b11c74d1a0b7442b5c221d7196c85de6027d95f8803838dc5bd89cc1f886ca4a63134ea1e621db4622b33f32f019aa373199a996e4353d0d2f185a6fe9688fe01722d0ccf668de54a41b69e1830dd4f3e85fc121ef9f5ae72b82db7ae9b90ab2e917e6647bcad3b768a87ff113ea57afae221475889a66cb5acf959a7fd674b62ec2d4ed50b1b7d8562adbbd2ad3cfc98f5a6c63d58be7706f6fe072543916d7600a6214b4415957b7d37c437ce2293c6803c0158e4232af760d27281a334067f336b2405ffd1ca63e51e3d58ca', 'index': 2, 'parent': 'tampered_hash', 'certificates': [{'type': 'Certificate', 'issuerPublicKey': '3082012230', 'timestamp': 1737732219107, 'hash': '568ec52917d7e50d2d091d71a737aff4e4add4e92f65dea5429edd5eb718b558', 'signature': '2ffe0b8faaa6f267926b91f350fa9351ec2f2f0fc39d60bb4eafb74ed8c6391f56f277b0097145b4e0e62645a86caaeb66660a0139afee1bfdcf2cc8a4f10fd10c7bf3d6c4e12f814b7278bd30d0e898ab5db5389a7683c61f5b04df8f45a990c3ca9527a540396bc2e7a152e0de607cd8e1f6d641857e7f21ea31f9cfa9cda4ec020459ce92eaa01ecbb49b2ca340a423b10fed40cb528f308dee386e707349720b7fbb337b8e6cbc75e99366cd59d85251328ca4639e8acadc7b9d67520760a5498e65691073a71d60ecb02c1cf7b851ad2a4812ec93abc49640e00abe890454649a8d85d922efa39c1aa45efb50fba9dbe65495ef3cbb8eb6c39c784d2fdc'}, {'type': 'Certificate', 'issuerPublicKey': '3082012230', 'timestamp': 1737732219166, 'hash': '3ec6f4ab191521b5f2514d6d47fe06bb727df117b1ecff9276b899b3e453ed57', 'signature': '45178feb25857bf3fe0e657e1f384ac7f5f906950fd2d09f9edbaf7271865a5d1811f5479142dfe91c1a7f6b5b9f8f03a0cd1a1a05be77f266874731245570fe6e85b6d93d7f1e0188b33f6adab8c9496ade2373ad7df5c785d27f8ecf393ddab6cba53a21d115b59cab39975af3619b5b04faa280099a7ef4f792d00f3d5e0ac4093110c06703e6a7f328f71e8491e1e8d51ba316f6faa428994763dd92abe1431213dab799f7ff7383ad4a2cc1384ff0ccff1375af66a299f4875fe2e805d72778b367eb02e06f850e82cc7c6adbe916861933d5bf0ec4537d3fdecabf0940e100f8df4646c5b45e3a2305d5bcaa91df9c679c9b3bdfa47f6639e571bf786a'}]}\n",
      "Block 3:\n",
      "{'type': 'Block', 'issuerPublicKey': '3082012230', 'timestamp': 1737732219318, 'hash': '8fd0dc6fa96f7fae6d0ffd82c9ae96e47868929734522827b5d96991d3cb76e2', 'signature': '6143cb3ecd90415926701b7b30ae28c97ffbe371a0a617662d0dc603c88cc208ce24384c7adb80e36c730c2283ebf2532827a0bea6676a21104ea68027815ba45e423b72ca354c997fbd3228c63e8cc9e7adb3f328dd31c515e048e4546bee69a51ce22156346537e55c184ccbaecacaa794e76b4eef3c2fe25e38676feca47527e372627734a3713dafe4234651b890c5ccd2218ff85d2dfdf700f5647b54f241e84309a2403b9fb55afd3751dbd2aef0bc6052a717abe75d8c16b151a603f5a5fc821a49a9590b5d23da47ba371b462f8ea58f41dde48de3e9bc2f09a24a6722a4b9a669d8217401282a136f7915d765ae8a6f8d35cd9974c27ff7e20ca24f', 'index': 999, 'parent': '830004ee2601f17bf1c7db9444a33d6a6ea9292770932d55ae88b9fdcb8a6734', 'certificates': [{'type': 'Certificate', 'issuerPublicKey': '3082012230', 'timestamp': 1737732219107, 'hash': '568ec52917d7e50d2d091d71a737aff4e4add4e92f65dea5429edd5eb718b558', 'signature': '2ffe0b8faaa6f267926b91f350fa9351ec2f2f0fc39d60bb4eafb74ed8c6391f56f277b0097145b4e0e62645a86caaeb66660a0139afee1bfdcf2cc8a4f10fd10c7bf3d6c4e12f814b7278bd30d0e898ab5db5389a7683c61f5b04df8f45a990c3ca9527a540396bc2e7a152e0de607cd8e1f6d641857e7f21ea31f9cfa9cda4ec020459ce92eaa01ecbb49b2ca340a423b10fed40cb528f308dee386e707349720b7fbb337b8e6cbc75e99366cd59d85251328ca4639e8acadc7b9d67520760a5498e65691073a71d60ecb02c1cf7b851ad2a4812ec93abc49640e00abe890454649a8d85d922efa39c1aa45efb50fba9dbe65495ef3cbb8eb6c39c784d2fdc'}]}\n",
      "Block 4:\n",
      "{'type': 'Block', 'issuerPublicKey': '3082012230', 'timestamp': 1737732219388, 'hash': '5b36e8912e36195622fc2be644781e7abb9fcadc1493ef958f520a5aac5f7c7b', 'signature': '00b4d0a4a085d4f868e6337e01d8510b283c38f8cf1038c236e7a405ba93ee210a8f30bac22b06d7504f826ff7fcdfbd47b6aacd89dce1c1e4c6c0b12cfb0825f84f37047f4632293ea8070dfc4d04d39cbcc17dedf879b0dd492bc4933fa6f6c5798142c249c76d899d51020cfa1779fa13ec7b96128a68e84be9d5cf896dc082ee9b567ce8db9c540a1f46106aad6aee58042d107fd7633499d3e7650067da85cb52b0c2bf538108c53838ef0871913f58e5c054b9cb245e06df77fe54e86f75468baaf236b7b5cea439076e2c6d30a54d30a9df6909e425daae28f4a08c80a7d4fb9da07fc7e692fe51d43370717f94dbf0478774cc4787889c7deee2f69e', 'index': 2, 'parent': '830004ee2601f17bf1c7db9444a33d6a6ea9292770932d55ae88b9fdcb8a6734', 'certificates': [{'type': 'Certificate', 'issuerPublicKey': '3082012230', 'timestamp': 1737732219166, 'hash': '3ec6f4ab191521b5f2514d6d47fe06bb727df117b1ecff9276b899b3e453ed57', 'signature': '45178feb25857bf3fe0e657e1f384ac7f5f906950fd2d09f9edbaf7271865a5d1811f5479142dfe91c1a7f6b5b9f8f03a0cd1a1a05be77f266874731245570fe6e85b6d93d7f1e0188b33f6adab8c9496ade2373ad7df5c785d27f8ecf393ddab6cba53a21d115b59cab39975af3619b5b04faa280099a7ef4f792d00f3d5e0ac4093110c06703e6a7f328f71e8491e1e8d51ba316f6faa428994763dd92abe1431213dab799f7ff7383ad4a2cc1384ff0ccff1375af66a299f4875fe2e805d72778b367eb02e06f850e82cc7c6adbe916861933d5bf0ec4537d3fdecabf0940e100f8df4646c5b45e3a2305d5bcaa91df9c679c9b3bdfa47f6639e571bf786a'}]}\n"
     ]
    }
   ],
   "source": []
  }
 ],
 "metadata": {
  "kernelspec": {
   "display_name": "nolan_env",
   "language": "python",
   "name": "python3"
  },
  "language_info": {
   "codemirror_mode": {
    "name": "ipython",
    "version": 3
   },
   "file_extension": ".py",
   "mimetype": "text/x-python",
   "name": "python",
   "nbconvert_exporter": "python",
   "pygments_lexer": "ipython3",
   "version": "3.12.8"
  }
 },
 "nbformat": 4,
 "nbformat_minor": 5
}
