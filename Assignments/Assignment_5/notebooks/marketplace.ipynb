{
 "cells": [
  {
   "cell_type": "code",
   "execution_count": 1,
   "metadata": {},
   "outputs": [],
   "source": [
    "# Mandatory cell for the rest of this assignment\n",
    "\n",
    "%load_ext autoreload\n",
    "%autoreload 2\n",
    "\n",
    "from sys import path\n",
    "\n",
    "path.append('../scripts')"
   ]
  },
  {
   "cell_type": "code",
   "execution_count": 2,
   "metadata": {},
   "outputs": [],
   "source": [
    "def read_text_file(fileName):\n",
    "    with open(fileName, 'r', encoding='utf-8') as f:\n",
    "        return f.read()"
   ]
  },
  {
   "cell_type": "code",
   "execution_count": 3,
   "metadata": {},
   "outputs": [],
   "source": [
    "from node import BlockchainNode\n",
    "from network import Node\n",
    "from wallet import Wallet\n",
    "from proof_of_stake import ProofOfStake\n",
    "\n",
    "walletNode1 = Wallet()\n",
    "walletNode2 = Wallet()\n",
    "walletNode3 = Wallet()\n",
    "\n",
    "walletAlice = Wallet()\n",
    "walletBob = Wallet()\n",
    "\n",
    "pos = ProofOfStake(walletNode1.publicKey)\n",
    "\n",
    "def reset_blockchain():\n",
    "    Node.reset_network()\n",
    "    global node1, node2, node3\n",
    "    node1 = BlockchainNode(walletNode1, pos)\n",
    "    node2 = BlockchainNode(walletNode2, pos)\n",
    "    node3 = BlockchainNode(walletNode3, pos)"
   ]
  },
  {
   "cell_type": "code",
   "execution_count": 8,
   "metadata": {},
   "outputs": [
    {
     "name": "stdout",
     "output_type": "stream",
     "text": [
      "Market items: [('Table', 'Nice wooden table', 100, '4ea0a3fa'), ('Chair', 'Nice wooden chair', 50, '4ea0a3fa')]\n"
     ]
    }
   ],
   "source": [
    "import time\n",
    "from certificate import Certificate\n",
    "from helpers import timestamp\n",
    "from smart_contracts.marketplace import SmartContract\n",
    "from smart_contract import SmartContractDefinition, SmartContractWritingOperation\n",
    "\n",
    "reset_blockchain()\n",
    "\n",
    "smartContractDefinition = SmartContractDefinition(walletAlice.publicKey, read_text_file('smart_contracts/marketplace.py'), [])\n",
    "walletAlice.sign(smartContractDefinition)\n",
    "\n",
    "node1.new_certificate(smartContractDefinition)\n",
    "\n",
    "aliceSellOperation1 = SmartContract.add_item_certificate(walletAlice.publicKey, smartContractDefinition, SmartContract.ItemInfo(\"Table\",\"Nice wooden table\",  100))\n",
    "\n",
    "aliceSellOperation2 = SmartContract.add_item_certificate(walletAlice.publicKey, smartContractDefinition, SmartContract.ItemInfo(\"Chair\",\"Nice wooden chair\",  50))\n",
    "\n",
    "walletAlice.sign(aliceSellOperation1)\n",
    "walletAlice.sign(aliceSellOperation2)\n",
    "\n",
    "node1.new_certificate(aliceSellOperation1)\n",
    "node1.new_certificate(aliceSellOperation2)\n",
    "\n",
    "######################\n",
    "\n",
    "for i in range(10):\n",
    "    certificate = Certificate(walletAlice.publicKey)\n",
    "    \n",
    "    walletAlice.sign(certificate)\n",
    "    node1.new_certificate(certificate)\n",
    "\n",
    "######################\n",
    "# node2.blockchain.display()\n",
    "\n",
    "smartContractObject = SmartContractDefinition.get_smart_contract_at_current_state(\n",
    "    node2.blockchain,\n",
    "    smartContractDefinition.hash()\n",
    ")\n",
    "\n",
    "\n",
    "smartContractObject.display()"
   ]
  },
  {
   "cell_type": "code",
   "execution_count": 12,
   "metadata": {},
   "outputs": [
    {
     "name": "stdout",
     "output_type": "stream",
     "text": [
      "Minting is not allowed at this time\n",
      "You are already the owner of this token\n",
      "SmartContract NFT:\n",
      "Token owners: ['1: 2b95d86d', '2: 2b95d86d']\n",
      "Start mint timestamp: 1740650186858\n",
      "Mint time: 200\n",
      "Token id: 2\n"
     ]
    }
   ],
   "source": [
    "bobTransferOperation = SmartContract.transfer_certificate(walletBob.publicKey, smartContractDefinition, walletAlice.publicKey, 2)\n",
    "\n",
    "walletAlice.sign(bobTransferOperation)\n",
    "\n",
    "node2.new_certificate(bobTransferOperation)\n",
    "\n",
    "bobTransferOperation = SmartContract.transfer_certificate(walletBob.publicKey, smartContractDefinition, walletBob.publicKey, 2)\n",
    "\n",
    "walletBob.sign(bobTransferOperation)\n",
    "\n",
    "node2.new_certificate(bobTransferOperation)\n",
    "\n",
    "bobTransferOperation = SmartContract.transfer_certificate(walletBob.publicKey, smartContractDefinition, walletAlice.publicKey, 2)\n",
    "\n",
    "walletBob.sign(bobTransferOperation)\n",
    "\n",
    "node2.new_certificate(bobTransferOperation)\n",
    "\n",
    "\n",
    "######################\n",
    "\n",
    "for i in range(10):\n",
    "    certificate = Certificate(walletAlice.publicKey)\n",
    "    \n",
    "    walletAlice.sign(certificate)\n",
    "    node1.new_certificate(certificate)\n",
    "\n",
    "######################\n",
    "\n",
    "smartContractObject = SmartContractDefinition.get_smart_contract_at_current_state(\n",
    "    node2.blockchain,\n",
    "    smartContractDefinition.hash()\n",
    ")\n",
    "\n",
    "\n",
    "smartContractObject.display()\n"
   ]
  },
  {
   "cell_type": "code",
   "execution_count": 13,
   "metadata": {},
   "outputs": [
    {
     "name": "stdout",
     "output_type": "stream",
     "text": [
      " * Serving Flask app '__main__'\n",
      " * Debug mode: off\n"
     ]
    },
    {
     "name": "stderr",
     "output_type": "stream",
     "text": [
      "\u001b[31m\u001b[1mWARNING: This is a development server. Do not use it in a production deployment. Use a production WSGI server instead.\u001b[0m\n",
      " * Running on http://127.0.0.1:8000\n",
      "\u001b[33mPress CTRL+C to quit\u001b[0m\n"
     ]
    }
   ],
   "source": [
    "from flask import Flask\n",
    "from dominate import document\n",
    "from dominate.tags import *\n",
    "\n",
    "app = Flask(__name__)\n",
    "\n",
    "@app.route('/')\n",
    "def home():\n",
    "    doc = document(title=\"My Page\")\n",
    "    with doc.head:\n",
    "        title(\"My Page\")\n",
    "        script(src=\"https://unpkg.com/htmx.org@2.0.4\", integrity=\"sha384-HGfztofotfshcF7+8n44JQL2oJmowVChPTg48S+jvZoztPfvwD79OC/LTtG6dMp+\", crossorigin=\"anonymous\")\n",
    "    with doc:\n",
    "        with body():\n",
    "            h1(\"Hello, World!\")\n",
    "            b = button(\"Click me\")\n",
    "            b[\"hx-get\"] = \"/a\"\n",
    "            div().add_raw_string(smartContractObject.html())\n",
    "            \n",
    "    return doc.render()\n",
    "\n",
    "@app.route('/a')\n",
    "def a():\n",
    "    return \"You clicked the button!\"\n",
    "\n",
    "if __name__ == '__main__':\n",
    "    app.run(port=8000)"
   ]
  }
 ],
 "metadata": {
  "kernelspec": {
   "display_name": "venv",
   "language": "python",
   "name": "python3"
  },
  "language_info": {
   "codemirror_mode": {
    "name": "ipython",
    "version": 3
   },
   "file_extension": ".py",
   "mimetype": "text/x-python",
   "name": "python",
   "nbconvert_exporter": "python",
   "pygments_lexer": "ipython3",
   "version": "3.13.1"
  }
 },
 "nbformat": 4,
 "nbformat_minor": 2
}
