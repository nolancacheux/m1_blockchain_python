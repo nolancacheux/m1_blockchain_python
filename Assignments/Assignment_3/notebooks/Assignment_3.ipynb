{
 "cells": [
  {
   "cell_type": "markdown",
   "id": "e22288f1-e868-4657-b9f7-f22ee54955fb",
   "metadata": {},
   "source": [
    "# Assignment 3\n",
    "\n",
    "***\n",
    "\n",
    "*Consensus algorithms*\n",
    "\n",
    "***\n",
    "\n",
    "In this practical work, we will implement the details of both Proof-of-Stake (PoS) and as a bonus Proof-of-Work (PoW). Since PoS is becoming the most popular consensus algorithm, and suits any decentralized system well, it is the most interesting to look after.\n",
    "\n",
    "It may seem counter-intuitive since until now we haven't seen nor coded a decentralized system (this is for Assignment 4). We will stick to one central blockchain on which multiple public keys operate.\n",
    "\n",
    "So one would argue : why doing it now since once we port the model to a decentralized network, blockchain instances will be out of synchronization. Well the answer, as we've seen in the lecture, is **deterministicity**. The consensus is **universal** and does not need people to communicate. Like a law of nature, somehow.\n",
    "\n",
    "Take as an example the pi constant ```𝜋 ≈ 3.14159...```. Since we've all been taught the same mathematics in class, we all learnt the same operators ```+```, ```-```, ```÷``` ..., the traditional digits 0..9, and all the rest, which are all really just a human construct, we are all able to calculate ```𝜋``` (we actually did in Assignment 1). We can thus say there is a universal consensus on ```𝜋```. You do not need to talk with a libanese student to agree on the value of ```𝜋```.\n",
    "\n",
    "For blockchains, the same applies. Every node in the network owns the same software that runs the blockchain (like us, the same mathematics) and can thus **calculate the same forger for next block**. This way, a consensus is reached without exchanging information."
   ]
  },
  {
   "cell_type": "code",
   "execution_count": 1,
   "id": "1ae832cd",
   "metadata": {
    "ExecuteTime": {
     "end_time": "2025-01-28T11:31:56.566562Z",
     "start_time": "2025-01-28T11:31:56.539533Z"
    }
   },
   "outputs": [],
   "source": [
    "# Mandatory cell, please execute it\n",
    "\n",
    "%load_ext autoreload\n",
    "%autoreload 2\n",
    "\n",
    "from sys import path\n",
    "\n",
    "path.append('../scripts')\n",
    "\n",
    "class StopExecution(Exception):\n",
    "    def _render_traceback_(self):\n",
    "        pass"
   ]
  },
  {
   "cell_type": "markdown",
   "id": "b03ad070-51b1-460e-9e6c-f39d632d1a09",
   "metadata": {},
   "source": [
    "### Staking\n",
    "\n",
    "In Proof-of-Stake, there is \"Stake\" so we need the possibility to stake tokens.\n",
    "\n",
    "In the context of blockchains, \"staking\" refers to the action of depositing a fixed amount of tokens to strengthen one's voting rights in important decisions concerning the blockchain. The primary of these decisions is the selection of the next forger, but each blockchain project can include additional decisions, such as the project's direction, reward choices, and more...\n",
    "\n",
    "As we haven't implemented an economic system in our blockchain (our blockchain is purely educational), we will assume that every actor in the blockchain has an infinite amount of tokens in their pocket. Therefore, you can stake any amount you want for each wallet.\n",
    "\n",
    "Now, we need to code the staking operation.\n",
    "\n",
    "***\n",
    "\n",
    "<font color=\"7777aa\">In your \"scripts\" folder, create a file called `stake.py` in which you must implement the `StakingOperation` class. For now, just code its constructor, nothing more.</font>\n",
    "\n",
    "This class should adhere to the following model, as we've just discussed:\n",
    "* A staking operation involves a person and an amount of tokens to be staked (`tokenAmount`).\n",
    "* These operations will be stored in the blockchain (and therefore gain all the properties of security, immutability, etc...)\n",
    "\n",
    "> <details><summary><strong>Click here to show help 1</strong></summary>The description I provided should strongly remind you of another data structure you saw in Assignment 2.</details>\n",
    "\n",
    "> <details><summary><strong>Click here to show help 2</strong></summary><code>StakingOperation</code> inherits from <code>Certificate</code>, you just need to add the <code>tokenAmount</code> field in the class and its constructor.</details>"
   ]
  },
  {
   "cell_type": "code",
   "execution_count": 3,
   "id": "f50c3a7f",
   "metadata": {
    "ExecuteTime": {
     "end_time": "2025-01-28T11:31:58.692406Z",
     "start_time": "2025-01-28T11:31:57.931843Z"
    }
   },
   "outputs": [
    {
     "data": {
      "text/plain": [
       "'Success!'"
      ]
     },
     "execution_count": 3,
     "metadata": {},
     "output_type": "execute_result"
    }
   ],
   "source": [
    "from stake import StakingOperation\n",
    "\n",
    "dummyStakingOperation = StakingOperation('9cbe2a6713', 42)\n",
    "\n",
    "assert dummyStakingOperation.issuerPublicKey == '9cbe2a6713'   # Has an issuer\n",
    "assert dummyStakingOperation.tokenAmount == 42                 # Staking 42 tokens\n",
    "\n",
    "'Success!'"
   ]
  },
  {
   "cell_type": "markdown",
   "id": "2b0bf0f2",
   "metadata": {},
   "source": [
    "***\n",
    "<font color=\"7777aa\">In the same way you did it for the `Block` class in Assignment 2, rewrite the `build_payload()` function to include the additional data.</font>\n",
    "\n",
    "> <details><summary><strong>Click here to show help</strong></summary>You simply need to add <code>tokenAmount</code> to it.</details>"
   ]
  },
  {
   "cell_type": "code",
   "execution_count": 5,
   "id": "9facb33a",
   "metadata": {
    "ExecuteTime": {
     "end_time": "2025-01-28T11:31:59.781409Z",
     "start_time": "2025-01-28T11:31:59.763396Z"
    }
   },
   "outputs": [
    {
     "data": {
      "text/plain": [
       "{'issuerPublicKey': '9cbe2a6713',\n",
       " 'timestamp': 1738233120343,\n",
       " 'tokenAmount': 42}"
      ]
     },
     "execution_count": 5,
     "metadata": {},
     "output_type": "execute_result"
    }
   ],
   "source": [
    "dummyStakingOperation.build_payload()"
   ]
  },
  {
   "cell_type": "markdown",
   "id": "8f5e1e95",
   "metadata": {},
   "source": [
    "You can now use your blockchain to perform staking operations, and the following cell demonstrates how to do it.\n",
    "\n",
    "For the entire duration of the Assignment, we will have the following setup:\n",
    "\n",
    "* Two actors (**Alice** and **Bob**) represented by their wallets (`walletAlice` and `walletBob`).\n",
    "* One and only one **blockchain** (`blockchainAssignment3`) on which we will add staking operations and general certificates.\n",
    "\n",
    "Let's start with Alice and Bob staking the following amounts:\n",
    "* Alice: 4\n",
    "* Bob: 2.5"
   ]
  },
  {
   "cell_type": "code",
   "execution_count": 6,
   "id": "a3960ac2",
   "metadata": {
    "ExecuteTime": {
     "end_time": "2025-01-28T11:32:01.641789Z",
     "start_time": "2025-01-28T11:32:00.931893Z"
    }
   },
   "outputs": [
    {
     "name": "stdout",
     "output_type": "stream",
     "text": [
      "Block 0:\n",
      "{'type': 'Block', 'issuerPublicKey': '0000000000', 'timestamp': 0, 'hash': 'a70c7e36dfd03e9493708664c2effdd5cc5721263477809856cac03793779834', 'signature': '', 'index': 0, 'parent': '0000000000000000000000000000000000000000000000000000000000000000', 'certificates': []}\n",
      "Block 1:\n",
      "{'type': 'Block', 'issuerPublicKey': '3082012230', 'timestamp': 1738233558338, 'hash': 'aa28d5d2664bebd84a6aeb9055fcf9f9b96682d182b58e9f7f3c606946e9ad87', 'signature': '09281b8533564f65762382bb88153f4355465e043da19c4e98bf0dbeffc2bbf93aefcfd1f2450fa16b3537203af21c1fb9a9bc0d1676047e4fd28628ef558adf447fc27d54211dcb92d5b05daca632c32d93f3fb5745fcca56a2acabcb77cde26cc79d38d425c6b2b14a2b6bac7cd416a399ad363daaedaf3b4136ceaf470c4c97b8e422dac81453db717d6d27ac8dce8f0d9c843709a0787d25f186be8d923a8ad4be166d37c62657d53d45d1330a01563e9d684434f773374a8eff09f760cb5e850a3af928e33dae7e90ff74412017d34ddd3c607078a913e3a1059ac90a90658009279749569c531822877b669168f1a6fd553456fc23731ef2c1c6c31a62', 'index': 1, 'parent': 'a70c7e36dfd03e9493708664c2effdd5cc5721263477809856cac03793779834', 'certificates': [{'type': 'StakingOperation', 'issuerPublicKey': '3082012230', 'timestamp': 1738233558271, 'hash': 'f872cf9c658844802b184de954a24bbfe61514899be217bd31b450dddf1c4742', 'signature': '38960f3982e9eec1873a445394b64a625e62354959d2c524e90f06426dcfb92be3dbc8e6f88f78af4003ef35e54b5e389fd9c05a0ca882c1c093cc746dad4ee72279f6487edcb43d6cd6e930794456d402919d9d2e6c870f0095c0efa65992211ea3f8bfb7328ba51d223309942525d0c2763a1ec75606ce48b3f8ac1d69fece623b75986fdd57bc93dc6c338fd43c0de6e006001967bfdd313e07586bd7eb8e11be31e968126c6f16dafb4c59d7b84f7e9252f8cacb2da65d09facb68e4cf625873e4e3ee16f7dbc94c93a1f9efb641c2dd76efc25ee37f49665f52259056392079f9399a47ad814ee4e29440084ff5da023e3a887af13eeb47cbd68fc6e584'}, {'type': 'StakingOperation', 'issuerPublicKey': '3082012230', 'timestamp': 1738233558304, 'hash': '4ad3f325b06077f32956ba314ccf290fa306469a2fdafdb9c20c3b1bfb5b9ba0', 'signature': '6b0f6504a987fce6c5aa0520736fed0c7eb0c02e50810b50bfd4b2fe7edb9865b002407cb7226c045bd53af4e90bd6feacdbb419d15c4605260d73b94245d2a52f44bf9a94c5b3855028d92de4a6e19eb2ce7a3801f2d3ecf2f4648feec89a63c094a12f5448f29cb3d94d1b8aa6e7bf9f01416fd9e54105eab66b95d2fc7a31d60538ec1f3b81bb6340cc560a90e0b95709b14a8eef5e9c86932c03b14304527f0b4f0ccd85667bb5c1d441eadf8e6d102ce051d2877f8c99813c3179b3ed13cfdb074e8de07d5898938e79830ac0c3704f99d7408045c5572da8fdee869d96f40fa6f94bafbcea76225c68db445673ef99aeaf8b7393fdbce6915f7589ca0e'}]}\n"
     ]
    }
   ],
   "source": [
    "from wallet import Wallet\n",
    "from block import Block\n",
    "from blockchain import Blockchain\n",
    "\n",
    "# Two actors\n",
    "\n",
    "walletAlice = Wallet()\n",
    "walletBob = Wallet()\n",
    "\n",
    "def reset_staking_blockchain():\n",
    "\n",
    "    global walletAlice, walletBob, blockchainAssignment3, stakingAlice1, stakingBob1, block1\n",
    "    \n",
    "    # Our blockchain\n",
    "    \n",
    "    blockchainAssignment3 = Blockchain()\n",
    "    \n",
    "    # Alice wants to stake 4\n",
    "    \n",
    "    stakingAlice1 = StakingOperation(walletAlice.publicKey, 4)\n",
    "    walletAlice.sign(stakingAlice1)\n",
    "    \n",
    "    # Bob wants to stake 2.5\n",
    "    \n",
    "    stakingBob1 = StakingOperation(walletBob.publicKey, 2.5)\n",
    "    walletBob.sign(stakingBob1)\n",
    "    \n",
    "    # To ensure both staking operations are inside the blockchain, Alice creates a block, put them in it and adds the block to the blockchain.\n",
    "    \n",
    "    block1 = Block(walletAlice.publicKey, 1, blockchainAssignment3.get_latest_block().hash(), [stakingAlice1, stakingBob1])\n",
    "    walletAlice.sign(block1)\n",
    "    blockchainAssignment3.blockList.append(block1)\n",
    "\n",
    "reset_staking_blockchain()\n",
    "\n",
    "# If you did bonus 1 of Assignment 2 (or if you downloaded the solution), take a peek at your blockchain :\n",
    "\n",
    "if not hasattr(blockchainAssignment3, 'display'):\n",
    "    raise StopExecution\n",
    "    \n",
    "blockchainAssignment3.display()"
   ]
  },
  {
   "cell_type": "markdown",
   "id": "6db263c8",
   "metadata": {},
   "source": [
    "It would be interesting to code a function that allows us to determine the total staked tokens for each actor. This will be particularly useful for the consensus algorithm.\n",
    "\n",
    "The idea is simple: we will traverse the entire blockchain and calculate, using the staking operations found within it, the total staked tokens for everyone.\n",
    "\n",
    "Since this function only deals with staking operations, we will write it directly in the `StakingOperation` class.\n",
    "\n",
    "***\n",
    "\n",
    "You will need to write a static function. In Python, you can do this by removing `self` from the function's arguments and adding the `@staticmethod` attribute. Here's an example:\n",
    "\n",
    "```python\n",
    "class MyClass:\n",
    "\n",
    "    @staticmethod\n",
    "    def my_static_function(arguments):\n",
    "        pass\n",
    "```\n",
    "\n",
    "To use it, simply call `MyClass.my_static_function(arguments)`.\n",
    "\n",
    "***\n",
    "\n",
    "<font color=\"7777aa\">In your `StakingOperation` class, write the static function `build_staking_accounts(blockList)` that takes as input **any list of blocks** (not a blockchain) and returns a Python dictionary. The keys of this dictionary should be the public keys of the people who have staked tokens in this list of blocks, and the values should be the amount of tokens staked by these individuals.</font>\n",
    "\n",
    "> `build_staking_accounts(blockList)` takes a list of blocks as a parameter rather than a blockchain because it's a function that can be used on a subset of blocks from any blockchain. In general, since this function only deals with a list of blocks, there's no need to complicate the input parameter.\n",
    "\n",
    "> <details><summary><strong>Click here to show help 1</strong></summary>You can use the built-in <code>isinstance(object, class)</code> function as demonstrated in the cell below.</details>\n",
    "\n",
    "> <details><summary><strong>Click here to show help 2</strong></summary>Create an empty dictionary, which will be your output dictionary. Then, iterate through each block in the list and each certificate in those blocks. For each certificate found, check if it's indeed a <code>StakingOperation</code>, and if so, add the amount to your output dictionary.</details>"
   ]
  },
  {
   "cell_type": "code",
   "execution_count": 32,
   "id": "5159254d",
   "metadata": {
    "ExecuteTime": {
     "end_time": "2025-01-28T11:32:03.085441Z",
     "start_time": "2025-01-28T11:32:02.843447Z"
    }
   },
   "outputs": [
    {
     "name": "stderr",
     "output_type": "stream",
     "text": [
      "[autoreload of stake failed: Traceback (most recent call last):\n",
      "  File \"c:\\Users\\nolan\\anaconda3\\envs\\V2\\Lib\\site-packages\\IPython\\extensions\\autoreload.py\", line 276, in check\n",
      "    superreload(m, reload, self.old_objects)\n",
      "  File \"c:\\Users\\nolan\\anaconda3\\envs\\V2\\Lib\\site-packages\\IPython\\extensions\\autoreload.py\", line 500, in superreload\n",
      "    update_generic(old_obj, new_obj)\n",
      "  File \"c:\\Users\\nolan\\anaconda3\\envs\\V2\\Lib\\site-packages\\IPython\\extensions\\autoreload.py\", line 397, in update_generic\n",
      "    update(a, b)\n",
      "  File \"c:\\Users\\nolan\\anaconda3\\envs\\V2\\Lib\\site-packages\\IPython\\extensions\\autoreload.py\", line 349, in update_class\n",
      "    if update_generic(old_obj, new_obj):\n",
      "       ^^^^^^^^^^^^^^^^^^^^^^^^^^^^^^^^\n",
      "  File \"c:\\Users\\nolan\\anaconda3\\envs\\V2\\Lib\\site-packages\\IPython\\extensions\\autoreload.py\", line 397, in update_generic\n",
      "    update(a, b)\n",
      "  File \"c:\\Users\\nolan\\anaconda3\\envs\\V2\\Lib\\site-packages\\IPython\\extensions\\autoreload.py\", line 309, in update_function\n",
      "    setattr(old, name, getattr(new, name))\n",
      "ValueError: build_payload() requires a code object with 1 free vars, not 2581275344896\n",
      "]\n"
     ]
    },
    {
     "ename": "KeyError",
     "evalue": "'30820122300d06092a864886f70d01010105000382010f003082010a0282010100a5ff60dab52dac8d75a2f20f3fbdc69a6f1dd4661f4f9623917f89ed1ac974ec0c4792dd2e3a4d8846bf718a7ce47ea14c3d57411fc4ffbcb7ee1a9d7b1fa5aa047d5f5b4197faf81420f0b264b72f7f4307e44b9a6f762aeffddbe533aed3cc2dde4fe99af95e7a62f993aad590b24f100472f6ed5ec10a0ddbc6b1f35959fe8d7c3bd60c256fe8e48f51be4eb71d5369ffb7004990a4dcb2273b091a7195697c64110b74cc790e9ea406720521d4841ead6e4dd732b5634461e5638057c1d73b459d0c0752dac97f63a16095f7b5d1b4e190069f1512e7209777d10232b0cf194fc6f8ce45a91b5c82b5fb009de092e59a0c126cdca65982f1a259e255b4510203010001'",
     "output_type": "error",
     "traceback": [
      "\u001b[1;31m---------------------------------------------------------------------------\u001b[0m",
      "\u001b[1;31mKeyError\u001b[0m                                  Traceback (most recent call last)",
      "Cell \u001b[1;32mIn[32], line 30\u001b[0m\n\u001b[0;32m     28\u001b[0m \u001b[38;5;28;01massert\u001b[39;00m \u001b[38;5;28misinstance\u001b[39m(accountsAfterBlock2, \u001b[38;5;28mdict\u001b[39m)              \u001b[38;5;66;03m# I asked for a dictionary\u001b[39;00m\n\u001b[0;32m     29\u001b[0m \u001b[38;5;66;03m#assert len(accountsAfterBlock2) == 2                      # 2 actors have staked\u001b[39;00m\n\u001b[1;32m---> 30\u001b[0m \u001b[38;5;28;01massert\u001b[39;00m \u001b[43maccountsAfterBlock2\u001b[49m\u001b[43m[\u001b[49m\u001b[43mwalletAlice\u001b[49m\u001b[38;5;241;43m.\u001b[39;49m\u001b[43mpublicKey\u001b[49m\u001b[43m]\u001b[49m \u001b[38;5;241m==\u001b[39m \u001b[38;5;241m3\u001b[39m    \u001b[38;5;66;03m# Alice staked 3\u001b[39;00m\n\u001b[0;32m     31\u001b[0m \u001b[38;5;28;01massert\u001b[39;00m accountsAfterBlock2[walletBob\u001b[38;5;241m.\u001b[39mpublicKey] \u001b[38;5;241m==\u001b[39m \u001b[38;5;241m2.5\u001b[39m    \u001b[38;5;66;03m# Bob staked 2.5\u001b[39;00m\n\u001b[0;32m     33\u001b[0m \u001b[38;5;124m\"\u001b[39m\u001b[38;5;124mSuccess!\u001b[39m\u001b[38;5;124m\"\u001b[39m\n",
      "\u001b[1;31mKeyError\u001b[0m: '30820122300d06092a864886f70d01010105000382010f003082010a0282010100a5ff60dab52dac8d75a2f20f3fbdc69a6f1dd4661f4f9623917f89ed1ac974ec0c4792dd2e3a4d8846bf718a7ce47ea14c3d57411fc4ffbcb7ee1a9d7b1fa5aa047d5f5b4197faf81420f0b264b72f7f4307e44b9a6f762aeffddbe533aed3cc2dde4fe99af95e7a62f993aad590b24f100472f6ed5ec10a0ddbc6b1f35959fe8d7c3bd60c256fe8e48f51be4eb71d5369ffb7004990a4dcb2273b091a7195697c64110b74cc790e9ea406720521d4841ead6e4dd732b5634461e5638057c1d73b459d0c0752dac97f63a16095f7b5d1b4e190069f1512e7209777d10232b0cf194fc6f8ce45a91b5c82b5fb009de092e59a0c126cdca65982f1a259e255b4510203010001'"
     ]
    }
   ],
   "source": [
    "from certificate import Certificate\n",
    "\n",
    "reset_staking_blockchain()\n",
    "\n",
    "# We'll add a second block containing a staking operation as well as an arbitrary certificate\n",
    "\n",
    "if len(blockchainAssignment3.blockList) == 2:\n",
    "    \n",
    "    # Arbitrary certificate of Bob\n",
    "    \n",
    "    certificateBob1 = Certificate(walletBob.publicKey)\n",
    "    walletBob.sign(certificateBob1)\n",
    "    \n",
    "    # Alice eventually decides to get 1 token back\n",
    "    \n",
    "    stakingAlice2 = StakingOperation(walletAlice.publicKey, -1)\n",
    "    walletAlice.sign(stakingAlice2)\n",
    "    \n",
    "    # New block to engrave those certificates\n",
    "    \n",
    "    block2 = Block(walletBob.publicKey, 2, blockchainAssignment3.get_latest_block().hash(), [certificateBob1, stakingAlice2])\n",
    "    walletBob.sign(block2)\n",
    "    blockchainAssignment3.blockList.append(block2)\n",
    "    \n",
    "# Let's calculate the stakings\n",
    "accountsAfterBlock2 = StakingOperation.build_staking_accounts(blockchainAssignment3.blockList)\n",
    "\n",
    "assert isinstance(accountsAfterBlock2, dict)              # I asked for a dictionary\n",
    "#assert len(accountsAfterBlock2) == 2                      # 2 actors have staked\n",
    "assert accountsAfterBlock2[walletAlice.publicKey] == 3    # Alice staked 3\n",
    "assert accountsAfterBlock2[walletBob.publicKey] == 2.5    # Bob staked 2.5\n",
    "\n",
    "\"Success!\""
   ]
  },
  {
   "cell_type": "markdown",
   "id": "bb2700a3",
   "metadata": {},
   "source": [
    "### Proof-of-Stake\n",
    "\n",
    "Remember what we learned in class: in a blockchain, different actors agree on the identity of the entity that has the right to forge the next block to be added. This is called the **consensus algorithm**.\n",
    "\n",
    "Now it's time to implement the ***Proof-of-Stake*** consensus algorithm for our blockchain.\n",
    "\n",
    "The idea is quite simple, as we discussed in class; it's a system similar to a lottery or a raffle:\n",
    "\n",
    "* First, we calculate the staking accounts for all actors who have staked (by traversing the blockchain up to this point).\n",
    "* For each actor who has staked, we will assign them as many raffle tickets as they have staked tokens (rounded down to the nearest whole number because we can have fractional tokens...).\n",
    "* Next, we need to decide who has won. To do this, we hash the last block of the blockchain, which we then call `forgeHash`.\n",
    "* Finally, we hash all the raffle tickets. The ticket with the hash closest in numerical distance to `forgeHash` is declared the winner, and its owner gains the right to forge the next block (to get the numerical distance, we convert the hashes to `int`).\n",
    "\n",
    "This algorithm works because, since the blockchain is the same for all network actors, each one can perform these calculations on their own and arrive at the same winner as the others (as explained at the beginning of this notebook).\n",
    "\n",
    "Let's start by modeling a raffle ticket.\n",
    "\n",
    "***\n",
    "\n",
    "<font color=\"7777aa\">In your \"scripts\" folder, create a file called `ticket.py` where you will implement the `RaffleTicket` class. This class should have three public fields: its owner `ownerPublicKey`, its ticket number `number`, and the hash of the raffle it participates in `raffleHash`.</font>"
   ]
  },
  {
   "cell_type": "code",
   "execution_count": null,
   "id": "b6f358dc",
   "metadata": {
    "ExecuteTime": {
     "end_time": "2025-01-28T11:32:04.053500Z",
     "start_time": "2025-01-28T11:32:04.032787Z"
    }
   },
   "outputs": [],
   "source": [
    "from ticket import RaffleTicket\n",
    "\n",
    "dummyTicket = RaffleTicket(walletAlice.publicKey, 1, blockchainAssignment3.get_latest_block().hash())\n",
    "\n",
    "assert dummyTicket.ownerPublicKey == walletAlice.publicKey                 # Owner is Alice\n",
    "assert dummyTicket.number == 1                                             # Ticket number is 1\n",
    "assert dummyTicket.raffleHash == blockchainAssignment3.get_latest_block().hash()   # Raffle hash is the hash of latest block\n",
    "\n",
    "'Success!'"
   ]
  },
  {
   "cell_type": "markdown",
   "id": "0467598a",
   "metadata": {},
   "source": [
    "<font color=\"7777aa\">Add a `hash()` function to this class that transforms the ticket into a hash **in hexadecimal form** (it's better to keep our standard format and convert it to an integer later).\n",
    "\n",
    "**Attention! Remember that your hash must be identical if you have exactly the same data in the ticket...**</font>\n",
    "\n",
    "> <details><summary><strong>Click here to show help 1</strong></summary>You have already done this process in Assignment 1, the pattern remains the same. If your <code>build_payload()</code> function returns a dictionary, for example, don't forget to sort the keys in alphabetical order before hashing (<code>dumps(payload, sort_keys=True)</code>).</details>\n",
    "\n",
    "> <details><summary><strong>Click here to show help 2</strong></summary>Convert the ticket into a string and then use the <code>cryptography.hash_string(string)</code> function.</details>\n",
    "\n",
    "> <details><summary><strong>Click here to show help 3</strong></summary>To transform the ticket into a string, take inspiration from the payload: extract the values of the important fields (here <code>ownerPublicKey</code>, <code>number</code>, and <code>raffleHash</code> are relevant), and apply the same process you used for Assignment 2.</details>"
   ]
  },
  {
   "cell_type": "code",
   "execution_count": null,
   "id": "cc18e875",
   "metadata": {
    "ExecuteTime": {
     "end_time": "2025-01-28T11:32:04.958330Z",
     "start_time": "2025-01-28T11:32:04.939472Z"
    }
   },
   "outputs": [],
   "source": [
    "dummyTicket.hash()"
   ]
  },
  {
   "cell_type": "markdown",
   "id": "a12ce9ba",
   "metadata": {},
   "source": [
    "Now that we are able to distribute raffle tickets to our stakers, we can implement the Proof-of-Stake algorithm.\n",
    "\n",
    "***\n",
    "\n",
    "<font color=\"7777aa\">Create a file called `proof_of_stake.py` (still in the \"scripts\" folder). Since many consensus algorithms exist, and to stay true to the fundamental principles of Object-Oriented Programming, you should create a `ProofOfStake` class that we will use as a consensus object at the `Node` level (Assignment 4).\n",
    "\n",
    "**What should be in its constructor?**\n",
    "\n",
    "This question is very interesting. When we create the blockchain, it only contains the genesis block. So, since no one has staked tokens yet, and staking must be done for a block to be considered, how can we forge block number 1? No raffle tickets can be distributed...\n",
    "\n",
    "In fact, an effective solution would be to have a **default forger**, someone capable of forging if no one has staked. Therefore, in the constructor of `ProofOfStake`, we need a default forger `defaultForgerPublicKey`.</font>"
   ]
  },
  {
   "cell_type": "code",
   "execution_count": null,
   "id": "e44ea5ce",
   "metadata": {
    "ExecuteTime": {
     "end_time": "2025-01-28T11:32:05.867618Z",
     "start_time": "2025-01-28T11:32:05.846029Z"
    }
   },
   "outputs": [],
   "source": [
    "from proof_of_stake import ProofOfStake\n",
    "\n",
    "dummyProofOfStake = ProofOfStake(walletAlice.publicKey)\n",
    "\n",
    "assert dummyProofOfStake.defaultForgerPublicKey == walletAlice.publicKey      # Default forger is Alice\n",
    "\n",
    "'Success!'"
   ]
  },
  {
   "cell_type": "markdown",
   "id": "72d434ef",
   "metadata": {},
   "source": [
    "Before we move on to coding the algorithm described with the raffle analogy, let's take the time to implement a small utility function that calculates the distance between two hashes **in their hexadecimal form**.\n",
    "\n",
    "***\n",
    "\n",
    "<font color=\"7777aa\">In your `ProofOfStake` class, implement the `hash_distance(hash1, hash2)` function that returns, as an integer, the integer distance between the two hashes `hash1` and `hash2` **in their hexadecimal form**.\n",
    "\n",
    "Your function does not need to be static. Keep it simple.</font>\n",
    "\n",
    "> <details><summary><strong>Click here to show help 1</strong></summary>To convert a hexadecimal <code>string</code> to an <code>int</code>, use the <code>int(string, 16)</code> function.</details>\n",
    "\n",
    "> <details><summary><strong>Click here to show help 2</strong></summary>The integer distance between two integers <code>a</code> and <code>b</code> is calculated with <code>abs(a - b)</code>.</details>"
   ]
  },
  {
   "cell_type": "code",
   "execution_count": null,
   "id": "715ddb9d",
   "metadata": {
    "ExecuteTime": {
     "end_time": "2025-01-28T11:32:06.945442Z",
     "start_time": "2025-01-28T11:32:06.926631Z"
    }
   },
   "outputs": [],
   "source": [
    "hash1 = '67c5ba7'\n",
    "hash2 = 'ff837ea'\n",
    "\n",
    "assert dummyProofOfStake.hash_distance(hash1, hash2) == 159112259\n",
    "\n",
    "\"Success!\""
   ]
  },
  {
   "cell_type": "markdown",
   "id": "623594fc",
   "metadata": {},
   "source": [
    "Remember what we learned in class: **a consensus algorithm is a function that takes as input a list of blocks and the next block to be added to this list, and checks if this block has a valid forger.** This is exactly what we are going to do here.\n",
    "\n",
    "In Proof-of-Stake, **the next block has a valid forger if that forger has won the raffle.** To create the consensus function, we first need to create a function that tells us who wins the raffle.\n",
    "\n",
    "***\n",
    "\n",
    "<font color=\"7777aa\">Now, implement the `get_next_forger_public_key(blockList)` function, which, given any list of blocks, provides the public key of the forger of the next block to be added to this list (and therefore the raffle winner).\n",
    "\n",
    "Please read the algorithm description at the beginning of the **Proof-of-Stake** section carefully.\n",
    "\n",
    "Don't forget to consider the default forger.</font>\n",
    "\n",
    "> `get_next_forger_public_key(blockList)` also takes a list of blocks as a parameter, for the same reasons mentioned earlier for `build_stake_accounts(blockList)`.\n",
    "\n",
    "> <details><summary><strong>Click here to show help 1</strong></summary>To round a number down to the nearest whole number, use the built-in function <code>int(object)</code>.</details>\n",
    "\n",
    "> <details><summary><strong>Click here to show help 2</strong></summary>This is simply an algorithm that calculates the minimum distance between all the tickets and the hash of the last block in the blockchain.</details>\n",
    "\n",
    "> <details><summary><strong>Click here to show help 3</strong></summary>Start by using the <code>build_staking_accounts(blockchain)</code> function, and then allocate the tickets based on what it provides. This means that for each user in this dictionary, you need to create as many tickets as the tokens they have staked. Then, find the closest ticket using the <code>hash_distance(hash1, hash2)</code> function, which will give you the winner.</details>\n",
    "\n",
    "***\n",
    "\n",
    "**The following 2 cells must execute without errors.**"
   ]
  },
  {
   "cell_type": "code",
   "execution_count": null,
   "id": "ff6bfec0",
   "metadata": {
    "ExecuteTime": {
     "end_time": "2025-01-28T11:32:08.235341Z",
     "start_time": "2025-01-28T11:32:08.212160Z"
    }
   },
   "outputs": [],
   "source": [
    "# Verifying default forger\n",
    "\n",
    "emptyBlockchain = Blockchain()\n",
    "\n",
    "assert dummyProofOfStake.get_next_forger_public_key(emptyBlockchain.blockList) == walletAlice.publicKey\n",
    "\n",
    "\"Success!\""
   ]
  },
  {
   "cell_type": "code",
   "execution_count": null,
   "id": "0a679fda",
   "metadata": {
    "ExecuteTime": {
     "end_time": "2025-01-28T11:32:08.784427Z",
     "start_time": "2025-01-28T11:32:08.764130Z"
    }
   },
   "outputs": [],
   "source": [
    "# Is next forger Alice or Bob ?\n",
    "\n",
    "nextForger = dummyProofOfStake.get_next_forger_public_key(blockchainAssignment3.blockList)\n",
    "\n",
    "if nextForger == walletAlice.publicKey:\n",
    "    print('Alice is the next forger')\n",
    "else:\n",
    "    print('Bob is the next forger')"
   ]
  },
  {
   "cell_type": "markdown",
   "id": "214421be",
   "metadata": {},
   "source": [
    "<font color=\"7777aa\">Now, create the `is_next_block_forger_legit(blockList, nextBlock)` function that returns `True` if the issuer of the next block `nextBlock` is indeed the winner of the raffle of `blockList`, and `False` otherwise.</font>\n",
    "\n",
    "> <details><summary><strong>Click here to show help</strong></summary>Use the function you just coded.</details>"
   ]
  },
  {
   "cell_type": "code",
   "execution_count": null,
   "id": "195c9333",
   "metadata": {
    "ExecuteTime": {
     "end_time": "2025-01-28T11:32:10.213392Z",
     "start_time": "2025-01-28T11:32:10.194350Z"
    }
   },
   "outputs": [],
   "source": [
    "nextBlock = Block(nextForger, len(blockchainAssignment3.blockList), blockchainAssignment3.get_latest_block().hash(), [])\n",
    "\n",
    "assert dummyProofOfStake.is_next_block_forger_legit(blockchainAssignment3.blockList, nextBlock)\n",
    "\n",
    "\"Success!\""
   ]
  },
  {
   "cell_type": "markdown",
   "id": "238ad6da",
   "metadata": {},
   "source": [
    "So now we have a tool that allows us to know if a new block to be added to our blockchain has been forged by the only person entitled to forge the next block (simply use the `is_next_block_forger_legit(blockList, nextBlock)` function to see if this block was forged by the right person).\n",
    "\n",
    "As capable as we are of preventing new blocks from being forged by the wrong people, if someone sends us a complete blockchain, we cannot yet attest to its validity.\n",
    "\n",
    "Let's say a fraudulent actor on the network decides to completely change the blockchain by becoming the owner of all its blocks. Then they send it to you because you've just joined the network and need to retrieve all the blockchain data to be up to date. From your point of view, since they have signed all the blocks, their blockchain is legal. However, this is not the case at all because they are not entitled to forge all the blocks (or the probability is very low).\n",
    "\n",
    "Remember in Assignment 2, we wrote the `is_legit()` function that validates a blockchain. It's time to also take into account the forger's identity in the validation.\n",
    "\n",
    "Since several consensus algorithms exist, if you change them tomorrow (for example, switch to Proof-of-Work), your code must adapt. For this reason, we will implement an `is_blockchain_legit(blockchain)` function directly in the `ProofOfStake` class.\n",
    "\n",
    "***\n",
    "\n",
    "<font color=\"7777aa\">In the `ProofOfStake` class, implement the `is_blockchain_legit(blockchain)` function. This function should check, for each block in the blockchain, if its forger is indeed the expected forger given the previous block.\n",
    "\n",
    "If any single block has a forger who did not win the raffle, this function should return `False`, otherwise it returns `True`.</font>\n",
    "\n",
    "> <details><summary><strong>Click here to show help 1</strong></summary>Be careful with block index 0 (the first block)!!! Its forger is the black hole.</details>\n",
    "\n",
    "> <details><summary><strong>Click here to show help 2</strong></summary>Iterate through the list of blocks <code>blockchain.blockList</code> in order, and for each block, verify that it was forged by the right person given the previous blocks (what do you put in <code>blockList</code> and <code>nextBlock</code> in the <code>is_next_block_forger_legit(blockList, nextBlock)</code> function?).</details>"
   ]
  },
  {
   "cell_type": "code",
   "execution_count": null,
   "id": "5cf04d9c",
   "metadata": {
    "ExecuteTime": {
     "end_time": "2025-01-28T11:32:11.484962Z",
     "start_time": "2025-01-28T11:32:11.372188Z"
    }
   },
   "outputs": [],
   "source": [
    "block2 = blockchainAssignment3.blockList[2]\n",
    "block2LegitForger = dummyProofOfStake.get_next_forger_public_key(blockchainAssignment3.blockList[:-1])\n",
    "block2.issuerPublicKey = block2LegitForger\n",
    "\n",
    "if block2LegitForger == walletAlice.publicKey:\n",
    "    walletAlice.sign(block2)\n",
    "else:\n",
    "    walletBob.sign(block2)\n",
    "\n",
    "assert dummyProofOfStake.is_blockchain_legit(blockchainAssignment3)\n",
    "\n",
    "if block2LegitForger == walletAlice.publicKey:\n",
    "    block2.issuerPublicKey = walletBob.publicKey\n",
    "    walletBob.sign(block2)\n",
    "else:\n",
    "    block2.issuerPublicKey = walletAlice.publicKey\n",
    "    walletAlice.sign(block2)\n",
    "\n",
    "assert not dummyProofOfStake.is_blockchain_legit(blockchainAssignment3)\n",
    "\n",
    "\"Assignment completed! Congratz!\""
   ]
  },
  {
   "cell_type": "markdown",
   "id": "f3a3ed91",
   "metadata": {},
   "source": [
    "### Bonus 1 - Monte Carlo (Episode 2)\n",
    "\n",
    "In our current configuration, Alice has staked 3 tokens, and Bob has staked 2.5 tokens. For our consensus algorithm, this means that Alice has 60% of the decision-making power (3 tickets out of 5), and Bob has 40% (2 tickets out of 5).\n",
    "\n",
    "Let's verify if this is indeed the case with your implementation. We will use the same method as in Assignment 1: the Monte Carlo method. Let's simulate 10,000 raffles and observe the probabilities of Alice and Bob winning.\n",
    "\n",
    "***\n",
    "\n",
    "<font color=\"7777aa\">Complete the following cell to simulate 10,000 raffles. Ensure that the hash of the last block in the `blockchainAssignment3` blockchain changes with each simulation (to vary the raffles).</font>"
   ]
  },
  {
   "cell_type": "code",
   "execution_count": null,
   "id": "b0cffb1d",
   "metadata": {
    "ExecuteTime": {
     "end_time": "2025-01-28T11:34:39.420244Z",
     "start_time": "2025-01-28T11:34:38.389259Z"
    }
   },
   "outputs": [],
   "source": [
    "nSimulations = 10000\n",
    "\n",
    "winsAlice = 0\n",
    "winsBob = 0\n",
    "\n",
    "###\n",
    "# Your code goes here\n",
    "###\n",
    "        \n",
    "print(f'Alice has a {int(round(winsAlice / nSimulations, 2) * 100)}% chance to forge')\n",
    "print(f'Bob has a {int(round(winsBob / nSimulations, 2) * 100)}% chance to forge')"
   ]
  },
  {
   "cell_type": "markdown",
   "id": "69d92545",
   "metadata": {},
   "source": [
    "### Bonus 2 - Proof-of-Work\n",
    "\n",
    "You've learned all about Proof-of-Work in the course. For this bonus, I'm asking you to implement the basic mechanics of this algorithm (we won't change the puzzle difficulty based on forging speed).\n",
    "\n",
    "***\n",
    "\n",
    "<font color=\"7777aa\">Add the `nonce` field to your `Block` class. This new field should be considered in all blockchain mechanisms. **Do not add it to the constructor parameters; simply initialize it to 0**.</font>"
   ]
  },
  {
   "cell_type": "code",
   "execution_count": null,
   "id": "814097e3",
   "metadata": {
    "ExecuteTime": {
     "end_time": "2025-01-28T11:32:16.415110Z",
     "start_time": "2025-01-28T11:32:16.396178Z"
    }
   },
   "outputs": [],
   "source": [
    "block = Block(walletAlice.publicKey, 0, 'void', [])\n",
    "\n",
    "assert 'nonce' in block.__dict__\n",
    "\n",
    "\"Success!\""
   ]
  },
  {
   "cell_type": "markdown",
   "id": "06aa3a51",
   "metadata": {},
   "source": [
    "Let's start by providing ourselves with the means to solve the puzzle of this consensus algorithm. Just like we designed the `ProofOfStake` class, we will create the `ProofOfWork` class.\n",
    "\n",
    "***\n",
    "\n",
    "<font color=\"7777aa\">Create the `ProofOfWork` class in a file named `proof_of_work.py`. Its constructor takes an integer `difficulty` as a parameter, which represents the number of leading zeros required to solve the puzzle.</font>"
   ]
  },
  {
   "cell_type": "code",
   "execution_count": null,
   "id": "3f3db7b9",
   "metadata": {
    "ExecuteTime": {
     "end_time": "2025-01-28T11:32:17.331443Z",
     "start_time": "2025-01-28T11:32:17.310084Z"
    }
   },
   "outputs": [],
   "source": [
    "from proof_of_work import ProofOfWork\n",
    "\n",
    "dummyProofOfWork = ProofOfWork(3)\n",
    "\n",
    "assert dummyProofOfWork.difficulty == 3\n",
    "\n",
    "\"Success!\""
   ]
  },
  {
   "cell_type": "markdown",
   "id": "64a3fe9c",
   "metadata": {},
   "source": [
    "<font color=\"7777aa\">Add the `solve_puzzle(block)` function to it, which finds a nonce sufficient for the hash of the `block` to begin with at least as many zeros as indicated by `difficulty`. **This function then applies this nonce to the block**.</font>"
   ]
  },
  {
   "cell_type": "code",
   "execution_count": null,
   "id": "3cd14a51",
   "metadata": {
    "ExecuteTime": {
     "end_time": "2025-01-28T11:32:18.670713Z",
     "start_time": "2025-01-28T11:32:18.642349Z"
    }
   },
   "outputs": [],
   "source": [
    "dummyProofOfWork.solve_puzzle(block)\n",
    "\n",
    "assert block.hash()[:dummyProofOfWork.difficulty] == '0' * dummyProofOfWork.difficulty\n",
    "\n",
    "f\"Success for a nonce of {block.nonce} (hash = {block.hash()})\""
   ]
  },
  {
   "cell_type": "markdown",
   "id": "045e6d09",
   "metadata": {},
   "source": [
    "<font color=\"7777aa\">To maintain consistency with the interface of the `ProofOfStake` class, this class should have two functions: `is_next_block_forger_legit(blockList, nextBlock)` and `is_blockchain_legit(blockchain)`. Implement them.</font>"
   ]
  },
  {
   "cell_type": "code",
   "execution_count": null,
   "id": "8b634f8f",
   "metadata": {
    "ExecuteTime": {
     "end_time": "2025-01-28T11:32:23.293837Z",
     "start_time": "2025-01-28T11:32:23.148013Z"
    }
   },
   "outputs": [],
   "source": [
    "powBlockchain = Blockchain()\n",
    "\n",
    "powBlock1 = Block(walletAlice.publicKey, 1, powBlockchain.get_latest_block().hash(), [])\n",
    "walletAlice.sign(powBlock1)\n",
    "dummyProofOfWork.solve_puzzle(powBlock1)\n",
    "powBlockchain.blockList.append(powBlock1)\n",
    "\n",
    "powBlock2 = Block(walletBob.publicKey, 2, powBlockchain.get_latest_block().hash(), [])\n",
    "walletBob.sign(powBlock2)\n",
    "dummyProofOfWork.solve_puzzle(powBlock2)\n",
    "\n",
    "assert dummyProofOfWork.is_next_block_forger_legit(powBlockchain.blockList, powBlock2)\n",
    "\n",
    "powBlockchain.blockList.append(powBlock2)\n",
    "\n",
    "assert dummyProofOfWork.is_blockchain_legit(powBlockchain)\n",
    "\n",
    "powBlock1.nonce -= 1\n",
    "\n",
    "assert not dummyProofOfWork.is_blockchain_legit(powBlockchain)\n",
    "\n",
    "\"Your PoW implementation seems to work. Congratz!\""
   ]
  },
  {
   "cell_type": "code",
   "execution_count": null,
   "id": "6bd60547",
   "metadata": {},
   "outputs": [],
   "source": []
  }
 ],
 "metadata": {
  "kernelspec": {
   "display_name": "V2",
   "language": "python",
   "name": "python3"
  },
  "language_info": {
   "codemirror_mode": {
    "name": "ipython",
    "version": 3
   },
   "file_extension": ".py",
   "mimetype": "text/x-python",
   "name": "python",
   "nbconvert_exporter": "python",
   "pygments_lexer": "ipython3",
   "version": "3.12.8"
  }
 },
 "nbformat": 4,
 "nbformat_minor": 5
}
