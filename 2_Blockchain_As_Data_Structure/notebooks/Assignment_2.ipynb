{
 "cells": [
  {
   "cell_type": "markdown",
   "id": "8e4df458-c2cc-420c-8f20-3080a3a4c3e1",
   "metadata": {},
   "source": [
    "# TD 2\n",
    "\n",
    "***\n",
    "\n",
    "*Blockchains as a data structure*\n",
    "\n",
    "***\n",
    "\n",
    "#### Blockchain and Applications Project\n",
    "\n",
    "As part of the evaluation for this course on Blockchain and Applications, over the next four tutorial sessions, you will **code your own blockchain**, including **Smart Contracts**. The aim of this tutorial and the next three is to *guide you step by step* in its creation.\n",
    "\n",
    "Each of the four tutorials dedicated to the project involves **implementing a set of features** that will allow you to run a **real blockchain on your computer** by the end.\n",
    "\n",
    "This **first tutorial** will involve the implementation of the **data structure**. It will build on all the concepts covered in the course.\n",
    "\n",
    "Throughout the tutorial, we will intentionally make all the fields of the blockchain public, because anyway, if they are modified, it will invalidate the rest of the blockchain."
   ]
  },
  {
   "cell_type": "code",
   "execution_count": 1,
   "id": "8698e7f2",
   "metadata": {
    "ExecuteTime": {
     "end_time": "2025-01-14T08:17:50.621621Z",
     "start_time": "2025-01-14T08:17:50.596462Z"
    }
   },
   "outputs": [],
   "source": [
    "%load_ext autoreload\n",
    "%autoreload 2"
   ]
  },
  {
   "cell_type": "markdown",
   "id": "92e627cf",
   "metadata": {},
   "source": [
    "At the same time as this tutorial, you should have downloaded a folder named \"**helpers**\". It contains two important scripts that cover the implementation details of certain cryptographic functions useful for our course. These functions rely on the ```pycryptodome``` package that you installed during Tutorial 1. You do not need to read their content, but you are welcome to do so if you are interested.\n",
    "\n",
    "To summarize, and to make sure that you have the correct architecture for all the tutorials, here is how the different folders are organized:\n",
    "\n",
    "* Assingments/\n",
    "    * scripts/\n",
    "        * helpers/\n",
    "            * \\_\\_init\\_\\_.py\n",
    "            * cryptography_base.py\n",
    "            * rsa_cryptography.py\n",
    "        * *You'll put all of your scripts here*\n",
    "    * notebooks/\n",
    "        * **This notebook (Assignment_2)**\n",
    "        * ...\n",
    "    * ...\n",
    "\n",
    "***To validate this architecture, the following cell should run without error and display a beautiful hash.***"
   ]
  },
  {
   "cell_type": "code",
   "execution_count": 2,
   "id": "dd0a6806",
   "metadata": {
    "ExecuteTime": {
     "end_time": "2025-01-14T08:18:00.526799Z",
     "start_time": "2025-01-14T08:17:59.536227Z"
    }
   },
   "outputs": [
    {
     "data": {
      "text/plain": [
       "'a9e3c48cbc5790b6920750c2e6bc6d066889611757d0d7e3fce73c3eb0131960'"
      ]
     },
     "execution_count": 2,
     "metadata": {},
     "output_type": "execute_result"
    }
   ],
   "source": [
    "from sys import path\n",
    "\n",
    "path.append('../scripts')           # We add the \"scripts\" folder to our search path\n",
    "\n",
    "from helpers import cryptography\n",
    "\n",
    "cryptography.hash_string('JUNIA')   # A RSA hash function"
   ]
  },
  {
   "cell_type": "markdown",
   "id": "a5401bd0",
   "metadata": {
    "ExecuteTime": {
     "end_time": "2023-01-02T09:51:06.334635Z",
     "start_time": "2023-01-02T09:51:06.327344Z"
    }
   },
   "source": [
    "The small module `cryptography` that I have implemented for you contains all the **cryptographic functions** you will need during the project. To see the **list of functions** available in this module, you can have them displayed **in Jupyter Notebook by pressing** `Tab` **after typing** `cryptography.` *(don't forget the period)*.\n",
    "\n",
    "> The names of the functions are clear enough to allow you to differentiate them easily. Similarly, the order of the function arguments is reflected in the name of the function. For example, the function `has_public_key_signed_this_hash` has the signature `cryptography.has_public_key_signed_this_hash(publicKey, signature, hash)`.\n",
    "\n",
    "***\n",
    "\n",
    "In addition to the cryptography module, you have a small `timestamp` module, useful for dating."
   ]
  },
  {
   "cell_type": "code",
   "execution_count": 3,
   "id": "2f1958ec",
   "metadata": {
    "ExecuteTime": {
     "end_time": "2025-01-14T08:19:06.335974Z",
     "start_time": "2025-01-14T08:19:06.317043Z"
    }
   },
   "outputs": [
    {
     "data": {
      "text/plain": [
       "1738220691327"
      ]
     },
     "execution_count": 3,
     "metadata": {},
     "output_type": "execute_result"
    }
   ],
   "source": [
    "from helpers import timestamp\n",
    "   \n",
    "timestamp.now()  # Time in millisecondes since an arbitrary date"
   ]
  },
  {
   "cell_type": "markdown",
   "id": "a1fffc83",
   "metadata": {},
   "source": [
    "To ensure a good understanding of the rest of the tutorial, here is a list of elements covered in the course that we will use, along with their **variable type** and an example:\n",
    "\n",
    "* **Public Key** (`publicKey`): `string(588)` (e.g., <font color=\"bb9534\">\"5329b3ede6de58cf...\"</font>)\n",
    "* **Private Key** (`privateKey`): `string(2380)` (e.g., <font color=\"bb9534\">\"f5b38ccd9dc77221...\"</font>)\n",
    "* **Creation Date** (`timestamp`): `int` in **milliseconds** (e.g., <font color=\"2267a5\">1673183195004</font>)\n",
    "* **Signature** (`signature`): `string(512)` (e.g., <font color=\"bb9534\">\"2c290ba99465f4b5...\"</font>)\n",
    "* **Block Number in the Blockchain** (`indexInBlockchain`): `int` (e.g., <font color=\"2267a5\">1</font>)\n",
    "* **Parent Block (previous block in the blockchain)** (`parentBlockHash`): `string(64)` (e.g., <font color=\"bb9534\">\"22b46d2c579aa2c2...\"</font>)\n",
    "\n",
    "Generally, all our hashes will have a length of 64.\n",
    "\n",
    "***\n",
    "\n",
    "**Throughout this tutorial and the next three, you will mostly have coding tasks with hints available to reveal by yourself if needed. The order indicates their level of help. Try to use them only if you are really stuck.**\n",
    "\n",
    "***\n",
    "\n",
    "### Certificate\n",
    "\n",
    "We choose to call \"**certificate**\" an **arbitrary entry in the registry** of a block. It is this famous document we saw in class that is issued and signed by a single person. A certificate (`Certificate`) therefore *necessarily* contains an **issuer** (`issuerPublicKey`) and a **signature** (`signature`). Conceptually, a certificate does not need to contain data, as this depends on the type of certificate.\n",
    "\n",
    "To reinforce the conformity of a certificate, we also add its **creation date** (`timestamp`), which we choose to express in **milliseconds** for easier sorting (number of milliseconds since an arbitrary date).\n",
    "\n",
    "***\n",
    "\n",
    "<font color=\"8888CC\">Create a file `certificate.py` in the \"scripts\" folder.</font>\n",
    "\n",
    "<font color=\"8888CC\">In this file, you must create a `Certificate` class containing a constructor and public fields in accordance with the statement just above.<br/><br/> This class will serve as the base class for any registry entry you will characterize in the future (you can then build classes that inherit from `Certificate` if they are meant to be signed and stored in the blockchain).</font>\n",
    "\n",
    "<font color=\"8888CC\">The `signature` field just needs to exist, regardless of the value with which you initialize it.</font>\n",
    "\n",
    "> <details><summary><strong>Click to display help 1</strong></summary>Use the <code>timestamp</code> module that I introduced above.</details>\n",
    "\n",
    "> <details><summary><strong>Click to display help 2</strong></summary>Your constructor must take the issuer's public key <code>issuerPublicKey</code> as a parameter and initialize the fields <code>issuerPublicKey</code>, <code>timestamp</code>, and <code>signature</code>.</details>"
   ]
  },
  {
   "cell_type": "code",
   "execution_count": 4,
   "id": "95faa137",
   "metadata": {
    "ExecuteTime": {
     "end_time": "2025-01-14T08:22:05.938244Z",
     "start_time": "2025-01-14T08:22:05.914459Z"
    }
   },
   "outputs": [
    {
     "data": {
      "text/plain": [
       "'Success!'"
      ]
     },
     "execution_count": 4,
     "metadata": {},
     "output_type": "execute_result"
    }
   ],
   "source": [
    "from certificate import Certificate\n",
    "\n",
    "dummyCertificate = Certificate('9cbe2a6713')\n",
    "\n",
    "assert dummyCertificate.issuerPublicKey == '9cbe2a6713'         # The issuer is \"9cbe2a6713\"\n",
    "assert 'signature' in dummyCertificate.__dict__                 # The \"signature\" field exists\n",
    "assert dummyCertificate.timestamp                               # Date is not empty\n",
    "\n",
    "'Success!'"
   ]
  },
  {
   "cell_type": "markdown",
   "id": "c86f72c4",
   "metadata": {},
   "source": [
    "<font color=\"8888CC\">Create a `build_payload()` function in this new class that returns the certificate data that are part of its **payload**.\n",
    "\n",
    "You have the freedom to choose the return format of your function (list, dictionary, etc.) as long as it contains all the data of the payload.</font>\n",
    "\n",
    "> <details><summary><strong>Click to display help 1</strong></summary>As a reminder: the payload of a certificate corresponds to the certificate data that are considered unalterable. It represents the set of values of the document that we want to protect and that characterize the certificate. Not all the values of the certificate necessarily form part of the payload.</details>\n",
    "\n",
    "> <details><summary><strong>Click to display help 2</strong></summary>You could, for example, return a Python dictionary where the keys are the names of the fields that are part of the payload, and the values are the values of these fields.</details>\n",
    "\n",
    "> <details><summary><strong>Click to display help 3</strong></summary>If you include the signature in the payload, won't you have a problem if you sign the certificate twice?</details>"
   ]
  },
  {
   "cell_type": "code",
   "execution_count": 5,
   "id": "4f2738ba",
   "metadata": {
    "ExecuteTime": {
     "end_time": "2025-01-14T08:22:27.986587Z",
     "start_time": "2025-01-14T08:22:27.967709Z"
    }
   },
   "outputs": [
    {
     "data": {
      "text/plain": [
       "{'issuerPublicKey': '9cbe2a6713', 'timestamp': 1738220691374}"
      ]
     },
     "execution_count": 5,
     "metadata": {},
     "output_type": "execute_result"
    }
   ],
   "source": [
    "dummyCertificate.build_payload()"
   ]
  },
  {
   "cell_type": "markdown",
   "id": "25204415",
   "metadata": {},
   "source": [
    "<font color=\"8888CC\">Using this new function `build_payload()`, now introduce the function `hash()` which transforms the certificate into a hexadecimal `string` hash.\n",
    "\n",
    "Here too, you have the freedom to choose the transformation process. The main thing is that the hash should always be the same for the same payload, and vary if the payload varies.</font>\n",
    "\n",
    "> You are entirely allowed to use the built-in `str` function, even though it's not very secure, as for example `str(1.0)` and `str(1.0000000000000001)` both give `'1.0'`. `str` is a function highly dependent on the implementation of the object you are converting. Ideally, you should go through the binary representation of the objects. But I consider that to be beyond the scope of this tutorial.\n",
    "\n",
    "> <details><summary><strong>Click to display help 1</strong></summary>You need to write a function that starts from <code>build_payload()</code>, transforms this payload into a <code>string</code> in the way you wish, and then changes the <code>string</code> into a hash using the <code>cryptography</code> module.</details>\n",
    "\n",
    "> <details><summary><strong>Click to display help 2</strong></summary>If your <code>build_payload()</code> function returns a list, you can use the <code>dumps(object)</code> function from the <code>json</code> package.<br/>If it returns a dictionary, you can use it too but add the <code>sort_keys=True</code> parameter, because from one Python version to another, your elements in the dictionary will be in a different order.</details>"
   ]
  },
  {
   "cell_type": "code",
   "execution_count": 6,
   "id": "303e8512",
   "metadata": {
    "ExecuteTime": {
     "end_time": "2025-01-14T08:22:41.775429Z",
     "start_time": "2025-01-14T08:22:41.756153Z"
    }
   },
   "outputs": [
    {
     "data": {
      "text/plain": [
       "'f20bc694c9d7583eb65fc96f4d5e8e539a582f413e93402fc0be2ee1514063e3'"
      ]
     },
     "execution_count": 6,
     "metadata": {},
     "output_type": "execute_result"
    }
   ],
   "source": [
    "dummyCertificate.hash()"
   ]
  },
  {
   "cell_type": "markdown",
   "id": "696480f1",
   "metadata": {},
   "source": [
    "To help you understand how impossible it is to find the same hash twice, even if you only slightly modify the data, observe the result of the following cell."
   ]
  },
  {
   "cell_type": "code",
   "execution_count": 7,
   "id": "d5539103",
   "metadata": {
    "ExecuteTime": {
     "end_time": "2025-01-14T08:22:43.316999Z",
     "start_time": "2025-01-14T08:22:43.297089Z"
    }
   },
   "outputs": [
    {
     "data": {
      "text/plain": [
       "'84fab305644f866af72873ca3257eaa384f7e0ac05ea418ef9c45091e0d4814e'"
      ]
     },
     "execution_count": 7,
     "metadata": {},
     "output_type": "execute_result"
    }
   ],
   "source": [
    "dummyCertificate.timestamp -= 1            # Here we only change one bit of the whole certificate\n",
    "dummyCertificate.hash()"
   ]
  },
  {
   "cell_type": "markdown",
   "id": "82defd54",
   "metadata": {},
   "source": [
    "With this `hash()` function, we now have the first of the two pieces of the puzzle to be able to cryptographically sign our certificates. The missing piece is the **private key / public key** pair.\n",
    "\n",
    "Before moving on to this missing piece, let's implement one last function that will prove very useful later on (especially for the end of the tutorial...)\n",
    "\n",
    "***\n",
    "\n",
    "<font color=\"8888CC\">Create the function `equals(otherCertificate)` that returns `True` if the certificate and `otherCertificate` are identical, and `False` otherwise.\n",
    "    \n",
    "Consider what really makes two certificates identical. You will not need to implement this function in classes that inherit from `Certificate`.</font>\n",
    "\n",
    "> <details><summary><strong>Click to display help 1</strong></summary>No need to make it complicated, there's a reason this is the function you're implementing last in this class.</details>\n",
    "\n",
    "> <details><summary><strong>Click to display help 2</strong></summary>Use the `hash()` function.</details>"
   ]
  },
  {
   "cell_type": "code",
   "execution_count": 8,
   "id": "ce12d553",
   "metadata": {
    "ExecuteTime": {
     "end_time": "2025-01-14T08:22:49.677947Z",
     "start_time": "2025-01-14T08:22:49.658182Z"
    }
   },
   "outputs": [
    {
     "data": {
      "text/plain": [
       "'Success!'"
      ]
     },
     "execution_count": 8,
     "metadata": {},
     "output_type": "execute_result"
    }
   ],
   "source": [
    "assert dummyCertificate.equals(dummyCertificate)                    # A certificate is equal to itself\n",
    "\n",
    "otherCertificate = Certificate(dummyCertificate.issuerPublicKey)\n",
    "otherCertificate.timestamp = dummyCertificate.timestamp\n",
    "assert otherCertificate.equals(dummyCertificate)                    # Two certificates having different signatures\n",
    "\n",
    "otherCertificate.issuerPublicKey = 'bbc887326a'\n",
    "otherCertificate.timestamp = 84539\n",
    "assert not otherCertificate.equals(dummyCertificate)                # Two completely different certificates\n",
    "\n",
    "\"Success!\""
   ]
  },
  {
   "cell_type": "markdown",
   "id": "6a06decb",
   "metadata": {},
   "source": [
    "### Wallet\n",
    "\n",
    "In the course, we covered how a **private key / public key pair** works, and what a wallet is, especially in the realm of cryptocurrencies. To simplify the terminology, we will keep the term \"**wallet**\" to refer to this **pair of keys**.\n",
    "\n",
    "Thus, the sole and unique role of our wallet will be to **store this pair of keys** and to **sign** using it.\n",
    "\n",
    "***\n",
    "\n",
    "<font color=\"8888CC\">Create a file `wallet.py` containing the `Wallet` class. This class should contain a private key and a public key upon creation. The public key is represented by the field `publicKey`.\n",
    "    \n",
    "**To stay true to the aspect of secrecy, ensure that the private key is as inaccessible as possible from the outside.** However, the public key should be accessible.</font>\n",
    "\n",
    "> The `cryptography` module can help you generate a pair of keys.\n",
    "\n",
    "> In Python, putting two underscores `__` at the beginning of the field name allows very restricted access to the said field. Only the internal code of the class can then access it (if one stays within a classic development framework, of course, this limit can be easily crossed with a bit more knowledge in Python...)."
   ]
  },
  {
   "cell_type": "code",
   "execution_count": 9,
   "id": "3298ef6f",
   "metadata": {
    "ExecuteTime": {
     "end_time": "2025-01-14T08:22:56.421759Z",
     "start_time": "2025-01-14T08:22:55.459863Z"
    }
   },
   "outputs": [
    {
     "data": {
      "text/plain": [
       "'30820122300d06092a864886f70d01010105000382010f003082010a0282010100a0cbf44a03c56b852ced229b335bed045513ba1d94f70186da841e945fd2e583a938b5f42e725c488a35f6368122d69fe1b23c2dad97b94d2f4c7db5f8ffa190cce6a148a486abcf0babccdc9903bce5d7921167e23eada55b8c66d527afc008dad98773eae46fed8d9e77aacd598aa39b7fab95aa37a2f674b2132c940bcc5581909f87c016d7cc8e85187a59b4fec9e3006743ce6d805474b2279661a59e55f8364f00bfa9c2dae131c282179ac1c50ba9ec405a73a27261a209ed8f8eb1989f8d25c921aacb258149796d77e276f154673861819aa9a778b74416f382975772b33543d01093651cac4dbe8a44e85bfa89be24933121979b806a7e3fb9a7f50203010001'"
      ]
     },
     "execution_count": 9,
     "metadata": {},
     "output_type": "execute_result"
    }
   ],
   "source": [
    "from wallet import Wallet\n",
    "\n",
    "dummyWallet = Wallet()\n",
    "\n",
    "assert len(dummyWallet.publicKey) == 588           # We expect a RSA public key of length 588\n",
    "\n",
    "dummyWallet.publicKey"
   ]
  },
  {
   "cell_type": "markdown",
   "id": "c8d356a1",
   "metadata": {},
   "source": [
    "We only have to use our **private key** to **sign any certificate** now.\n",
    "\n",
    "***\n",
    "\n",
    "<font color=\"8888CC\">Add to the `Wallet` class a function `sign(certificate)` that takes a certificate as input and signs it. **This function does not return anything: it simply applies the signature to the certificate.**</font>\n",
    "\n",
    "> <details><summary><strong>Click to display help 1</strong></summary>You have a great function in the `cryptography` module that signs any <code>string</code>.</details>\n",
    "\n",
    "> <details><summary><strong>Click to display help 2</strong></summary>We could have implemented <code>Wallet</code> first, but to sign a certificate you first need to transform it into a <code>string</code>, something you can now do thanks to your work...</details>"
   ]
  },
  {
   "cell_type": "code",
   "execution_count": 10,
   "id": "461189b1",
   "metadata": {
    "ExecuteTime": {
     "end_time": "2025-01-14T08:23:01.556201Z",
     "start_time": "2025-01-14T08:23:01.444764Z"
    }
   },
   "outputs": [
    {
     "data": {
      "text/plain": [
       "'Success!'"
      ]
     },
     "execution_count": 10,
     "metadata": {},
     "output_type": "execute_result"
    }
   ],
   "source": [
    "dummyWallet.sign(dummyCertificate)\n",
    "\n",
    "assert dummyCertificate.signature                          # We apply the signature\n",
    "\n",
    "previousSignature = dummyCertificate.signature\n",
    "\n",
    "dummyWallet.sign(dummyCertificate)\n",
    "\n",
    "assert previousSignature == dummyCertificate.signature     # If we sign twice, the same signature should be applied\n",
    "\n",
    "'Success!'"
   ]
  },
  {
   "cell_type": "markdown",
   "id": "9843e20c",
   "metadata": {},
   "source": [
    "### Block\n",
    "\n",
    "We learned during the course that a **block** is a **set of data**, it comes **from an issuer** (the forger), and this issuer must **sign** it. Does this remind you of something?\n",
    "\n",
    "*A block is nothing more than a certificate that contains other certificates.*\n",
    "\n",
    "However, you need to add additional fields related to the use of blocks: `indexInBlockchain`, which keeps track of the block number in the blockchain, `parentBlockHash`, which refers to the block just before it in the chain (via its hash), and finally `certificateList`, which is a list containing all the certificates stored in the block (the block's data).\n",
    "\n",
    "***\n",
    "\n",
    "<font color=\"8888CC\">Following this schema, create the file `block.py` containing the `Block` class. **This class must inherit from the** `Certificate` **class, and its constructor then takes 4 parameters.**</font>\n",
    "\n",
    "> <details><summary><strong>Click to display help 1</strong></summary>The built-in function <code>super()</code> returns <code>self</code> but with the interface of the parent class (here the interface of <code>Certificate</code>). You can therefore reuse functions that you have written in the parent class, which is very useful when you want to replace them while still using them.</details>\n",
    "\n",
    "> <details><summary><strong>Click to display help 2</strong></summary>In the constructor, do not forget to call <code>super().__init__(issuerPublicKey)</code>.</details>"
   ]
  },
  {
   "cell_type": "code",
   "execution_count": 11,
   "id": "009d8916",
   "metadata": {
    "ExecuteTime": {
     "end_time": "2025-01-14T08:23:20.688608Z",
     "start_time": "2025-01-14T08:23:20.667203Z"
    }
   },
   "outputs": [
    {
     "data": {
      "text/plain": [
       "'Success!'"
      ]
     },
     "execution_count": 11,
     "metadata": {},
     "output_type": "execute_result"
    }
   ],
   "source": [
    "from block import Block\n",
    "\n",
    "dummyCertificateList = [dummyCertificate, otherCertificate]\n",
    "dummyBlock = Block('9cbe2a6713', 0, 'void', dummyCertificateList)\n",
    "\n",
    "assert dummyBlock.__class__.__bases__[-1].__name__ == \"Certificate\" # Our block is a certificate\n",
    "assert dummyBlock.issuerPublicKey == '9cbe2a6713'                   # The issuer is \"9cbe2a6713\"\n",
    "assert dummyBlock.indexInBlockchain == 0                            # The index is 0\n",
    "assert dummyBlock.parentBlockHash == 'void'                         # The parent is the block of hash \"void\" \n",
    "assert len(dummyBlock.certificateList) == 2                         # The block contains 2 certificates\n",
    "\n",
    "'Success!'"
   ]
  },
  {
   "cell_type": "markdown",
   "id": "bbfeb299",
   "metadata": {},
   "source": [
    "<font color=\"222277\">Still in the `Block` class, rewrite (override) the `build_payload()` function to include the block's data.</font>\n",
    "\n",
    "> <details><summary><strong>Click to display help 1</strong></summary>Be careful to have in the block's payload the payloads of its certificates and not the certificates directly.</details>\n",
    "\n",
    "> <details><summary><strong>Click to display help 2</strong></summary>This function already exists in `Certificate`, so you need to redefine it, but inside it, you must also call the base function by writing `super().build_payload()`</details>"
   ]
  },
  {
   "cell_type": "code",
   "execution_count": 12,
   "id": "a79f63d4",
   "metadata": {
    "ExecuteTime": {
     "end_time": "2025-01-14T08:23:39.933670Z",
     "start_time": "2025-01-14T08:23:39.915154Z"
    }
   },
   "outputs": [
    {
     "data": {
      "text/plain": [
       "{'issuerPublicKey': '9cbe2a6713',\n",
       " 'timestamp': 1738220692301,\n",
       " 'indexInBlockchain': 0,\n",
       " 'parentBlockHash': 'void',\n",
       " 'certificateList': [{'issuerPublicKey': '9cbe2a6713',\n",
       "   'timestamp': 1738220691373},\n",
       "  {'issuerPublicKey': 'bbc887326a', 'timestamp': 84539}]}"
      ]
     },
     "execution_count": 12,
     "metadata": {},
     "output_type": "execute_result"
    }
   ],
   "source": [
    "dummyBlock.build_payload()"
   ]
  },
  {
   "cell_type": "markdown",
   "id": "8c2772d0",
   "metadata": {},
   "source": [
    "You don't need to rewrite the `hash()` function since it is based exclusively on the `build_payload()` function which you have already completed."
   ]
  },
  {
   "cell_type": "code",
   "execution_count": 13,
   "id": "4fb04746",
   "metadata": {
    "ExecuteTime": {
     "end_time": "2025-01-14T08:23:40.797485Z",
     "start_time": "2025-01-14T08:23:40.779009Z"
    }
   },
   "outputs": [
    {
     "data": {
      "text/plain": [
       "'f3e7de2cb99fa8aa84e791bb2db811e19bc01ed6cb24b186030336debc793e0e'"
      ]
     },
     "execution_count": 13,
     "metadata": {},
     "output_type": "execute_result"
    }
   ],
   "source": [
    "dummyBlock.hash()"
   ]
  },
  {
   "cell_type": "markdown",
   "id": "2953cfba",
   "metadata": {},
   "source": [
    "### Blockchain\n",
    "\n",
    "We have implemented blocks and certificates, and thanks to our wallet, we are capable of signing all of this. We now need to create our **blockchain** so that we can add our freshly generated blocks to it.\n",
    "\n",
    "***\n",
    "\n",
    "<font color=\"8888CC\">Create the file `blockchain.py`. In this file, implement the `Blockchain` class, with a public field `blockList` that contains the list of blocks in their index order and the appropriate constructor.\n",
    "\n",
    "Remember that a blockchain is **never empty**; it always has at least one specific block we talked about in class...</font>\n",
    "\n",
    "> <details><summary><strong>Click to display help 1</strong></summary>Initialize <code>blockList</code> with the genesis block.</details>\n",
    "\n",
    "> <details><summary><strong>Click to display help 2</strong></summary>The genesis block can contain anything, as long as it's always the same from one blockchain to another.</details>"
   ]
  },
  {
   "cell_type": "code",
   "execution_count": 14,
   "id": "34d1c9f3",
   "metadata": {
    "ExecuteTime": {
     "end_time": "2025-01-14T08:23:47.276147Z",
     "start_time": "2025-01-14T08:23:47.254189Z"
    }
   },
   "outputs": [
    {
     "data": {
      "text/plain": [
       "'Success!'"
      ]
     },
     "execution_count": 14,
     "metadata": {},
     "output_type": "execute_result"
    }
   ],
   "source": [
    "from blockchain import Blockchain\n",
    "\n",
    "dummyBlockchain = Blockchain()\n",
    "\n",
    "assert len(dummyBlockchain.blockList) == 1    # I expected 1 block here, which we have seen in class\n",
    "\n",
    "\"Success!\""
   ]
  },
  {
   "cell_type": "markdown",
   "id": "d1388991",
   "metadata": {},
   "source": [
    "<font color=\"8888CC\">Implement a small function `get_latest_block()` that returns the last block of the blockchain. This function is a luxury that will make the code easier to understand for the reader.</font>\n",
    "\n",
    "> <details><summary><strong>Click to display help</strong></summary>Do you really need help for a function that is just 1 line long? ;)</details>"
   ]
  },
  {
   "cell_type": "code",
   "execution_count": 15,
   "id": "1e3adc93",
   "metadata": {
    "ExecuteTime": {
     "end_time": "2025-01-14T08:23:48.628825Z",
     "start_time": "2025-01-14T08:23:48.610987Z"
    }
   },
   "outputs": [
    {
     "data": {
      "text/plain": [
       "{'issuerPublicKey': '000000000000000000000000000000000000000000000000000000000000000000000000000000000000000000000000000000000000000000000000000000000000000000000000000000000000000000000000000000000000000000000000000000000000000000000000000000000000000000000000000000000000000000000000000000000000000000000000000000000000000000000000000000000000000000000000000000000000000000000000000000000000000000000000000000000000000000000000000000000000000000000000000000000000000000000000000000000000000000000000000000000000000000000000000000000000000000000000000000000000000000000000000000000000000000000000000000000000',\n",
       " 'timestamp': 0,\n",
       " 'indexInBlockchain': 0,\n",
       " 'parentBlockHash': '0000000000000000000000000000000000000000000000000000000000000000',\n",
       " 'certificateList': []}"
      ]
     },
     "execution_count": 15,
     "metadata": {},
     "output_type": "execute_result"
    }
   ],
   "source": [
    "dummyBlockchain.get_latest_block().build_payload()"
   ]
  },
  {
   "cell_type": "markdown",
   "id": "83aa0247",
   "metadata": {},
   "source": [
    "### Blockchain Corruption\n",
    "\n",
    "Continuing with the goal of helping you realize the **inherent security of the blockchain**, the `blockList` field of the `Blockchain` class has been **intentionally made public** so that you can **completely modify it**. Therefore, I will not ask you to implement functions for adding or removing blocks (removal being forbidden anyway).\n",
    "\n",
    "Following this logic, it is still necessary to be able to **verify that a blockchain has not been corrupted**, whether by the addition of bad blocks or the alteration of data in older blocks.\n",
    "\n",
    "***\n",
    "\n",
    "<font color=\"8888CC\">In the `Certificate`, `Block`, and `Blockchain` classes, implement the function `is_legit()` that returns `True` if the object in question is legal and `False` if it is corrupted. **I expect these functions to test all possibilities of data corruption.**\n",
    "\n",
    "Some examples of data corruption:\n",
    "* The signature is not valid\n",
    "* The blocks are poorly indexed\n",
    "* etc...\n",
    "\n",
    "Find the others!</font>\n",
    "\n",
    "> The following validation cell shows you the classic process of using the blockchain.\n",
    "\n",
    "> <details><summary><strong>Click to display help for </strong><code>Certificate</code></summary>With your implementation of the `Certificate` class, you don't have many things to test. Just ensure that the signature is valid.</details>\n",
    "\n",
    "> <details><summary><strong>Click to display help for </strong><code>Block</code></summary>Remember that a block is a certificate that contains a list of certificates, nothing more.</details>\n",
    "\n",
    "> <details><summary><strong>Click to display help for </strong><code>Blockchain</code></summary>This is the biggest part, as you need to ensure the validity of all the blocks as well as that the blocks are properly chained and indexed. Don't forget to treat the genesis block differently.</details>"
   ]
  },
  {
   "cell_type": "code",
   "execution_count": 16,
   "id": "ab1019ba",
   "metadata": {
    "ExecuteTime": {
     "end_time": "2025-01-14T08:24:14.385169Z",
     "start_time": "2025-01-14T08:24:14.089621Z"
    }
   },
   "outputs": [
    {
     "data": {
      "text/plain": [
       "'Assignment completed! Congratz!'"
      ]
     },
     "execution_count": 16,
     "metadata": {},
     "output_type": "execute_result"
    }
   ],
   "source": [
    "walletAlice = Wallet()\n",
    "publicKeyAlice = walletAlice.publicKey\n",
    "\n",
    "certificateAlice1 = Certificate(publicKeyAlice)\n",
    "walletAlice.sign(certificateAlice1)\n",
    "\n",
    "certificateAlice2 = Certificate(publicKeyAlice)\n",
    "walletAlice.sign(certificateAlice2)\n",
    "\n",
    "blockchain = Blockchain()\n",
    "\n",
    "latestBlock = blockchain.get_latest_block()\n",
    "block1 = Block(publicKeyAlice, latestBlock.indexInBlockchain + 1, latestBlock.hash(), [certificateAlice1])\n",
    "walletAlice.sign(block1)\n",
    "blockchain.blockList.append(block1)\n",
    "\n",
    "latestBlock = blockchain.get_latest_block()\n",
    "block2 = Block(publicKeyAlice, latestBlock.indexInBlockchain + 1, latestBlock.hash(), [certificateAlice2])\n",
    "walletAlice.sign(block2)\n",
    "blockchain.blockList.append(block2)\n",
    "\n",
    "assert blockchain.is_legit()\n",
    "\n",
    "certificateAlice1.timestamp -= 1\n",
    "\n",
    "assert not blockchain.is_legit()\n",
    "\n",
    "\"Assignment completed! Congratz!\""
   ]
  },
  {
   "cell_type": "markdown",
   "id": "66267e06",
   "metadata": {},
   "source": [
    "***\n",
    "***\n",
    "\n",
    "# Bonus\n",
    "\n",
    "The following two exercises are only bonus points for this assignment. If you choose not to do them, it will have no impact on your future work.\n",
    "\n",
    "If you attempt them but everything is incorrect, I will not take it into consideration at all, so feel free to give them a try (if anything, it might be worth it)."
   ]
  },
  {
   "cell_type": "markdown",
   "id": "263634a5",
   "metadata": {},
   "source": [
    "### Bonus 1: Readable Blockchain Display\n",
    "\n",
    "For the 3rd assignment, you will likely need to regularly check or debug the data in your blockchain. To make your life easier, we will write some functions to display the entire blockchain in a readable way.\n",
    "\n",
    "<font color=\"8888CC\">For each of the classes `Wallet`, `Certificate`, `Block`, and `Blockchain`, implement the `display()` function. It should provide you with a visual representation of all the important information of the respective object. I won't impose any specific format; you can do it your way.</font>\n",
    "\n",
    "> Don't hesitate to have them call each other when possible to save time.\n",
    "\n",
    "> You can use the `dumps` function from the `json` package, or simply return something that is not a `string` because Jupyter Notebook formats dictionaries very nicely..."
   ]
  },
  {
   "cell_type": "code",
   "execution_count": 17,
   "id": "dc2459db",
   "metadata": {
    "ExecuteTime": {
     "end_time": "2025-01-14T08:24:24.566077Z",
     "start_time": "2025-01-14T08:24:24.544341Z"
    }
   },
   "outputs": [
    {
     "data": {
      "text/plain": [
       "{'type': 'Wallet',\n",
       " 'publicKey': '30820122300d06092a864886f70d01010105000382010f003082010a0282010100bfab897b5a8638f814db7b74060cef33e2438f5b17cd6595895bcd9a4eb8ed35257dd03d2b0cdef1743356355edccd17cd630e59676ac60c3f8b1db5c16eaa969d64cfb1c0f81484349ad335a8bff2c4fdb06f38fb632628e7533079697a2ec47c9ac9c1ad7169b68d5a73600759522c6c10f076c811f0f6b0dc422e845c2f1d726435ab9015ac5a59dfbad5ae1fd9eb77188a7be7ccd3a9594fbb65fccbcafd568b31ca7a37e4b2bb614247f4d17d3cd89249070cf1f8b8928e81539c393b5f43e18a0d5e3d72315f4b5596a4f10722ad34e8ab4a1ea9d8958a1cfaec9c5a300f313859e0da01c4165a3ea703f21e4e5dc6cdd2a2862daf836b43921cfb81590203010001',\n",
       " 'privateKey': '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'}"
      ]
     },
     "execution_count": 17,
     "metadata": {},
     "output_type": "execute_result"
    }
   ],
   "source": [
    "walletAlice.display()"
   ]
  },
  {
   "cell_type": "code",
   "execution_count": 18,
   "id": "64b78386",
   "metadata": {
    "ExecuteTime": {
     "end_time": "2025-01-14T08:24:24.779216Z",
     "start_time": "2025-01-14T08:24:24.757540Z"
    }
   },
   "outputs": [
    {
     "name": "stdout",
     "output_type": "stream",
     "text": [
      "Block 0:\n",
      "{'type': 'Block', 'issuerPublicKey': '0000000000', 'timestamp': 0, 'hash': 'a70c7e36dfd03e9493708664c2effdd5cc5721263477809856cac03793779834', 'signature': '', 'index': 0, 'parent': '0000000000000000000000000000000000000000000000000000000000000000', 'certificates': []}\n",
      "Block 1:\n",
      "{'type': 'Block', 'issuerPublicKey': '3082012230', 'timestamp': 1738220692780, 'hash': '807efd385c06d522390eebfb5a04ec66f7a0355a42e2a55d63e006c9772a27d0', 'signature': '5d7c5a37086ba121fefde15bc05bfaba31080eff84a94e35dc9b2481748a3d19504597686e3947cd70f88686551b572dcd839c564ada463b431a7fdb2ef082066eb90466246b0607ae7bd16c033bb6f4ef458865b8cfa034dde75cc6d7c5a7aea5597c5e70a26be7163c321d2a780c115790afa26ce14e5940171b38207586945c016c6ef3b73ce8c95bc3968b3195d38998f5d5a18c522f2d8cc68feb277d46582064c4abc2be9b0075ec817e8505aff2911e2248c341aea6128c669020d4dc665bdeeb6a32a122fdd662f9b5ef157676ff26d04b823d7fbdf49b4b8bf74e35d0e5066534017bfbe7ad204ecf75473b4626fa668bf9ef92d1e43bb858a0baa9', 'index': 1, 'parent': 'a70c7e36dfd03e9493708664c2effdd5cc5721263477809856cac03793779834', 'certificates': [{'type': 'Certificate', 'issuerPublicKey': '3082012230', 'timestamp': 1738220692717, 'hash': '6773dd2b5eadf5a98951f0e3f69b7b2b13bc7512ab816c01e10905f4ecab49c5', 'signature': '95141f5dbb125ddbab8b444233a19965a41dacd9b100c7997d0ca58b189b5e532f32c0d1bf3f4f82b6b92e28ede53f4d8a0faada322a6a751ca4a68b3fe4fac931a2d7a83aa603bc835278610536578c7d8ad9a2b528239d550e9cd6529f326f4c5d76dd9ef417d7e8b742416cce1371b12e35c5fc92d5740a7b1359c16da8a926e378d33caf77fb09e82fde0c7c5790390a2637a5ead27baf69f748f70a05f1c2bd933a12410bf82a401ea8713c0d14e57b23ed3f5747a6ab92433cd0ff3a4274b736ac73047c5d99d5503f9f264673041b10f702a2449a4a2760be902263570a097094371689cb95d414774e44d4c917f592044c5fd5c38aa0fbca4cccc99f'}]}\n",
      "Block 2:\n",
      "{'type': 'Block', 'issuerPublicKey': '3082012230', 'timestamp': 1738220692814, 'hash': '4345c8c679ad7cf0e4ee98710edba99627bc21ea5c284ba4b395647bc831fa6d', 'signature': '471d27b76fdaddb0c5c44fcf1e51f7e46908630142f36065d27dbb6c1cc105859034858d6bc678e3d3dc7c1320db865d7ea79519b6b5a34bf6225e6213b3fc8b5a8214ea093ab99d5e4b0851629bdad87aff372a753dc1486f1dfe84c4d40bcc59a7288866ddb4277c23b434bf6d8e27b04f084576028206f550f0afed7ccc1bd5800e96fc91058ab2ea4ac5468fe2f771f6ca7fbc80bfe815f4a4ad4cf2cc3419065dea6b6ffd8686dd022b2f7dd90aad85799a4248e09f8f800e5806e14eb78a718aae46d5cc4b8d172d494fbd015310824e8c3d97067830cbd98e5afdc1247c72a42d16758322c9453415abd17bcd4deeb3e28b9ae66986a474638a8ec2aa', 'index': 2, 'parent': 'c13a0e290a12f451b5e88b1d87e3ca150722833714689036685e26c1682fa70f', 'certificates': [{'type': 'Certificate', 'issuerPublicKey': '3082012230', 'timestamp': 1738220692736, 'hash': '23fddd0e75a009008d58b44aeacc770d9289ca9e52ea2cfd039d75a437861348', 'signature': '55d6c4b9342dadb836e5c7eab8b50efe865ebf16fce1aa7bb623b3411ae506f893736363d13bb9e4182ce508daba83f5e1ec7cd42fde1f6b4b0f8084c951c506558dfa8edc37735b71a4bf0e1601dbeec77ea62b6b2421a49042237e20fa13f8a5ee7a972fb44f25a9aef0d818b4fd077557be559062134d97e3c7032d024e9ca35efaeb427bae74f6a37174be7f874e2eea1fbce8294fc12503b6500d742666e4ca4795bf7ca82fdd5640cd77a0b7170db05d7f0bb8cc2b9153cfd6d2fe36da842c5f538df3acfe39f334f1f895d4a3f0940c6e61805932f868dee810858343d0157d7fe19d973f774d46aa76cad9b041ad693a4a7cd3d525608679e12335a3'}]}\n"
     ]
    }
   ],
   "source": [
    "blockchain.display()"
   ]
  },
  {
   "cell_type": "markdown",
   "id": "9851fde9",
   "metadata": {},
   "source": [
    "### Bonus 2: TD 2 Report\n",
    "\n",
    "To properly conclude this 2nd assignment and to help you understand why such a data structure is impossible to modify without causing complete corruption of the blockchain, I invite you to \"mistreat\" your implementation. Create situations of corruption that you find interesting and test how your blockchain reacts in these situations.\n",
    "\n",
    "**Imagine having to sell such technology to a major client. You must convince them, through a written report in the form of a Notebook, and with concrete examples, that your technology is unbreakable.**\n",
    "\n",
    "<font color=\"8888CC\">Create a new Notebook for this report. To do this, in the main tab of Jupyter Notebook, in the upper right corner, there is a ```New``` button. Click on it and select the ```Python 3``` kernel.</font>\n",
    "\n",
    "> I recommend generating 2 wallets to get interesting situations. Also, draw inspiration from what we have seen in class.\n",
    "\n",
    "> If you want to format the text you include in this Notebook, I suggest you take inspiration from the texts in this Notebook by double-clicking on one of the texts to see the source code. At the top of the Notebook, you can change the type of a cell by replacing ```Code``` with ```Markdown```."
   ]
  }
 ],
 "metadata": {
  "kernelspec": {
   "display_name": "nolan_env",
   "language": "python",
   "name": "python3"
  },
  "language_info": {
   "codemirror_mode": {
    "name": "ipython",
    "version": 3
   },
   "file_extension": ".py",
   "mimetype": "text/x-python",
   "name": "python",
   "nbconvert_exporter": "python",
   "pygments_lexer": "ipython3",
   "version": "3.12.8"
  }
 },
 "nbformat": 4,
 "nbformat_minor": 5
}
