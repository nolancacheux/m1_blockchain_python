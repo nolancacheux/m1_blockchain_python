{
 "cells": [
  {
   "cell_type": "markdown",
   "id": "e22288f1-e868-4657-b9f7-f22ee54955fb",
   "metadata": {},
   "source": [
    "# TD 3\n",
    "\n",
    "***\n",
    "\n",
    "*Consensus algorithms*\n",
    "\n",
    "***\n",
    "\n",
    "In this practical work, we will implement the details of both Proof-of-Stake (PoS) and as a bonus Proof-of-Work (PoW). Since PoS is becoming the most popular consensus algorithm, and suits any decentralized system well, it is the most interesting to look after.\n",
    "\n",
    "It may seem counter-intuitive since until now we haven't seen nor coded a decentralized system (this is for TD 4). We will stick to one central blockchain on which multiple public keys operate.\n",
    "\n",
    "So one would argue : why doing it now since once we port the model to a decentralized network, blockchain instances will be out of synchronization. Well the answer, as we've seen in the lecture, is **deterministicity**. The consensus is **universal** and does not need people to communicate. Like a law of nature, somehow.\n",
    "\n",
    "Take as an example the pi constant ```𝜋 ≈ 3.14159...```. Since we've all been taught the same mathematics in class, we all learnt the same operators ```+```, ```-```, ```÷``` ..., the traditional digits 0..9, and all the rest, which are all really just a human construct, we are all able to calculate ```𝜋``` (we actually did in TD 1). We can thus say there is a universal consensus on ```𝜋```. You do not need to talk with a libanese student to agree on the value of ```𝜋```.\n",
    "\n",
    "For blockchains, the same applies. Every node in the network owns the same software that runs the blockchain (like us, the same mathematics) and can thus **calculate the same forger for next block**. This way, a consensus is reached without exchanging information."
   ]
  },
  {
   "cell_type": "code",
   "execution_count": 1,
   "id": "1ae832cd",
   "metadata": {
    "ExecuteTime": {
     "end_time": "2024-01-31T14:15:58.877907Z",
     "start_time": "2024-01-31T14:15:58.849679Z"
    }
   },
   "outputs": [],
   "source": [
    "# Mandatory cell, please execute it\n",
    "\n",
    "%load_ext autoreload\n",
    "%autoreload 2\n",
    "\n",
    "from sys import path\n",
    "\n",
    "path.append('../scripts')\n",
    "\n",
    "class StopExecution(Exception):\n",
    "    def _render_traceback_(self):\n",
    "        pass"
   ]
  },
  {
   "cell_type": "markdown",
   "id": "b03ad070-51b1-460e-9e6c-f39d632d1a09",
   "metadata": {},
   "source": [
    "### Staking\n",
    "\n",
    "In Proof-of-Stake, there is \"Stake\" so we need the possibility to stake tokens.\n",
    "\n",
    "In the context of blockchains, \"staking\" refers to the action of depositing a fixed amount of tokens to strengthen one's voting rights in important decisions concerning the blockchain. The primary of these decisions is the selection of the next forger, but each blockchain project can include additional decisions, such as the project's direction, reward choices, and more...\n",
    "\n",
    "As we haven't implemented an economic system in our blockchain (our blockchain is purely educational), we will assume that every actor in the blockchain has an infinite amount of tokens in their pocket. Therefore, you can stake any amount you want for each wallet.\n",
    "\n",
    "Now, we need to code the staking operation.\n",
    "\n",
    "***\n",
    "\n",
    "<font color=\"7777aa\">In your \"scripts\" folder, create a file called `stake.py` in which you must implement the `StakingOperation` class. For now, just code its constructor, nothing more.</font>\n",
    "\n",
    "This class should adhere to the following model, as we've just discussed:\n",
    "* A staking operation involves a person and an amount of tokens to be staked (`tokenAmount`).\n",
    "* These operations will be stored in the blockchain (and therefore gain all the properties of security, immutability, etc...)"
   ]
  },
  {
   "cell_type": "code",
   "execution_count": 2,
   "id": "f50c3a7f",
   "metadata": {
    "ExecuteTime": {
     "end_time": "2024-01-31T14:34:38.466311Z",
     "start_time": "2024-01-31T14:34:35.020399Z"
    }
   },
   "outputs": [
    {
     "data": {
      "text/plain": [
       "'Success!'"
      ]
     },
     "execution_count": 2,
     "metadata": {},
     "output_type": "execute_result"
    }
   ],
   "source": [
    "from stake import StakingOperation\n",
    "\n",
    "dummyStakingOperation = StakingOperation('9cbe2a6713', 42)\n",
    "\n",
    "assert dummyStakingOperation.issuerPublicKey == '9cbe2a6713'   # Has an issuer\n",
    "assert dummyStakingOperation.tokenAmount == 42                 # Staking 42 tokens\n",
    "\n",
    "'Success!'"
   ]
  },
  {
   "cell_type": "markdown",
   "id": "2b0bf0f2",
   "metadata": {},
   "source": [
    "***\n",
    "<font color=\"7777aa\">In the same way you did it for the `Block` class in TD 2, rewrite the `build_payload()` function to include the additional data.</font>"
   ]
  },
  {
   "cell_type": "code",
   "execution_count": 3,
   "id": "9facb33a",
   "metadata": {
    "ExecuteTime": {
     "end_time": "2024-01-31T14:34:40.138100Z",
     "start_time": "2024-01-31T14:34:40.121716Z"
    }
   },
   "outputs": [
    {
     "data": {
      "text/plain": [
       "{'issuerPublicKey': '9cbe2a6713',\n",
       " 'timestamp': 1706711678462,\n",
       " 'tokenAmount': 42}"
      ]
     },
     "execution_count": 3,
     "metadata": {},
     "output_type": "execute_result"
    }
   ],
   "source": [
    "dummyStakingOperation.build_payload()"
   ]
  },
  {
   "cell_type": "markdown",
   "id": "8f5e1e95",
   "metadata": {},
   "source": [
    "You can now use your blockchain to perform staking operations, and the following cell demonstrates how to do it.\n",
    "\n",
    "For the entire duration of the TD, we will have the following setup:\n",
    "\n",
    "* Two actors (**Alice** and **Bob**) represented by their wallets (`walletAlice` and `walletBob`).\n",
    "* One and only one **blockchain** (`blockchainTD3`) on which we will add staking operations and general certificates.\n",
    "\n",
    "Let's start with Alice and Bob staking the following amounts:\n",
    "* Alice: 4\n",
    "* Bob: 2.5"
   ]
  },
  {
   "cell_type": "code",
   "execution_count": 4,
   "id": "a3960ac2",
   "metadata": {
    "ExecuteTime": {
     "end_time": "2024-01-31T14:34:44.992493Z",
     "start_time": "2024-01-31T14:34:43.417756Z"
    }
   },
   "outputs": [
    {
     "data": {
      "text/plain": [
       "{'type': 'Blockchain',\n",
       " 'blocks': [{'type': 'Block',\n",
       "   'issuer': '...0000000000000000...',\n",
       "   'timestamp': 0,\n",
       "   'hash': 'a70c7e36dfd03e94...',\n",
       "   'signature': '...',\n",
       "   'index': 0,\n",
       "   'parent': '0000000000000000...',\n",
       "   'certificates': []},\n",
       "  {'type': 'Block',\n",
       "   'issuer': '...52003802d6f8afde...',\n",
       "   'timestamp': 1706711684957,\n",
       "   'hash': '3a64090758ec8f9c...',\n",
       "   'signature': 'c00ce9c29b420c3c...',\n",
       "   'index': 1,\n",
       "   'parent': 'a70c7e36dfd03e94...',\n",
       "   'certificates': [{'type': 'StakingOperation',\n",
       "     'issuer': '...52003802d6f8afde...',\n",
       "     'timestamp': 1706711684891,\n",
       "     'hash': '9a276a9a75a2a624...',\n",
       "     'signature': '84706f5574316810...',\n",
       "     'tokenAmount': 4},\n",
       "    {'type': 'StakingOperation',\n",
       "     'issuer': '...a17eac6f21954d8f...',\n",
       "     'timestamp': 1706711684924,\n",
       "     'hash': '3b6e4860e9e606f0...',\n",
       "     'signature': '33d0dd52707c069d...',\n",
       "     'tokenAmount': 2.5}]}]}"
      ]
     },
     "execution_count": 4,
     "metadata": {},
     "output_type": "execute_result"
    }
   ],
   "source": [
    "from wallet import Wallet\n",
    "from block import Block\n",
    "from blockchain import Blockchain\n",
    "\n",
    "# Two actors\n",
    "\n",
    "walletAlice = Wallet()\n",
    "walletBob = Wallet()\n",
    "\n",
    "def reset_staking_blockchain():\n",
    "\n",
    "    global walletAlice, walletBob, blockchainTD3, stakingAlice1, stakingBob1, block1\n",
    "    \n",
    "    # Our blockchain\n",
    "    \n",
    "    blockchainTD3 = Blockchain()\n",
    "    \n",
    "    # Alice wants to stake 4\n",
    "    \n",
    "    stakingAlice1 = StakingOperation(walletAlice.publicKey, 4)\n",
    "    walletAlice.sign(stakingAlice1)\n",
    "    \n",
    "    # Bob wants to stake 2.5\n",
    "    \n",
    "    stakingBob1 = StakingOperation(walletBob.publicKey, 2.5)\n",
    "    walletBob.sign(stakingBob1)\n",
    "    \n",
    "    # To ensure both staking operations are inside the blockchain, Alice creates a block, put them in it and adds the block to the blockchain.\n",
    "    \n",
    "    block1 = Block(walletAlice.publicKey, 1, blockchainTD3.get_latest_block().hash(), [stakingAlice1, stakingBob1])\n",
    "    walletAlice.sign(block1)\n",
    "    blockchainTD3.blockList.append(block1)\n",
    "\n",
    "reset_staking_blockchain()\n",
    "\n",
    "# If you did bonus 1 of TD 2 (or if you downloaded the solution), take a peek at your blockchain :\n",
    "\n",
    "if not hasattr(blockchainTD3, 'display'):\n",
    "    raise StopExecution\n",
    "    \n",
    "blockchainTD3.display()"
   ]
  },
  {
   "cell_type": "markdown",
   "id": "6db263c8",
   "metadata": {},
   "source": [
    "It would be interesting to code a function that allows us to determine the total staked tokens for each actor. This will be particularly useful for the consensus algorithm.\n",
    "\n",
    "The idea is simple: we will traverse the entire blockchain and calculate, using the staking operations found within it, the total staked tokens for everyone.\n",
    "\n",
    "Since this function only deals with staking operations, we will write it directly in the `StakingOperation` class.\n",
    "\n",
    "***\n",
    "\n",
    "You will need to write a static function. In Python, you can do this by removing `self` from the function's arguments and adding the `@staticmethod` attribute. Here's an example:\n",
    "\n",
    "```python\n",
    "class MyClass:\n",
    "\n",
    "    @staticmethod\n",
    "    def my_static_function(arguments):\n",
    "        pass\n",
    "```\n",
    "\n",
    "To use it, simply call `MyClass.my_static_function(arguments)`.\n",
    "\n",
    "***\n",
    "\n",
    "<font color=\"7777aa\">In your `StakingOperation` class, write the static function `build_staking_accounts(blockList)` that takes as input **any list of blocks** (not a blockchain) and returns a Python dictionary. The keys of this dictionary should be the public keys of the people who have staked tokens in this list of blocks, and the values should be the amount of tokens staked by these individuals.</font>\n",
    "\n",
    "> `build_staking_accounts(blockList)` takes a list of blocks as a parameter rather than a blockchain because it's a function that can be used on a subset of blocks from any blockchain. In general, since this function only deals with a list of blocks, there's no need to complicate the input parameter."
   ]
  },
  {
   "cell_type": "code",
   "execution_count": 5,
   "id": "5159254d",
   "metadata": {
    "ExecuteTime": {
     "end_time": "2024-01-31T14:34:51.840078Z",
     "start_time": "2024-01-31T14:34:51.600482Z"
    }
   },
   "outputs": [
    {
     "data": {
      "text/plain": [
       "'Success!'"
      ]
     },
     "execution_count": 5,
     "metadata": {},
     "output_type": "execute_result"
    }
   ],
   "source": [
    "from certificate import Certificate\n",
    "\n",
    "reset_staking_blockchain()\n",
    "\n",
    "# We'll add a second block containing a staking operation as well as an arbitrary certificate\n",
    "\n",
    "if len(blockchainTD3.blockList) == 2:\n",
    "    \n",
    "    # Arbitrary certificate of Bob\n",
    "    \n",
    "    certificateBob1 = Certificate(walletBob.publicKey)\n",
    "    walletBob.sign(certificateBob1)\n",
    "    \n",
    "    # Alice eventually decides to get 1 token back\n",
    "    \n",
    "    stakingAlice2 = StakingOperation(walletAlice.publicKey, -1)\n",
    "    walletAlice.sign(stakingAlice2)\n",
    "    \n",
    "    # New block to engrave those certificates\n",
    "    \n",
    "    block2 = Block(walletBob.publicKey, 2, blockchainTD3.get_latest_block().hash(), [certificateBob1, stakingAlice2])\n",
    "    walletBob.sign(block2)\n",
    "    blockchainTD3.blockList.append(block2)\n",
    "    \n",
    "# Let's calculate the stakings\n",
    "    \n",
    "accountsAfterBlock2 = StakingOperation.build_staking_accounts(blockchainTD3.blockList)\n",
    "\n",
    "assert isinstance(accountsAfterBlock2, dict)              # I asked for a dictionary\n",
    "assert len(accountsAfterBlock2) == 2                      # 2 actors have staked\n",
    "assert accountsAfterBlock2[walletAlice.publicKey] == 3    # Alice staked 3\n",
    "assert accountsAfterBlock2[walletBob.publicKey] == 2.5    # Bob staked 2.5\n",
    "\n",
    "\"Success!\""
   ]
  },
  {
   "cell_type": "markdown",
   "id": "bb2700a3",
   "metadata": {},
   "source": [
    "### Proof-of-Stake\n",
    "\n",
    "Remember what we learned in class: in a blockchain, different actors agree on the identity of the entity that has the right to forge the next block to be added. This is called the **consensus algorithm**.\n",
    "\n",
    "Now it's time to implement the ***Proof-of-Stake*** consensus algorithm for our blockchain.\n",
    "\n",
    "The idea is quite simple, as we discussed in class; it's a system similar to a lottery or a raffle:\n",
    "\n",
    "* First, we calculate the staking accounts for all actors who have staked (by traversing the blockchain up to this point).\n",
    "* For each actor who has staked, we will assign them as many raffle tickets as they have staked tokens (rounded down to the nearest whole number because we can have fractional tokens...).\n",
    "* Next, we need to decide who has won. To do this, we hash the last block of the blockchain, which we then call `forgeHash`.\n",
    "* Finally, we hash all the raffle tickets. The ticket with the hash closest in numerical distance to `forgeHash` is declared the winner, and its owner gains the right to forge the next block (to get the numerical distance, we convert the hashes to `int`).\n",
    "\n",
    "This algorithm works because, since the blockchain is the same for all network actors, each one can perform these calculations on their own and arrive at the same winner as the others (as explained at the beginning of this notebook).\n",
    "\n",
    "Let's start by modeling a raffle ticket.\n",
    "\n",
    "***\n",
    "\n",
    "<font color=\"7777aa\">In your \"scripts\" folder, create a file called `ticket.py` where you will implement the `RaffleTicket` class. This class should have three public fields: its owner `ownerPublicKey`, its ticket number `number`, and the hash of the raffle it participates in `raffleHash`.</font>"
   ]
  },
  {
   "cell_type": "code",
   "execution_count": 6,
   "id": "b6f358dc",
   "metadata": {
    "ExecuteTime": {
     "end_time": "2024-01-31T14:34:53.471669Z",
     "start_time": "2024-01-31T14:34:53.451982Z"
    }
   },
   "outputs": [
    {
     "data": {
      "text/plain": [
       "'Success!'"
      ]
     },
     "execution_count": 6,
     "metadata": {},
     "output_type": "execute_result"
    }
   ],
   "source": [
    "from ticket import RaffleTicket\n",
    "\n",
    "dummyTicket = RaffleTicket(walletAlice.publicKey, 1, blockchainTD3.get_latest_block().hash())\n",
    "\n",
    "assert dummyTicket.ownerPublicKey == walletAlice.publicKey                 # Owner is Alice\n",
    "assert dummyTicket.number == 1                                             # Ticket number is 1\n",
    "assert dummyTicket.raffleHash == blockchainTD3.get_latest_block().hash()   # Raffle hash is the hash of latest block\n",
    "\n",
    "'Success!'"
   ]
  },
  {
   "cell_type": "markdown",
   "id": "0467598a",
   "metadata": {},
   "source": [
    "<font color=\"7777aa\">Add a `hash()` function to this class that transforms the ticket into a hash **in hexadecimal form** (it's better to keep our standard format and convert it to an integer later).\n",
    "\n",
    "**Attention! Remember that your hash must be identical if you have exactly the same data in the ticket...**</font>"
   ]
  },
  {
   "cell_type": "code",
   "execution_count": 7,
   "id": "cc18e875",
   "metadata": {
    "ExecuteTime": {
     "end_time": "2024-01-31T14:34:54.751707Z",
     "start_time": "2024-01-31T14:34:54.731248Z"
    }
   },
   "outputs": [
    {
     "data": {
      "text/plain": [
       "'992bd560b99b2693025c0d86738263f95951565a1a2f4817267492061c628614'"
      ]
     },
     "execution_count": 7,
     "metadata": {},
     "output_type": "execute_result"
    }
   ],
   "source": [
    "dummyTicket.hash()"
   ]
  },
  {
   "cell_type": "markdown",
   "id": "a12ce9ba",
   "metadata": {},
   "source": [
    "Now that we are able to distribute raffle tickets to our stakers, we can implement the Proof-of-Stake algorithm.\n",
    "\n",
    "***\n",
    "\n",
    "<font color=\"7777aa\">Create a file called `proof_of_stake.py` (still in the \"scripts\" folder). Since many consensus algorithms exist, and to stay true to the fundamental principles of Object-Oriented Programming, you should create a `ProofOfStake` class that we will use as a consensus object at the `Node` level (TD 4).\n",
    "\n",
    "**What should be in its constructor?**\n",
    "\n",
    "This question is very interesting. When we create the blockchain, it only contains the genesis block. So, since no one has staked tokens yet, and staking must be done for a block to be considered, how can we forge block number 1? No raffle tickets can be distributed...\n",
    "\n",
    "In fact, an effective solution would be to have a **default forger**, someone capable of forging if no one has staked. Therefore, in the constructor of `ProofOfStake`, we need a default forger `defaultForgerPublicKey`.</font>"
   ]
  },
  {
   "cell_type": "code",
   "execution_count": 8,
   "id": "e44ea5ce",
   "metadata": {
    "ExecuteTime": {
     "end_time": "2024-01-31T14:34:55.989159Z",
     "start_time": "2024-01-31T14:34:55.964184Z"
    }
   },
   "outputs": [
    {
     "data": {
      "text/plain": [
       "'Success!'"
      ]
     },
     "execution_count": 8,
     "metadata": {},
     "output_type": "execute_result"
    }
   ],
   "source": [
    "from proof_of_stake import ProofOfStake\n",
    "\n",
    "dummyProofOfStake = ProofOfStake(walletAlice.publicKey)\n",
    "\n",
    "assert dummyProofOfStake.defaultForgerPublicKey == walletAlice.publicKey      # Default forger is Alice\n",
    "\n",
    "'Success!'"
   ]
  },
  {
   "cell_type": "markdown",
   "id": "72d434ef",
   "metadata": {},
   "source": [
    "Before we move on to coding the algorithm described with the raffle analogy, let's take the time to implement a small utility function that calculates the distance between two hashes **in their hexadecimal form**.\n",
    "\n",
    "***\n",
    "\n",
    "<font color=\"7777aa\">In your `ProofOfStake` class, implement the `hash_distance(hash1, hash2)` function that returns, as an integer, the integer distance between the two hashes `hash1` and `hash2` **in their hexadecimal form**.\n",
    "\n",
    "Your function does not need to be static. Keep it simple.</font>\n",
    "\n",
    "> To convert a hexadecimal <code>string</code> to an <code>int</code>, use the <code>int(string, 16)</code> function."
   ]
  },
  {
   "cell_type": "code",
   "execution_count": 9,
   "id": "715ddb9d",
   "metadata": {
    "ExecuteTime": {
     "end_time": "2024-01-31T14:34:57.335010Z",
     "start_time": "2024-01-31T14:34:57.317023Z"
    }
   },
   "outputs": [
    {
     "data": {
      "text/plain": [
       "'Success!'"
      ]
     },
     "execution_count": 9,
     "metadata": {},
     "output_type": "execute_result"
    }
   ],
   "source": [
    "hash1 = '67c5ba7'\n",
    "hash2 = 'ff837ea'\n",
    "\n",
    "assert dummyProofOfStake.hash_distance(hash1, hash2) == 159112259\n",
    "\n",
    "\"Success!\""
   ]
  },
  {
   "cell_type": "markdown",
   "id": "623594fc",
   "metadata": {},
   "source": [
    "Remember what we learned in class: **a consensus algorithm is a function that takes as input a list of blocks and the next block to be added to this list, and checks if this block has a valid forger.** This is exactly what we are going to do here.\n",
    "\n",
    "In Proof-of-Stake, **the next block has a valid forger if that forger has won the raffle.** To create the consensus function, we first need to create a function that tells us who wins the raffle.\n",
    "\n",
    "***\n",
    "\n",
    "<font color=\"7777aa\">Now, implement the `get_next_forger_public_key(blockList)` function, which, given any list of blocks, provides the public key of the forger of the next block to be added to this list (and therefore the raffle winner).\n",
    "\n",
    "Please read the algorithm description at the beginning of the **Proof-of-Stake** section carefully.\n",
    "\n",
    "Don't forget to consider the default forger.</font>\n",
    "\n",
    "> `get_next_forger_public_key(blockList)` also takes a list of blocks as a parameter, for the same reasons mentioned earlier for `build_stake_accounts(blockList)`.\n",
    "\n",
    "***\n",
    "\n",
    "**The following 2 cells must execute without errors.**"
   ]
  },
  {
   "cell_type": "code",
   "execution_count": 10,
   "id": "ff6bfec0",
   "metadata": {
    "ExecuteTime": {
     "end_time": "2024-01-31T14:34:58.533387Z",
     "start_time": "2024-01-31T14:34:58.512190Z"
    }
   },
   "outputs": [
    {
     "data": {
      "text/plain": [
       "'Success!'"
      ]
     },
     "execution_count": 10,
     "metadata": {},
     "output_type": "execute_result"
    }
   ],
   "source": [
    "# Verifying default forger\n",
    "\n",
    "emptyBlockchain = Blockchain()\n",
    "\n",
    "assert dummyProofOfStake.get_next_forger_public_key(emptyBlockchain.blockList) == walletAlice.publicKey\n",
    "\n",
    "\"Success!\""
   ]
  },
  {
   "cell_type": "code",
   "execution_count": 11,
   "id": "0a679fda",
   "metadata": {
    "ExecuteTime": {
     "end_time": "2024-01-31T14:34:58.980908Z",
     "start_time": "2024-01-31T14:34:58.959025Z"
    }
   },
   "outputs": [
    {
     "name": "stdout",
     "output_type": "stream",
     "text": [
      "Alice is the next forger\n"
     ]
    }
   ],
   "source": [
    "# Is next forger Alice or Bob ?\n",
    "\n",
    "nextForger = dummyProofOfStake.get_next_forger_public_key(blockchainTD3.blockList)\n",
    "\n",
    "if nextForger == walletAlice.publicKey:\n",
    "    print('Alice is the next forger')\n",
    "else:\n",
    "    print('Bob is the next forger')"
   ]
  },
  {
   "cell_type": "markdown",
   "id": "214421be",
   "metadata": {},
   "source": [
    "<font color=\"7777aa\">Now, create the `is_next_block_forger_legit(blockList, nextBlock)` function that returns `True` if the issuer of the next block `nextBlock` is indeed the winner of the raffle of `blockList`, and `False` otherwise.</font>"
   ]
  },
  {
   "cell_type": "code",
   "execution_count": 12,
   "id": "195c9333",
   "metadata": {
    "ExecuteTime": {
     "end_time": "2024-01-31T14:35:00.757199Z",
     "start_time": "2024-01-31T14:35:00.736679Z"
    }
   },
   "outputs": [
    {
     "data": {
      "text/plain": [
       "'Success!'"
      ]
     },
     "execution_count": 12,
     "metadata": {},
     "output_type": "execute_result"
    }
   ],
   "source": [
    "nextBlock = Block(nextForger, len(blockchainTD3.blockList), blockchainTD3.get_latest_block().hash(), [])\n",
    "\n",
    "assert dummyProofOfStake.is_next_block_forger_legit(blockchainTD3.blockList, nextBlock)\n",
    "\n",
    "\"Success!\""
   ]
  },
  {
   "cell_type": "markdown",
   "id": "238ad6da",
   "metadata": {},
   "source": [
    "So now we have a tool that allows us to know if a new block to be added to our blockchain has been forged by the only person entitled to forge the next block (simply use the `is_next_block_forger_legit(blockList, nextBlock)` function to see if this block was forged by the right person).\n",
    "\n",
    "As capable as we are of preventing new blocks from being forged by the wrong people, if someone sends us a complete blockchain, we cannot yet attest to its validity.\n",
    "\n",
    "Let's say a fraudulent actor on the network decides to completely change the blockchain by becoming the owner of all its blocks. Then they send it to you because you've just joined the network and need to retrieve all the blockchain data to be up to date. From your point of view, since they have signed all the blocks, their blockchain is legal. However, this is not the case at all because they are not entitled to forge all the blocks (or the probability is very low).\n",
    "\n",
    "Remember in TD 2, we wrote the `is_legit()` function that validates a blockchain. It's time to also take into account the forger's identity in the validation.\n",
    "\n",
    "Since several consensus algorithms exist, if you change them tomorrow (for example, switch to Proof-of-Work), your code must adapt. For this reason, we will implement an `is_blockchain_legit(blockchain)` function directly in the `ProofOfStake` class.\n",
    "\n",
    "***\n",
    "\n",
    "<font color=\"7777aa\">In the `ProofOfStake` class, implement the `is_blockchain_legit(blockchain)` function. This function should check, for each block in the blockchain, if its forger is indeed the expected forger given the previous block.\n",
    "\n",
    "If any single block has a forger who did not win the raffle, this function should return `False`, otherwise it returns `True`.</font>"
   ]
  },
  {
   "cell_type": "code",
   "execution_count": 13,
   "id": "5cf04d9c",
   "metadata": {
    "ExecuteTime": {
     "end_time": "2024-01-31T14:35:02.340131Z",
     "start_time": "2024-01-31T14:35:02.224088Z"
    }
   },
   "outputs": [
    {
     "data": {
      "text/plain": [
       "'Assignment completed! Congratz!'"
      ]
     },
     "execution_count": 13,
     "metadata": {},
     "output_type": "execute_result"
    }
   ],
   "source": [
    "block2 = blockchainTD3.blockList[2]\n",
    "block2LegitForger = dummyProofOfStake.get_next_forger_public_key(blockchainTD3.blockList[:-1])\n",
    "block2.issuerPublicKey = block2LegitForger\n",
    "\n",
    "if block2LegitForger == walletAlice.publicKey:\n",
    "    walletAlice.sign(block2)\n",
    "else:\n",
    "    walletBob.sign(block2)\n",
    "\n",
    "assert dummyProofOfStake.is_blockchain_legit(blockchainTD3)\n",
    "\n",
    "if block2LegitForger == walletAlice.publicKey:\n",
    "    block2.issuerPublicKey = walletBob.publicKey\n",
    "    walletBob.sign(block2)\n",
    "else:\n",
    "    block2.issuerPublicKey = walletAlice.publicKey\n",
    "    walletAlice.sign(block2)\n",
    "\n",
    "assert not dummyProofOfStake.is_blockchain_legit(blockchainTD3)\n",
    "\n",
    "\"Assignment completed! Congratz!\""
   ]
  },
  {
   "cell_type": "markdown",
   "id": "f3a3ed91",
   "metadata": {},
   "source": [
    "### Bonus 1 - Monte Carlo (Episode 2)\n",
    "\n",
    "In our current configuration, Alice has staked 3 tokens, and Bob has staked 2.5 tokens. For our consensus algorithm, this means that Alice has 60% of the decision-making power (3 tickets out of 5), and Bob has 40% (2 tickets out of 5).\n",
    "\n",
    "Let's verify if this is indeed the case with your implementation. We will use the same method as in Assignment 1: the Monte Carlo method. Let's simulate 10,000 raffles and observe the probabilities of Alice and Bob winning.\n",
    "\n",
    "***\n",
    "\n",
    "<font color=\"7777aa\">Complete the following cell to simulate 10,000 raffles. Ensure that the hash of the last block in the `blockchainTD3` blockchain changes with each simulation (to vary the raffles).</font>"
   ]
  },
  {
   "cell_type": "code",
   "execution_count": 14,
   "id": "b0cffb1d",
   "metadata": {
    "ExecuteTime": {
     "end_time": "2024-01-31T14:35:07.596306Z",
     "start_time": "2024-01-31T14:35:06.588131Z"
    }
   },
   "outputs": [
    {
     "name": "stdout",
     "output_type": "stream",
     "text": [
      "Alice has a 60% chance to forge\n",
      "Bob has a 40% chance to forge\n"
     ]
    }
   ],
   "source": [
    "nSimulations = 10000\n",
    "\n",
    "winsAlice = 0\n",
    "winsBob = 0\n",
    "\n",
    "for i in range(nSimulations):\n",
    "    latestBlock = blockchainTD3.get_latest_block()\n",
    "    latestBlock.timestamp += 1\n",
    "    if dummyProofOfStake.get_next_forger_public_key(blockchainTD3.blockList) == walletAlice.publicKey:\n",
    "        winsAlice += 1\n",
    "    else:\n",
    "        winsBob += 1\n",
    "        \n",
    "print(f'Alice has a {int(round(winsAlice / nSimulations, 2) * 100)}% chance to forge')\n",
    "print(f'Bob has a {int(round(winsBob / nSimulations, 2) * 100)}% chance to forge')"
   ]
  },
  {
   "cell_type": "markdown",
   "id": "69d92545",
   "metadata": {},
   "source": [
    "### Bonus 2 - Proof-of-Work\n",
    "\n",
    "You've learned all about Proof-of-Work in the course. For this bonus, I'm asking you to implement the basic mechanics of this algorithm (we won't change the puzzle difficulty based on forging speed).\n",
    "\n",
    "***\n",
    "\n",
    "<font color=\"7777aa\">Add the `nonce` field to your `Block` class. This new field should be considered in all blockchain mechanisms. **Do not add it to the constructor parameters; simply initialize it to 0**.</font>"
   ]
  },
  {
   "cell_type": "code",
   "execution_count": 15,
   "id": "814097e3",
   "metadata": {
    "ExecuteTime": {
     "end_time": "2024-01-31T14:36:06.656203Z",
     "start_time": "2024-01-31T14:36:06.626255Z"
    }
   },
   "outputs": [
    {
     "data": {
      "text/plain": [
       "'Success!'"
      ]
     },
     "execution_count": 15,
     "metadata": {},
     "output_type": "execute_result"
    }
   ],
   "source": [
    "block = Block(walletAlice.publicKey, 0, 'void', [])\n",
    "\n",
    "assert 'nonce' in block.__dict__\n",
    "\n",
    "\"Success!\""
   ]
  },
  {
   "cell_type": "markdown",
   "id": "06aa3a51",
   "metadata": {},
   "source": [
    "Let's start by providing ourselves with the means to solve the puzzle of this consensus algorithm. Just like we designed the `ProofOfStake` class, we will create the `ProofOfWork` class.\n",
    "\n",
    "***\n",
    "\n",
    "<font color=\"7777aa\">Create the `ProofOfWork` class in a file named `proof_of_work.py`. Its constructor takes an integer `difficulty` as a parameter, which represents the number of leading zeros required to solve the puzzle.</font>"
   ]
  },
  {
   "cell_type": "code",
   "execution_count": 16,
   "id": "3f3db7b9",
   "metadata": {
    "ExecuteTime": {
     "end_time": "2024-01-31T14:36:08.038200Z",
     "start_time": "2024-01-31T14:36:08.015927Z"
    }
   },
   "outputs": [
    {
     "data": {
      "text/plain": [
       "'Success!'"
      ]
     },
     "execution_count": 16,
     "metadata": {},
     "output_type": "execute_result"
    }
   ],
   "source": [
    "from proof_of_work import ProofOfWork\n",
    "\n",
    "dummyProofOfWork = ProofOfWork(3)\n",
    "\n",
    "assert dummyProofOfWork.difficulty == 3\n",
    "\n",
    "\"Success!\""
   ]
  },
  {
   "cell_type": "markdown",
   "id": "64a3fe9c",
   "metadata": {},
   "source": [
    "<font color=\"7777aa\">Add the `solve_puzzle(block)` function to it, which finds a nonce sufficient for the hash of the `block` to begin with at least as many zeros as indicated by `difficulty`. **This function then applies this nonce to the block**.</font>"
   ]
  },
  {
   "cell_type": "code",
   "execution_count": 17,
   "id": "3cd14a51",
   "metadata": {
    "ExecuteTime": {
     "end_time": "2024-01-31T14:36:09.377707Z",
     "start_time": "2024-01-31T14:36:09.271830Z"
    }
   },
   "outputs": [
    {
     "data": {
      "text/plain": [
       "'Success for a nonce of 4056 (hash = 0004939bcc6b796b86e257a299c9c1f6123e51e610fb302c79c2eb8de4672402)'"
      ]
     },
     "execution_count": 17,
     "metadata": {},
     "output_type": "execute_result"
    }
   ],
   "source": [
    "dummyProofOfWork.solve_puzzle(block)\n",
    "\n",
    "assert block.hash()[:dummyProofOfWork.difficulty] == '0' * dummyProofOfWork.difficulty\n",
    "\n",
    "f\"Success for a nonce of {block.nonce} (hash = {block.hash()})\""
   ]
  },
  {
   "cell_type": "markdown",
   "id": "045e6d09",
   "metadata": {},
   "source": [
    "<font color=\"7777aa\">To maintain consistency with the interface of the `ProofOfStake` class, this class should have two functions: `is_next_block_forger_legit(blockList, nextBlock)` and `is_blockchain_legit(blockchain)`. Implement them.</font>"
   ]
  },
  {
   "cell_type": "code",
   "execution_count": 18,
   "id": "8b634f8f",
   "metadata": {
    "ExecuteTime": {
     "end_time": "2024-01-31T14:36:12.134510Z",
     "start_time": "2024-01-31T14:36:11.810020Z"
    }
   },
   "outputs": [
    {
     "data": {
      "text/plain": [
       "'Your PoW implementation seems to work. Congratz!'"
      ]
     },
     "execution_count": 18,
     "metadata": {},
     "output_type": "execute_result"
    }
   ],
   "source": [
    "powBlockchain = Blockchain()\n",
    "\n",
    "powBlock1 = Block(walletAlice.publicKey, 1, powBlockchain.get_latest_block().hash(), [])\n",
    "walletAlice.sign(powBlock1)\n",
    "dummyProofOfWork.solve_puzzle(powBlock1)\n",
    "powBlockchain.blockList.append(powBlock1)\n",
    "\n",
    "powBlock2 = Block(walletBob.publicKey, 2, powBlockchain.get_latest_block().hash(), [])\n",
    "walletBob.sign(powBlock2)\n",
    "dummyProofOfWork.solve_puzzle(powBlock2)\n",
    "\n",
    "assert dummyProofOfWork.is_next_block_forger_legit(powBlockchain.blockList, powBlock2)\n",
    "\n",
    "powBlockchain.blockList.append(powBlock2)\n",
    "\n",
    "assert dummyProofOfWork.is_blockchain_legit(powBlockchain)\n",
    "\n",
    "powBlock1.nonce -= 1\n",
    "\n",
    "assert not dummyProofOfWork.is_blockchain_legit(powBlockchain)\n",
    "\n",
    "\"Your PoW implementation seems to work. Congratz!\""
   ]
  }
 ],
 "metadata": {
  "kernelspec": {
   "display_name": "Python 3 (ipykernel)",
   "language": "python",
   "name": "python3"
  },
  "language_info": {
   "codemirror_mode": {
    "name": "ipython",
    "version": 3
   },
   "file_extension": ".py",
   "mimetype": "text/x-python",
   "name": "python",
   "nbconvert_exporter": "python",
   "pygments_lexer": "ipython3",
   "version": "3.10.10"
  }
 },
 "nbformat": 4,
 "nbformat_minor": 5
}
