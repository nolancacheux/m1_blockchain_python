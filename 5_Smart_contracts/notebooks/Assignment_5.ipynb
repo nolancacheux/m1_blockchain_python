{
 "cells": [
  {
   "cell_type": "markdown",
   "id": "ac906b9f",
   "metadata": {},
   "source": [
    "# Assignment 5\n",
    "\n",
    "***\n",
    "\n",
    "*Smart Contracts and Decentralized Applications*\n",
    "\n",
    "***\n",
    "\n",
    "Now that we have completed the essential functionalities of our blockchain, let's look at an application case that is probably the most promising: **decentralized applications**.\n",
    "\n",
    "In concrete terms, if we summarize blockchain to its most pure principle, it is a decentralized and immutable data structure over time. And in fact, **decentralized** and **immutable over time** are the key points that make decentralized applications an interesting model.\n",
    "\n",
    "The objective of this Assignment 5 is to lay the foundations of smart contracts, which are a future technological support for all decentralized applications. It is also mainly the basis that will probably serve for your mini-project: it will be based either on the mechanics of smart contracts or on another mechanic that you will implement from scratch on the foundations of new types of certificates."
   ]
  },
  {
   "cell_type": "code",
   "execution_count": 100,
   "id": "b3ff2bb7",
   "metadata": {
    "ExecuteTime": {
     "end_time": "2025-02-12T08:23:43.993182Z",
     "start_time": "2025-02-12T08:23:43.963866Z"
    }
   },
   "outputs": [
    {
     "name": "stdout",
     "output_type": "stream",
     "text": [
      "The autoreload extension is already loaded. To reload it, use:\n",
      "  %reload_ext autoreload\n"
     ]
    }
   ],
   "source": [
    "# Mandatory cell for the rest of this assignment\n",
    "\n",
    "%load_ext autoreload\n",
    "%autoreload 2\n",
    "\n",
    "from sys import path\n",
    "\n",
    "path.append('../scripts')"
   ]
  },
  {
   "cell_type": "markdown",
   "id": "3c49d41b",
   "metadata": {},
   "source": [
    "For the entirety of Assignment 5, we will need a blockchain. The following cell defines a function `reset_blockchain()` that creates/recreates the following setup, which you have already roughly had in Assignment 4:\n",
    "* 3 nodes on a network\n",
    "* Each node stakes in the 2nd block: 1 token for node 1, 2 for node 2, and 3 for node 3\n",
    "\n",
    "You will have nothing else to do but to send certificates directly to one of the nodes using the function `new_certificate(certificate)`, which is also the interest of having completed Assignment 4 before this one.\n",
    "\n",
    "Feel free to use this function `reset_blockchain()`. There will come cases where you change the source code of your smart contracts while the blockchain still exists, and this may pose a problem because we are not going to implement the functionality to update contracts."
   ]
  },
  {
   "cell_type": "code",
   "execution_count": 101,
   "id": "cb6ba807",
   "metadata": {
    "ExecuteTime": {
     "end_time": "2025-02-12T08:23:47.549073Z",
     "start_time": "2025-02-12T08:23:44.952283Z"
    }
   },
   "outputs": [],
   "source": [
    "from node import BlockchainNode\n",
    "from network import Node\n",
    "from wallet import Wallet\n",
    "from proof_of_stake import ProofOfStake\n",
    "\n",
    "walletNode1 = Wallet()\n",
    "walletNode2 = Wallet()\n",
    "walletNode3 = Wallet()\n",
    "\n",
    "walletAlice = Wallet()\n",
    "\n",
    "pos = ProofOfStake(walletNode1.publicKey)\n",
    "\n",
    "def reset_blockchain():\n",
    "    Node.reset_network()\n",
    "    global node1, node2, node3\n",
    "    node1 = BlockchainNode(walletNode1, pos)\n",
    "    node2 = BlockchainNode(walletNode2, pos)\n",
    "    node3 = BlockchainNode(walletNode3, pos)"
   ]
  },
  {
   "cell_type": "markdown",
   "id": "25230fe5",
   "metadata": {},
   "source": [
    "### Smart contracts\n",
    "\n",
    "With what we've covered in the course, you are now capable of implementing smart contracts in your blockchain. Here's a reminder:\n",
    "* Smart contracts are created by embedding a piece of code in a certificate, which is then added to the blockchain.\n",
    "* To modify one or more values of the contract, you must create a new certificate that will engrave our contract modification action into the blockchain.\n",
    "* Reading the values of a contract takes into account all the modification certificates present in the blockchain.\n",
    "\n",
    "We will implement these three functionalities. For this, it is important to distinguish two types of certificates: contract definition certificates, and contract writing certificates.\n",
    "\n",
    "For contract definition, we need a way to store the source code of the contract but also to do something with it. In the Ethereum blockchain, for example, smart contracts are stored in their compiled form (with 0s and 1s). In our situation, we are lucky to benefit from the many practical aspects of Python's \"interpreted language\" characteristic: its ability to be executed *on the fly*.\n",
    "\n",
    "> For your knowledge: there are two types of programming languages: the \"compiled\" type, where your code is converted into 0s and 1s before execution (for example, when you create a .exe file, the code has already been compiled) and the \"interpreted\" type, where compilation occurs at the time of execution, and where the reading of the code is done \"in reading order\". Python is of the \"interpreted\" type.\n",
    "\n",
    "Therefore, we will code our contracts in Python. **A Smart Contract will thus be represented by a string describing a Python class named `SmartContract`.** Here are the set of rules we will follow when coding a smart contract:\n",
    "* The contract's constructor always takes the creator's public key as a parameter.\n",
    "* Any contract function intended to modify the state of the contract (by changing one or more of its values) must have the public key of the person calling this function as the first argument.\n",
    "* Other functions are read functions.\n",
    "\n",
    "***\n",
    "\n",
    "<font color=\"7777aa\">In a new file `smart_contract.py`, still in your `scripts` folder, create the class `SmartContractDefinition`. Since it's a certificate, this class must inherit from `Certificate`, and you need to replace the `build_payload()` function to incorporate its `sourceCode` field.\n",
    "\n",
    "`sourceCode` is a string that contains the source code of the Smart Contract.</font>\n",
    "\n",
    "> To illustrate our smart contract implementation, we will be building a minimal chat application. In the next cell, you can observe how such a decentralized application can be built."
   ]
  },
  {
   "cell_type": "code",
   "execution_count": 102,
   "id": "10274e52",
   "metadata": {
    "ExecuteTime": {
     "end_time": "2025-02-12T08:23:49.161662Z",
     "start_time": "2025-02-12T08:23:49.078393Z"
    }
   },
   "outputs": [
    {
     "data": {
      "text/plain": [
       "'Success!'"
      ]
     },
     "execution_count": 102,
     "metadata": {},
     "output_type": "execute_result"
    }
   ],
   "source": [
    "from smart_contract import SmartContractDefinition\n",
    "\n",
    "dummySmartContract = '''\n",
    "\n",
    "class SmartContract:\n",
    "    \n",
    "    def __init__(self, ownerPublicKey):\n",
    "        self.messages = []\n",
    "        \n",
    "    def write_message(self, callerPublicKey, message):\n",
    "        displayedName = callerPublicKey[256:264]\n",
    "        self.messages.append(f'[{displayedName}] {message}')\n",
    "        \n",
    "    def display_chat(self):\n",
    "        for message in self.messages:\n",
    "            print(message)\n",
    "\n",
    "'''\n",
    "\n",
    "dummySmartContractDefinition = SmartContractDefinition(walletAlice.publicKey, dummySmartContract)\n",
    "walletAlice.sign(dummySmartContractDefinition)\n",
    "\n",
    "assert dummySmartContractDefinition.__class__.__bases__[-1].__name__ == \"Certificate\"\n",
    "assert dummySmartContractDefinition.sourceCode == dummySmartContract\n",
    "assert dummySmartContract in dummySmartContractDefinition.build_payload().values()\n",
    "\n",
    "\"Success!\""
   ]
  },
  {
   "cell_type": "markdown",
   "id": "cce7fcf1",
   "metadata": {},
   "source": [
    "Having the source code isn't enough for our blockchain to manipulate the smart contract. We need to link this code to a purely Python object that can be manipulated from the Python environment in which our blockchain resides.\n",
    "\n",
    "To achieve this, we need to add a function to our class that converts the source code into a Python object. Fortunately for us, Python has a built-in function `exec(pythonCode)` which, literally, executes the Python code `pythonCode` as if you had written it verbatim in place of `exec(pythonCode)`.\n",
    "\n",
    "There's just one subtlety: the variables you generate in this code are not directly accessible. You must go through the `locals()` object, which contains a mapping of all local variable names to their corresponding object. Here is an example:"
   ]
  },
  {
   "cell_type": "code",
   "execution_count": 103,
   "id": "dc5c4697",
   "metadata": {
    "ExecuteTime": {
     "end_time": "2025-02-12T08:24:06.940827Z",
     "start_time": "2025-02-12T08:24:06.923045Z"
    }
   },
   "outputs": [],
   "source": [
    "def showcase_exec():\n",
    "    exec('pi = 3.14159', locals=locals())\n",
    "    print(locals())\n",
    "\n",
    "    try:\n",
    "        print(pi)\n",
    "    except:\n",
    "        print('\"pi\" is unknown')\n",
    "\n",
    "    print(f\"You need to go through \\\"locals()['pi']\\\": {locals()['pi']}\")"
   ]
  },
  {
   "cell_type": "markdown",
   "id": "9e0c90e8",
   "metadata": {},
   "source": [
    "<font color=\"7777aa\">Following this example, implement in `SmartContractDefinition` the function `instantiate_contract()` which generates a Python object from the contract's source code.</font>\n",
    "\n",
    "> <details><summary><strong>Click here for help</strong></summary>When you declare a class in Python, what you're actually doing is creating a variable that has the same name as the class and contains a reference to the type generated by the class. To call its constructor, you simply need to add parentheses <code>()</code> behind what you get out of <code>locals()</code>.</details>"
   ]
  },
  {
   "cell_type": "code",
   "execution_count": 104,
   "id": "9a196b38",
   "metadata": {
    "ExecuteTime": {
     "end_time": "2025-02-12T08:24:19.318632Z",
     "start_time": "2025-02-12T08:24:19.295245Z"
    }
   },
   "outputs": [
    {
     "name": "stdout",
     "output_type": "stream",
     "text": [
      "Instantiated contract: <smart_contract.SmartContract object at 0x000002405B9DF7D0>\n"
     ]
    },
    {
     "data": {
      "text/plain": [
       "'Success!'"
      ]
     },
     "execution_count": 104,
     "metadata": {},
     "output_type": "execute_result"
    }
   ],
   "source": [
    "from smart_contract import SmartContractDefinition\n",
    "\n",
    "smartContractObject = dummySmartContractDefinition.instantiate_contract()\n",
    "assert 'messages' in smartContractObject.__dict__\n",
    "assert len(smartContractObject.messages) == 0\n",
    "\n",
    "smartContractObject.write_message(walletAlice.publicKey, \"I'm a smart contract\")\n",
    "\n",
    "assert len(smartContractObject.messages) == 1\n",
    "\n",
    "\"Success!\""
   ]
  },
  {
   "cell_type": "markdown",
   "id": "6a7ed830",
   "metadata": {},
   "source": [
    "Now that we have a way to store the source code of a smart contract in the blockchain, we need a way to modify its values.\n",
    "\n",
    "It's actually very simple, in our example just above, if Alice wants to call the function `write_message(message)` of the contract to add a message like `\"Hello!\"`, she has two options:\n",
    "* Generate an instance of the contract using the `instantiate_contract()` function, then call `write_message(\"Hello!\")` on it.\n",
    "* Create a certificate that states **\"I, Alice, call the function `write_message` with the parameter `\"Hello!\"`.\"**\n",
    "\n",
    "While the first of the two options seems to be the most enticing because it is quick and easy, it is absolutely not valid, as the function call happens **locally, on Alice's machine**. The other people in the blockchain will have no knowledge of the contract value modification.\n",
    "\n",
    "On the other hand, in the 2nd case, since everyone has access to the blockchain, everyone will know that Alice has called the function `write_message(message)` with the parameter `\"Hello!\"`. Therefore, to have the true updated value of the contract, they will follow Alice's directives and perform the call `write_message(\"Hello!\")` on their side.\n",
    "\n",
    "***\n",
    "\n",
    "<font color=\"7777aa\">Still in `smart_contract.py`, following your `SmartContractDefinition` class, create a 2nd class `SmartContractWritingOperation` that also inherits from `Certificate` and contains the fields:\n",
    "* `targetSmartContractHash` which contains the address (the hash) of the contract in question\n",
    "* `targetFunctionName` which contains the name of the function to call\n",
    "* `functionArgumentList` which contains the arguments to use in the function call\n",
    "\n",
    "Again, do not forget to rewrite the `build_payload()` function.</font>"
   ]
  },
  {
   "cell_type": "code",
   "execution_count": 105,
   "id": "a9b351c8",
   "metadata": {
    "ExecuteTime": {
     "end_time": "2025-02-12T08:24:20.620094Z",
     "start_time": "2025-02-12T08:24:20.540332Z"
    }
   },
   "outputs": [
    {
     "data": {
      "text/plain": [
       "'Success!'"
      ]
     },
     "execution_count": 105,
     "metadata": {},
     "output_type": "execute_result"
    }
   ],
   "source": [
    "from smart_contract import SmartContractWritingOperation\n",
    "\n",
    "dummySmartContractWritingOperation = SmartContractWritingOperation(\n",
    "    walletAlice.publicKey,\n",
    "    dummySmartContractDefinition.hash(),\n",
    "    'write_message',\n",
    "    [\"Bonjour!\"]\n",
    ")\n",
    "\n",
    "walletAlice.sign(dummySmartContractWritingOperation)\n",
    "\n",
    "assert dummySmartContractWritingOperation.__class__.__bases__[-1].__name__ == \"Certificate\"\n",
    "assert dummySmartContractWritingOperation.targetSmartContractHash == dummySmartContractDefinition.hash()\n",
    "assert dummySmartContractWritingOperation.targetFunctionName == 'write_message'\n",
    "assert dummySmartContractWritingOperation.functionArgumentList[0] == \"Bonjour!\"\n",
    "\n",
    "\"Success!\""
   ]
  },
  {
   "cell_type": "markdown",
   "id": "71a55835",
   "metadata": {},
   "source": [
    "Thanks to Python's \"interpreted\" nature, there's a simple way to call a function of an object via its name and a list of arguments. Two tools allow you to do this:\n",
    "* The function `getattr(object, name)` returns the attribute of the object `object` named `name`. For example, `getattr(dummyCertificate, 'issuerPublicKey')` will return the value of `issuerPublicKey` from the certificate `dummyCertificate`. If `name` designates a function, `getattr` will return the function, which you can then call by placing parentheses `()` after it.\n",
    "* The asterisk `*` \"explodes\" collections. Since it's a bit complicated to explain with words, let's show you an example: if you have a list of integers `myList = [0, 1, 2]` and any function `dummy_function(a, b, c)` that expects 3 parameters as input, calling `dummy_function(*myList)` is perfectly valid, because `*` will \"explode\" the list into three items `0`, `1`, and `2` in sequence.\n",
    "\n",
    "Here's a cell that shows you how to call the function `append(element)` of a Python list using this system."
   ]
  },
  {
   "cell_type": "code",
   "execution_count": 106,
   "id": "29096e38",
   "metadata": {
    "ExecuteTime": {
     "end_time": "2025-02-12T08:24:21.702391Z",
     "start_time": "2025-02-12T08:24:21.682092Z"
    }
   },
   "outputs": [
    {
     "data": {
      "text/plain": [
       "[\"Baldur's Gate 3\", 'GOTY']"
      ]
     },
     "execution_count": 106,
     "metadata": {},
     "output_type": "execute_result"
    }
   ],
   "source": [
    "myList = [\"Baldur's Gate 3\"]\n",
    "\n",
    "listAppendFunction = getattr(myList, 'append')\n",
    "listAppendFunction(*['GOTY'])\n",
    "\n",
    "myList"
   ]
  },
  {
   "cell_type": "markdown",
   "id": "1110936b",
   "metadata": {},
   "source": [
    "It's important to understand the difference between the two types of certificates we've created in this Assignment 5:\n",
    "- Certificates of type `SmartContractDefinition` are responsible for keeping the source code of smart contracts in memory on the blockchain. They also allow creating an instance of the smart contract as a manipulable Python object.\n",
    "- Certificates of type `SmartContractWritingOperation`, on the other hand, record changes in the state of the smart contract in the blockchain. Therefore, they must be used in conjunction with `SmartContractDefinition`: by making a change directly on the Python object generated by the `SmartContractDefinition`.\n",
    "\n",
    "***\n",
    "\n",
    "<font color=\"7777aa\">Write in `SmartContractWritingOperation` the function `apply_on_contract(contractPythonObject)` which, like the example above, executes the function `targetFunctionName` with the arguments `functionArgumentList` on the contract `contract`.</font>"
   ]
  },
  {
   "cell_type": "code",
   "execution_count": 107,
   "id": "de37b7a3",
   "metadata": {
    "ExecuteTime": {
     "end_time": "2025-02-12T08:24:25.363715Z",
     "start_time": "2025-02-12T08:24:25.344443Z"
    }
   },
   "outputs": [
    {
     "name": "stdout",
     "output_type": "stream",
     "text": [
      "Instantiated contract: <smart_contract.SmartContract object at 0x000002405BA2FE30>\n"
     ]
    },
    {
     "data": {
      "text/plain": [
       "'Success!'"
      ]
     },
     "execution_count": 107,
     "metadata": {},
     "output_type": "execute_result"
    }
   ],
   "source": [
    "smartContractObject = dummySmartContractDefinition.instantiate_contract()\n",
    "dummySmartContractWritingOperation.apply_on_contract(smartContractObject)\n",
    "\n",
    "assert smartContractObject.messages[0][11:] == \"Bonjour!\"\n",
    "\n",
    "\"Success!\""
   ]
  },
  {
   "cell_type": "markdown",
   "id": "683d92d0",
   "metadata": {},
   "source": [
    "We're almost done implementing smart contracts in our blockchain. There's just one last function to code, which will allow us to compute, at the current moment, the complete state of a smart contract. The process is as follows:\n",
    "- For a given smart contract (identified by its hash), we will traverse the entire blockchain in ascending order until we come across the `SmartContractDefinition` that declares it. We thus create a Python object from it.\n",
    "- From there, we continue to traverse the blockchain, and for each `SmartContractWritingOperation` we find along the way that concerns this smart contract, we will apply the modification conveyed by this `SmartContractWritingOperation`.\n",
    "- At the end of the traversal, we will have a Python instance of the smart contract that is as up-to-date as possible.\n",
    "\n",
    "***\n",
    "\n",
    "<font color=\"7777aa\">In your `SmartContractDefinition` class, implement the **static** function `get_smart_contract_at_current_state(blockchain, targetSmartContractHash)` that returns an instance of the smart contract in its current state according to the blockchain.\n",
    "\n",
    "This function must generate an instance of the contract and then apply to it, one by one, the writing operations concerning it found in the blockchain, to obtain its current state.\n",
    "    \n",
    "> **ATTENTION**: This time, the `timestamp` field proves useful because it is absolutely necessary to execute the writing operations in their order of issuance. Use `sorted(itemList, key=lambda x: x.timestamp)` to sort them chronologically.\n",
    "\n",
    "***\n",
    "\n",
    "Even if your function is correct, you will not pass the assert. Why? Complete the cell so that your blockchain has a sufficient state to take into account Alice's modification on the smart contract.</font>"
   ]
  },
  {
   "cell_type": "code",
   "execution_count": 108,
   "id": "57d45ec6",
   "metadata": {
    "ExecuteTime": {
     "end_time": "2025-02-12T08:26:50.665341Z",
     "start_time": "2025-02-12T08:26:50.367081Z"
    }
   },
   "outputs": [
    {
     "name": "stdout",
     "output_type": "stream",
     "text": [
      "Instantiated contract: <smart_contract.SmartContract object at 0x000002405B62AB10>\n"
     ]
    },
    {
     "data": {
      "text/plain": [
       "'Success!'"
      ]
     },
     "execution_count": 108,
     "metadata": {},
     "output_type": "execute_result"
    }
   ],
   "source": [
    "from certificate import Certificate\n",
    "\n",
    "reset_blockchain()\n",
    "\n",
    "dummySmartContractDefinition = SmartContractDefinition(walletAlice.publicKey, dummySmartContract)\n",
    "walletAlice.sign(dummySmartContractDefinition)\n",
    "\n",
    "dummySmartContractWritingOperation = SmartContractWritingOperation(\n",
    "    walletAlice.publicKey,\n",
    "    dummySmartContractDefinition.hash(),\n",
    "    'write_message',\n",
    "    ['Bonjour!']\n",
    ")\n",
    "\n",
    "walletAlice.sign(dummySmartContractWritingOperation)\n",
    "\n",
    "node1.new_certificate(dummySmartContractDefinition)\n",
    "node1.new_certificate(dummySmartContractWritingOperation)\n",
    "\n",
    "######################\n",
    "\n",
    "\n",
    "#add your code here\n",
    "\n",
    "# The blockchain node is set up so that it only creates a new block once it has collected 5 certificates.\n",
    "# In our example, we only added two certificates (the smart contract definition and the writing operation). \n",
    "# Without a block, these certificates aren’t committed to the blockchainn !\n",
    "# so, b y adding three additional (dummy) certificates, we reach the required count.\n",
    "\n",
    "\n",
    "dummyCertificate1 = Certificate(walletAlice.publicKey)\n",
    "walletAlice.sign(dummyCertificate1)\n",
    "node1.new_certificate(dummyCertificate1)\n",
    "\n",
    "dummyCertificate2 = Certificate(walletAlice.publicKey)\n",
    "walletAlice.sign(dummyCertificate2)\n",
    "node1.new_certificate(dummyCertificate2)\n",
    "\n",
    "dummyCertificate3 = Certificate(walletAlice.publicKey)\n",
    "walletAlice.sign(dummyCertificate3)\n",
    "node1.new_certificate(dummyCertificate3)\n",
    "\n",
    "\n",
    "######################\n",
    "\n",
    "smartContractObject = SmartContractDefinition.get_smart_contract_at_current_state(\n",
    "    node2.blockchain,\n",
    "    dummySmartContractDefinition.hash()\n",
    ")\n",
    "\n",
    "assert smartContractObject.messages[0][11:] == \"Bonjour!\"\n",
    "\n",
    "\"Success!\""
   ]
  },
  {
   "cell_type": "markdown",
   "id": "88d460fc",
   "metadata": {},
   "source": [
    "### Mini-project: Decentralized Application\n",
    "\n",
    "With what you've just implemented, you've understood: smart contracts are nothing more than a computer program embedded in the blockchain, with which people interact via writing certificates.\n",
    "\n",
    "We are talking about more than just Smart Contracts here; we are talking about **decentralized applications (DApps)** because this system allows for the automatic management of principles and rules on a completely decentralized network while remaining secure through the mechanisms of the blockchain.\n",
    "\n",
    "To conclude this last tutorial and the course on Blockchain and Applications, I propose you use your new tool to code a small decentralized application.\n",
    "\n",
    "Form a group of 4 people with others of your choice. Once your group is formed, come see me (during the course, on Teams, or by email) presenting the composition of your group. I will then give you a decentralized application topic that you must create using everything we have coded during the module, including this assignment. Your topic will include the following elements:\n",
    "* The objective of the application, in the broadest sense of the term\n",
    "* A more detailed description of all the functionalities that your DApp must present\n",
    "* A set of aids on the realization of this application\n",
    "\n",
    "**It is mandatory to implement the DApp using the blockchain system we implemented throughout the module.** You can, however, modify it any way you want to meet the requirements for the DApp (add new certificate types, change the smart contract system, etc...).\n",
    "\n",
    "With your code, you are required to **write a notebook** that showcases a demonstration of your DApp through a mini-scenario. Simulate users interacting with your application and show how things go.\n",
    "\n",
    "On the day of the last course (February 28th), you will have to orally present your notebook as well as your code and the choices you made in the design of the application.\n",
    "\n",
    "I remind you that this mini-project counts for 20% of the final grade.\n",
    "\n",
    "***\n",
    "\n",
    "Whatever the project you receive, you will need to write your contract in a `.py` file as if you were going to use it conventionally, unlike in this notebook where the mini-chat is written in a cell. Do not panic, this changes nothing since you store the source code in the blockchain in the form of a string. You will simply need to load the `.py` file as if it were a text file.\n",
    "\n",
    "To do this, here is a function that returns, as a string, the entire content of a **file located in the same folder as this notebook**."
   ]
  },
  {
   "cell_type": "code",
   "execution_count": 109,
   "id": "980590a4",
   "metadata": {
    "ExecuteTime": {
     "end_time": "2024-02-11T12:28:24.715844Z",
     "start_time": "2024-02-11T12:28:24.700192Z"
    }
   },
   "outputs": [],
   "source": [
    "def read_text_file(fileName):\n",
    "    with open(fileName, 'r', encoding='utf-8') as f:\n",
    "        return f.read()"
   ]
  }
 ],
 "metadata": {
  "kernelspec": {
   "display_name": "V2",
   "language": "python",
   "name": "python3"
  },
  "language_info": {
   "codemirror_mode": {
    "name": "ipython",
    "version": 3
   },
   "file_extension": ".py",
   "mimetype": "text/x-python",
   "name": "python",
   "nbconvert_exporter": "python",
   "pygments_lexer": "ipython3",
   "version": "3.12.8"
  }
 },
 "nbformat": 4,
 "nbformat_minor": 5
}
